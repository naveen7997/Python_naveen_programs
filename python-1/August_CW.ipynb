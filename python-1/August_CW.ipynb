{
 "cells": [
  {
   "cell_type": "markdown",
   "metadata": {},
   "source": [
    "*** Object Oriented Programing ***\n",
    "    * The phenominon of working with real world entities or real time objects will lead us to work with the concept called object oriented programming language.\n",
    "    * It is used for solving the real-time entity problems.\n",
    "    * It is used for storing and manupulating the real time entity data.\n",
    "    * As we are working with real word entities, the built in datatypes are not sufficient enough to store the details of real world entities and because real world entities will have various types, various properties, various structure, various functionality are present. These all  are not suitable to store or retrive the data using built-in datatypes.\n",
    "    * So we are going to use the user defined datatypes called class and object.\n",
    "    * Through class and object, we are creating out own status(properties) and behaviour (functionalities) related to real world emtities.\n",
    "Why oops ?\n",
    "    * Organize code and classify the data and function providing a clear structure.\n",
    "    * Easy maintainence and modification.\n",
    "    * Reduce code: reduce code difficulty, by enabling code reusability.\n",
    "    * Inheritence which helps us to inherit data from one class to another class.\n",
    "    * Encapsulation, where secure data by implemeting private variables.\n",
    "Class :\n",
    "    * It is a structure that specifies what to store and what to do.\n",
    "    * Class is a blueprint of an object : class is a plan to create an object.\n",
    "    * Class is a user defined datatype that specifies the status and behaviour of the real world entities.\n",
    "    * Status are nothing but properties about real world entities.\n",
    "    * Behaviour is nothing but the functionality operations of a real world entity.\n",
    "    * Behaviour is nothing but a feature that is provided for the entity.\n",
    "    * A class can be created by using the keyword called 'class'.\n",
    "    * By using the class, we are preparing the templates regarding the object.\n",
    "    Syntax :\n",
    "        class <classname>:\n",
    "            //Class properties and functions\n"
   ]
  },
  {
   "cell_type": "code",
   "execution_count": 5,
   "metadata": {},
   "outputs": [
    {
     "name": "stdout",
     "output_type": "stream",
     "text": [
      "Santhana collage Theledhu Santhana.thelidhu1@gmail.com 20029389301283\n",
      "Santhana collage Theledhu Santhana.thelidhu1@gmail.com 20029389301283\n",
      "{'__module__': '__main__', 'name': 'Santhana collage', 'address': 'Theledhu', 'website': 'Santhana.thelidhu1@gmail.com', 'phone': 20029389301283, '__dict__': <attribute '__dict__' of 'collage' objects>, '__weakref__': <attribute '__weakref__' of 'collage' objects>, '__doc__': None}\n",
      "Santhana collage Theledhu 20029389301283 Santhana.thelidhu1@gmail.com\n",
      "{}\n"
     ]
    }
   ],
   "source": [
    "class collage:\n",
    "    name = 'Santhana collage'\n",
    "    address = 'Theledhu'\n",
    "    website = 'Santhana.thelidhu1@gmail.com'\n",
    "    phone = 20029389301283\n",
    "    print(name,address,website,phone) #Accessing members inside the class\n",
    "print(collage.name,collage.address,collage.website,collage.phone) # Accessing members outside the class\n",
    "print(collage.__dict__)\n",
    "obj = collage() #Creating object for class \n",
    "print(obj.name,obj.address,obj.phone,obj.website) # Accessing values using object.\n",
    "print(obj.__dict__)"
   ]
  },
  {
   "cell_type": "code",
   "execution_count": 6,
   "metadata": {},
   "outputs": [
    {
     "name": "stdout",
     "output_type": "stream",
     "text": [
      "577 Naveen Kumar Tadipatri\n",
      "577 Naveen Kumar Tadipatri\n"
     ]
    }
   ],
   "source": [
    "#create a class customer with fields cust_id, cust_Name and cust_Address\n",
    "#Display customer details using class address (outside the classs)\n",
    "#Display the customer details using object \n",
    "class customer:\n",
    "    cust_id = 577\n",
    "    cust_Name = 'Naveen Kumar'\n",
    "    cust_Address = 'Tadipatri'\n",
    "print(customer.cust_id,customer.cust_Name,customer.cust_Address)\n",
    "obj = customer()\n",
    "print(obj.cust_id,obj.cust_Name,obj.cust_Address)"
   ]
  },
  {
   "cell_type": "code",
   "execution_count": 8,
   "metadata": {},
   "outputs": [
    {
     "name": "stdout",
     "output_type": "stream",
     "text": [
      "005 Back Name Address Thesluko 100 200 1cr\n",
      "005 Back Name Address Thesluko 100 200 1cr\n"
     ]
    }
   ],
   "source": [
    "class Bank:\n",
    "    code = '005'\n",
    "    name = 'Back Name'\n",
    "    Address = 'Address'\n",
    "    manager = 'Thesluko'\n",
    "    staff = 100\n",
    "    customers = 200\n",
    "    total_amount = '1cr'\n",
    "    print(code,name,Address,manager,staff,customers,total_amount)\n",
    "obj = Bank()\n",
    "print(obj.code,obj.name,obj.Address,obj.manager,obj.staff,obj.customers,obj.total_amount)"
   ]
  },
  {
   "cell_type": "markdown",
   "metadata": {},
   "source": [
    "*** Object ****\n",
    "\n",
    "* An object is a variable of type class. Object is an instance of a class. \n",
    "* Class will specify what to store and what to do, whereas the object will store what is specified by the class and does what it said object in real world entity.\n",
    "    Syntax:\n",
    "    Object name = class name (arguments)\n",
    "* Arguments are nothing but the data that we wanted to store it inside the object memory (sometimes arguments are not mandatory).\n",
    "* When we create an object after execution of the program, as soon as the control reaches the object creation statement then it creates the dictionary memory in the value-space. The address of the dictionary will be assigned to the object name inside the variable space.\n",
    "* After that, from the class all the class members will be derived to the object dictionary.\n",
    "* After derivation, the control will check whether there special_init_method is existing or not. If it exist then it automatically calls for that constructor method.\n",
    "* All the object members from the constructor will be stored in the object dictionary."
   ]
  },
  {
   "cell_type": "code",
   "execution_count": 1,
   "metadata": {},
   "outputs": [],
   "source": [
    "class sample:\n",
    "    x=10\n",
    "    y=20\n",
    "obj=sample()\n",
    "obj.m=100\n",
    "obj.n=200\n"
   ]
  },
  {
   "cell_type": "code",
   "execution_count": 3,
   "metadata": {},
   "outputs": [
    {
     "name": "stdout",
     "output_type": "stream",
     "text": [
      "<class '__main__.sample'>\n",
      "{'__module__': '__main__', 'x': 'Naveen', 'y': 'Ram', '__dict__': <attribute '__dict__' of 'sample' objects>, '__weakref__': <attribute '__weakref__' of 'sample' objects>, '__doc__': None}\n",
      "Naveen Ram\n",
      "Naveen Ram\n",
      "<__main__.sample object at 0x000002061F2EBC90>\n",
      "{'m': 100, 'n': 200}\n",
      "Naveen Ram 100 200\n"
     ]
    }
   ],
   "source": [
    "print(sample)\n",
    "print(sample.__dict__)\n",
    "print(sample.x,sample.y)\n",
    "sample.x='Naveen'\n",
    "sample.y='Ram'\n",
    "print(sample.x,sample.y)\n",
    "print(obj)\n",
    "print(obj.__dict__)\n",
    "print(obj.x,obj.y,obj.m,obj.n)\n"
   ]
  },
  {
   "cell_type": "markdown",
   "metadata": {},
   "source": [
    "*** Genric states or class state functionalities ***\n",
    "1. Initialization :\n",
    "    <class address>.<variable_name> = <new value>\n",
    "2. Fetch :\n",
    "    <class address>.<variable_name>\n",
    "3. Re-initialization :\n",
    "    <class address>.<variable_name> = <new value>\n",
    "4. Deletion :\n",
    "    del <class address>.<variable_name>"
   ]
  },
  {
   "cell_type": "code",
   "execution_count": 5,
   "metadata": {},
   "outputs": [
    {
     "name": "stdout",
     "output_type": "stream",
     "text": [
      "10 Rama Krishna\n",
      "10\n"
     ]
    }
   ],
   "source": [
    "class demo:\n",
    "    x=10\n",
    "#Initialization\n",
    "demo.y='Naveen'\n",
    "#Reinitialization\n",
    "demo.y='Rama Krishna'\n",
    "#Fetch \n",
    "print(demo.x,demo.y)\n",
    "#Delete\n",
    "del demo.y\n",
    "print(demo.x)"
   ]
  },
  {
   "cell_type": "code",
   "execution_count": 6,
   "metadata": {},
   "outputs": [
    {
     "name": "stdout",
     "output_type": "stream",
     "text": [
      "10 Rama Krishna\n",
      "10\n"
     ]
    }
   ],
   "source": [
    "class demo:\n",
    "    x=10\n",
    "    #Initialization\n",
    "    y='Naveen'\n",
    "    #Reinitialization\n",
    "    y='Rama Krishna'\n",
    "    #Fetch \n",
    "    print(x,y)\n",
    "    #Delete\n",
    "    del y\n",
    "    print(demo.x)"
   ]
  },
  {
   "cell_type": "code",
   "execution_count": 4,
   "metadata": {},
   "outputs": [
    {
     "name": "stdout",
     "output_type": "stream",
     "text": [
      "<class '__main__.school'>\n",
      "Vasavi\n"
     ]
    }
   ],
   "source": [
    "class school:\n",
    "    name='Vasavi'\n",
    "    strength = 1000\n",
    "    faculty = 100\n",
    "    departments = 8\n",
    "    address = 'Tadipatri'\n",
    "    rating = 4.0\n",
    "obj=school()\n",
    "print(school)\n",
    "del school\n",
    "# print(school)\n",
    "print(obj.name)"
   ]
  },
  {
   "cell_type": "code",
   "execution_count": 6,
   "metadata": {},
   "outputs": [
    {
     "name": "stdout",
     "output_type": "stream",
     "text": [
      "Percentage :  85.33333333333334\n",
      "Percentage :  92.66666666666666\n",
      "Percentage :  96.33333333333334\n"
     ]
    }
   ],
   "source": [
    "class School:\n",
    "    s_name = 'Vasavi'\n",
    "    s_address = 'Tadipatri'\n",
    "    def __init__(self,name,marks,rollno): \n",
    "        self.name = name\n",
    "        self.marks = marks\n",
    "        self.rollno = rollno\n",
    "        print('Percentage : ',(self.marks/300)*100)\n",
    "    \n",
    "student_1 = School('Naveen',256,'18701A0577')\n",
    "student_2 = School('Rama Krishna',278,'18701A0578')\n",
    "student_3 = School('Nitheesh',289,'18701A0576')"
   ]
  },
  {
   "cell_type": "code",
   "execution_count": 7,
   "metadata": {},
   "outputs": [
    {
     "name": "stdout",
     "output_type": "stream",
     "text": [
      "Polindrome\n"
     ]
    }
   ],
   "source": [
    "n=123454321\n",
    "def polindrome(n,r):\n",
    "    if n==0:\n",
    "        return r\n",
    "    return polindrome(n//10,r*10+n%10)\n",
    "\n",
    "if n==polindrome(n,0):\n",
    "    print('Polindrome')"
   ]
  },
  {
   "cell_type": "code",
   "execution_count": 4,
   "metadata": {},
   "outputs": [
    {
     "name": "stdout",
     "output_type": "stream",
     "text": [
      "{'i': 2, 'love': 2, 'india': 1, 'my': 1, 'country': 1}\n"
     ]
    }
   ],
   "source": [
    "s='i love india i love my country'\n",
    "t=''\n",
    "d={}\n",
    "for i in range(len(s)):\n",
    "    if s[i]==' ' or i==len(s)-1:\n",
    "        if i==len(s)-1:\n",
    "            t+=s[i]\n",
    "        if t not in d:\n",
    "            d[t]=1\n",
    "        else:\n",
    "            d[t]+=1\n",
    "        t=''\n",
    "    else:\n",
    "        t+=s[i]\n",
    "print(d)\n"
   ]
  },
  {
   "cell_type": "code",
   "execution_count": 3,
   "metadata": {},
   "outputs": [
    {
     "name": "stdout",
     "output_type": "stream",
     "text": [
      "['ene', 'neen', 'eenee']\n"
     ]
    }
   ],
   "source": [
    "s='naveeneenave'\n",
    "i=3\n",
    "l=[]\n",
    "def palindrome(x):\n",
    "    return 1 if x[::-1]==x else 0\n",
    "\n",
    "while(i<len(s)):\n",
    "    j=0\n",
    "    while(j+i<len(s)):\n",
    "        if(palindrome(s[j:j+i])):\n",
    "            l+=[s[j:j+i]]\n",
    "        j+=1\n",
    "    i+=1\n",
    "print(l)"
   ]
  },
  {
   "cell_type": "code",
   "execution_count": 1,
   "metadata": {},
   "outputs": [
    {
     "name": "stdout",
     "output_type": "stream",
     "text": [
      "CS_bt_21_7412@student.onlinedegree.IITM.ac.in\n"
     ]
    }
   ],
   "source": [
    "class Student:\n",
    "    ins='IITM'\n",
    "    def __init__(self,a,b,c,d):\n",
    "        self.br=a\n",
    "        self.de=b\n",
    "        self.yr=c\n",
    "        self.rno=d\n",
    "    def generate(self):\n",
    "        res=br.split(' ')\n",
    "        res1=res[0][0]+res[1][0]\n",
    "        res2=de[:2].lower()\n",
    "        res3=yr[2:]\n",
    "        res=res1+'_'+res2+'_'+res3+'_'+rno+'@student.onlinedegree.'+self.ins+'.ac.in'\n",
    "        self.mail_id = res\n",
    "        return self.mail_id\n",
    "br='Computer Science'\n",
    "de='BTech'\n",
    "yr='2021'\n",
    "rno='7412'\n",
    "obj=Student(br,de,yr,rno)\n",
    "print(obj.generate())"
   ]
  },
  {
   "cell_type": "code",
   "execution_count": 4,
   "metadata": {},
   "outputs": [
    {
     "name": "stdout",
     "output_type": "stream",
     "text": [
      "CS_bt_21_7412@student.onlinedegree.IITM.ac.in\n"
     ]
    }
   ],
   "source": [
    "class Student:\n",
    "    ins='IITM'\n",
    "    def __init__(self,a,b,c,d):\n",
    "        self.br=a\n",
    "        self.de=b\n",
    "        self.yr=c\n",
    "        self.rno=d\n",
    "        res=br.split(' ')\n",
    "        res1=res[0][0]+res[1][0]\n",
    "        res2=de[:2].lower()\n",
    "        res3=yr[2:]\n",
    "        res=res1+'_'+res2+'_'+res3+'_'+rno+'@student.onlinedegree.'+self.ins+'.ac.in'\n",
    "        self.mail_id = res\n",
    "        self.mail_id\n",
    "br='Computer Science'\n",
    "de='BTech'\n",
    "yr='2021'\n",
    "rno='7412'\n",
    "obj=Student(br,de,yr,rno)\n",
    "print(obj.mail)"
   ]
  },
  {
   "cell_type": "code",
   "execution_count": 43,
   "metadata": {},
   "outputs": [
    {
     "name": "stdout",
     "output_type": "stream",
     "text": [
      "        Sno                 Title                Auther               Price        \n",
      "        ---                 -----                ------               -----        \n",
      "       Book01              The book              Naveen                999         \n",
      "       Book02            RamaKrishna             Naveen              100008.9      \n",
      "        Sno                 Title                Auther               Price        \n",
      "        ---                 -----                ------               -----        \n",
      "       Book01              The book              Naveen                999         \n",
      "       Book02            RamaKrishna             Naveen              100008.9      \n"
     ]
    }
   ],
   "source": [
    "class Book:\n",
    "    sno='Book00'\n",
    "    all={}\n",
    "    def __init__(self,a,b,c):\n",
    "        self.title=a\n",
    "        self.auther=b\n",
    "        self.price=c\n",
    "        Book.sno=Book.sno[:-1]+str(int(Book.sno[-2:])+1)\n",
    "        self.no=Book.sno\n",
    "        Book.all[self.sno]=self\n",
    "    def view(self):\n",
    "        if self.no=='Book01':\n",
    "            print('Sno'.center(20),'Title'.center(20),'Auther'.center(20),'Price'.center(20))\n",
    "            print(('-'*len('sno')).center(20),('-'*len('title')).center(20),('-'*len('auther')).center(20),('-'*len('price')).center(20))\n",
    "        print(str(self.no).center(20),str(self.title).center(20),str(self.auther).center(20),str(self.price).center(20))\n",
    "        # print(f\"Title : {self.title}\\nAuther : {self.auther}\\nPrice : {self.price}\\n\")\n",
    "    \n",
    "    def display():\n",
    "        for i in Book.all:\n",
    "            Book.all[i].view()\n",
    "\n",
    "obj = Book('The book','Naveen',999)\n",
    "obj.view()\n",
    "obj1 = Book('RamaKrishna','Naveen',100008.9)\n",
    "obj1.view()  \n",
    "Book.display() "
   ]
  },
  {
   "cell_type": "code",
   "execution_count": 2,
   "metadata": {},
   "outputs": [],
   "source": [
    "class Bank:\n",
    "    bank_name='SBI'\n",
    "    IFSC='SBIN0000041'\n",
    "    address='TDP'\n",
    "    ROI=5.6\n",
    "    cust_no=0\n",
    "    cust_details={}\n",
    "    def __init__(self,name,phone,email,address,bal=500):\n",
    "        self.c_name=name\n",
    "        self.c_phone=phone\n",
    "        self.c_email=email\n",
    "        self.c_address=address\n",
    "        self.c_bal=bal\n",
    "        Bank.cust_no+=1\n",
    "        self.c_acc='101578'+str(self.cust_no)\n",
    "        Bank.cust_details[self.c_acc]=self\n",
    "    \n",
    "    def deposit(self):\n",
    "        self.c_bal+=int(input('Enter deposit amount : '))\n",
    "        print('Deposited successfully')\n",
    "\n",
    "    def withdraw(self):\n",
    "        amount=int(input('Enter Withdraw amount : '))\n",
    "        if self.c_bal-amount>=500:\n",
    "            self.c_bal-=amount\n",
    "            print(\"Amount Debited : \",amount)\n",
    "            print('Total balance : ',self.c_bal)\n",
    "        else:\n",
    "            print('Insufficient balance')\n",
    "    \n",
    "    def modify_details(self):\n",
    "        n=int(input('Enter option : \\n1.Name\\n2.Phone\\n3.Email\\n4.Address'))\n",
    "        match n:\n",
    "            case 1:\n",
    "                self.c_name=input('Enter new name : ')\n",
    "                print(\"Name succesfully updated\")\n",
    "            case 2:\n",
    "                self.c_phone=int(input('Enter new Phone number : '))\n",
    "                print(\"Mobile number updated succesfully\")\n",
    "            case 3:\n",
    "                self.email=input('Enter new E-mail : ')\n",
    "                print(\"E-mail updated succesfully\")\n",
    "            case 4:\n",
    "                self.c_address=input('Enter new Address : ')\n",
    "                print('Address updated succesfully')\n",
    "            case _:\n",
    "                print('Invalid input')\n",
    "                \n",
    "    @classmethod\n",
    "    def CRUD_operations(cls):\n",
    "        n=int(input('Enter Option : \\n1.Add account\\n2.Withdraw\\n3.Deposit\\n4.Modify'))\n",
    "        match n:\n",
    "            case 1: \n",
    "                Bank('Naveen',7997210130,'naveen.jinka1@gmail.com','Tadipatri')\n",
    "                Bank('RamaKrishna',89284978282,'ram.krishna1@gmail.com','Peta') \n",
    "            case 2:\n",
    "                n=input('Enter account number to withdraw : ')\n",
    "                cls.cust_details[n].withdraw()\n",
    "            case 3:\n",
    "                n=input('Enter account number to deposit : ')\n",
    "                cls.cust_details[n].deposit()\n",
    "            case 4:\n",
    "                n=input('Enter account number to modify : ')\n",
    "                cls.cust_details[n].modify_details()\n",
    "            case _:\n",
    "                print('Invalid option')\n",
    "    \n",
    "       \n"
   ]
  },
  {
   "cell_type": "code",
   "execution_count": 10,
   "metadata": {},
   "outputs": [
    {
     "name": "stdout",
     "output_type": "stream",
     "text": [
      "Invalid option\n"
     ]
    }
   ],
   "source": [
    "Bank.CRUD_operations()"
   ]
  },
  {
   "cell_type": "code",
   "execution_count": 4,
   "metadata": {},
   "outputs": [
    {
     "data": {
      "text/plain": [
       "{'1015781': <__main__.Bank at 0x2638e985c10>}"
      ]
     },
     "execution_count": 4,
     "metadata": {},
     "output_type": "execute_result"
    }
   ],
   "source": [
    "Bank.cust_details"
   ]
  },
  {
   "cell_type": "code",
   "execution_count": 16,
   "metadata": {},
   "outputs": [
    {
     "name": "stdout",
     "output_type": "stream",
     "text": [
      "1015781\n",
      "1015782\n",
      "1015783\n",
      "1015784\n",
      "1015785\n",
      "1015786\n",
      "1015787\n",
      "1015788\n",
      "1015789\n"
     ]
    }
   ],
   "source": [
    "for i in Bank.cust_details:\n",
    "    print(i) \n",
    "# obj.CRUD_operations()"
   ]
  },
  {
   "cell_type": "code",
   "execution_count": 16,
   "metadata": {},
   "outputs": [],
   "source": [
    "import sqlite3\n",
    "db = sqlite3.connect('Company.db')\n",
    "cus = db.cursor()\n",
    "cus.execute('drop table company')\n",
    "cus.execute('create table company (id varchar(20) primary key , name varchar(20), email varchar(20), phone big int, address varchar(30),gender varchar(10),doj date,cemail varchar(20) )')\n",
    "db.commit()\n",
    "db.close()"
   ]
  },
  {
   "cell_type": "code",
   "execution_count": 31,
   "metadata": {},
   "outputs": [],
   "source": [
    "class Company:\n",
    "    com_name = 'tcs'\n",
    "    com_address = 'Hyd'\n",
    "    website = 'www.tcs.co.in'\n",
    "    emp_count = 0\n",
    "    def __init__(self,name,email,phone,address,gender,doj):\n",
    "        self.name = name\n",
    "        self.email = email\n",
    "        self.phone = phone\n",
    "        self.address = address\n",
    "        self.gender = gender\n",
    "        self.doj = doj\n",
    "        self.com_email = self.name + str(self.phone)[-4:]+'@'+self.com_name+'com'\n",
    "        db = sqlite3.connect('Company.db')\n",
    "        cus = db.cursor()\n",
    "        Company.emp_count+=1\n",
    "        self.id='tcs00'+str(self.emp_count)\n",
    "        n = input('Enter 1 to commit : ')\n",
    "        if n=='1':\n",
    "            cus.execute('insert into company values(?,?,?,?,?,?,?,?)',[self.id,self.name,self.email,self.phone,self.address,self.gender,self.doj,self.com_email])\n",
    "            db.commit()\n",
    "            db.close()\n",
    "            print('Data entered')\n",
    "        else:\n",
    "            print('Data not commited')\n",
    "\n",
    "    @staticmethod\n",
    "    def display():\n",
    "        db = sqlite3.connect('Company.db')\n",
    "        cus = db.cursor()\n",
    "        res = cus.execute('select * from company')\n",
    "        for i in res:\n",
    "            print('Id : ',i[0],'\\nName : ',i[1],'\\nE-Mail : ',i[2],'\\nPhone : ',i[3],'\\nAddress : ',i[4],'\\nGender : ',i[5],'\\nDate of joining : ',i[6],'\\nCompany E-Mail : ',i[7])\n",
    "            print('*'*40)\n",
    "        db.commit()\n",
    "        db.close()\n",
    "\n",
    "\n",
    "\n",
    "\n"
   ]
  },
  {
   "cell_type": "code",
   "execution_count": 26,
   "metadata": {},
   "outputs": [
    {
     "name": "stdout",
     "output_type": "stream",
     "text": [
      "Data not commited\n",
      "Data not commited\n"
     ]
    }
   ],
   "source": [
    "emp1 = Company('Naveen','naveen.jinka1@gmail.com',7997210130,'Hyd','Male','07-06-2023')\n",
    "emp2 = Company('Ram','ram.thelidhu2@gmail.com',7997210230,'Hyd','Male','07-06-2023')"
   ]
  },
  {
   "cell_type": "code",
   "execution_count": 32,
   "metadata": {},
   "outputs": [
    {
     "name": "stdout",
     "output_type": "stream",
     "text": [
      "<class 'sqlite3.Cursor'>\n",
      "Id :  tcs001 \n",
      "Name :  Naveen \n",
      "E-Mail :  naveen.jinka1@gmail.com \n",
      "Phone :  7997210130 \n",
      "Address :  Hyd \n",
      "Gender :  Male \n",
      "Date of joining :  07-06-2023 \n",
      "Company E-Mail :  Naveen0130@tcscom\n",
      "****************************************\n",
      "Id :  tcs002 \n",
      "Name :  Ram \n",
      "E-Mail :  ram.thelidhu2@gmail.com \n",
      "Phone :  7997210230 \n",
      "Address :  Hyd \n",
      "Gender :  Male \n",
      "Date of joining :  07-06-2023 \n",
      "Company E-Mail :  Ram0230@tcscom\n",
      "****************************************\n"
     ]
    }
   ],
   "source": [
    "Company.display()"
   ]
  },
  {
   "cell_type": "code",
   "execution_count": 27,
   "metadata": {},
   "outputs": [
    {
     "data": {
      "text/plain": [
       "mappingproxy({'__module__': '__main__',\n",
       "              'com_name': 'tcs',\n",
       "              'com_address': 'Hyd',\n",
       "              'website': 'www.tcs.co.in',\n",
       "              'emp_count': 5,\n",
       "              '__init__': <function __main__.Company.__init__(self, name, email, phone, address, gender, doj)>,\n",
       "              'display': <staticmethod(<function Company.display at 0x000001AECCFE4400>)>,\n",
       "              '__dict__': <attribute '__dict__' of 'Company' objects>,\n",
       "              '__weakref__': <attribute '__weakref__' of 'Company' objects>,\n",
       "              '__doc__': None})"
      ]
     },
     "execution_count": 27,
     "metadata": {},
     "output_type": "execute_result"
    }
   ],
   "source": [
    "Company.__dict__"
   ]
  },
  {
   "cell_type": "code",
   "execution_count": 30,
   "metadata": {},
   "outputs": [
    {
     "data": {
      "text/plain": [
       "{'name': 'Naveen',\n",
       " 'email': 'naveen.jinka1@gmail.com',\n",
       " 'phone': 7997210130,\n",
       " 'address': 'Hyd',\n",
       " 'gender': 'Male',\n",
       " 'doj': '07-06-2023',\n",
       " 'com_email': 'Naveen0130@tcscom',\n",
       " 'id': 'tcs004'}"
      ]
     },
     "execution_count": 30,
     "metadata": {},
     "output_type": "execute_result"
    }
   ],
   "source": [
    "emp1.__dict__"
   ]
  },
  {
   "cell_type": "code",
   "execution_count": 29,
   "metadata": {},
   "outputs": [
    {
     "data": {
      "text/plain": [
       "{'name': 'Ram',\n",
       " 'email': 'ram.thelidhu2@gmail.com',\n",
       " 'phone': 7997210230,\n",
       " 'address': 'Hyd',\n",
       " 'gender': 'Male',\n",
       " 'doj': '07-06-2023',\n",
       " 'com_email': 'Ram0230@tcscom',\n",
       " 'id': 'tcs005'}"
      ]
     },
     "execution_count": 29,
     "metadata": {},
     "output_type": "execute_result"
    }
   ],
   "source": [
    "emp2.__dict__"
   ]
  },
  {
   "cell_type": "markdown",
   "metadata": {},
   "source": [
    "*** Generic/Class/Static ***\n",
    "* Method-1\n",
    "class Sample:\n",
    "    var1=val\n",
    "    //set of attributes or states\n",
    "\n",
    "* Method-2\n",
    "class Sample:\n",
    "    pass\n",
    "Sample.var1=val\n",
    "\n",
    "* Method-3\n",
    "class Sample:\n",
    "    @classmethod\n",
    "    def create(cls):\n",
    "        cls.var1=val\n",
    "Sample.create()\n",
    "\n",
    "\n",
    "*** Specific/Object/Non-Static ***\n",
    "* Method-1\n",
    "class Sample:\n",
    "    pass\n",
    "obj=Sample()\n",
    "def create_obj(self):\n",
    "    self.var1=val\n",
    "create_obj(obj)\n",
    "\n",
    "* Method-2\n",
    "class Sample:\n",
    "    def __init__(self,args):\n",
    "        self.var1=args\n",
    "obj=Sample(val)\n",
    "\n",
    "* Method-3\n",
    "class Sample:\n",
    "    def create(self,args):\n",
    "        self.var1=args\n",
    "obj=Sample()\n",
    "obj.create(val)\n",
    "or \n",
    "Sample.create(obj,var)"
   ]
  },
  {
   "cell_type": "markdown",
   "metadata": {},
   "source": [
    "*** List comprehensive ***\n",
    "-> In python, list comprehension is a simple and compact syntax for making a list out of a list.\n",
    "-> Its a quuick technique to make a new list by performing an operation on each item in the old one.\n",
    "-> List comprehennsion is much faster than using for loop to handle a list.\n",
    "-> A list comprehension is made up of brackets that hold the expression that is run for each element, as well as for loop that iterates through each element.\n",
    "\n",
    "Syntax :-\n",
    "    <var> = [<value> for <v> in <collection>]\n",
    "    <var> = [<value> for <v> in <collection> if <condition>]\n",
    "    <var> = [<value> if <condition> else <value1> for <v> in <collection>]\n",
    "    <var> = [<value> for <v> in <collection> for <v> in <collection>]\n",
    "    <var> = [<value> for <v> in <collection> for <v> in <collection> if <condition>]\n",
    "    <var> = [<value> if <condition> else <val1> for <v> in <collection> for <v> in <collection>]\n",
    "\n",
    "*** Tuple comprehensive ***\n",
    "-> Only tuple gereates generater object.\n",
    "\n",
    "*** Dictionary comprehensive ***\n",
    "Syntax :- \n",
    "    <var> = {<key>:<value> for <v> in <collection>}\n",
    "    <var> = {<key>:<value> for <v> in <collection> if <condition>}\n",
    "    <var> = {<key>:<value> if <condition> else <value1> for <v> in <collection>}\n",
    "    <var> = {<key>:<value> for <v> in <collection> for <v> in <collection>}\n",
    "    <var> = {<key>:<value> for <v> in <collection> for <v> in <collection> if <condition>}\n",
    "    <var> = {<key>:<value> if <condition> else <val1> for <v> in <collection> for <v> in <collection>}"
   ]
  },
  {
   "cell_type": "code",
   "execution_count": 8,
   "metadata": {},
   "outputs": [
    {
     "name": "stdout",
     "output_type": "stream",
     "text": [
      "['n', 'a', 'v', 'e', 'e', 'n']\n",
      "['n', 'a', 'v', 'e', 'e', 'n']\n"
     ]
    }
   ],
   "source": [
    "# List Comprehension\n",
    "s='NaVEeN'\n",
    "l=[[i,chr(ord(i)+32)]['A'<=i<='Z'] for i in s]\n",
    "print(l)\n",
    "print(l)"
   ]
  },
  {
   "cell_type": "code",
   "execution_count": 9,
   "metadata": {},
   "outputs": [
    {
     "name": "stdout",
     "output_type": "stream",
     "text": [
      "['n', 'a', 'v', 'e', 'e', 'n']\n",
      "[]\n"
     ]
    }
   ],
   "source": [
    "# Tuple Comprehension\n",
    "s='NaVeEN'\n",
    "l=(chr(ord(i)+32) if 'A'<=i<='Z' else i for i in s)\n",
    "print(list(l))\n",
    "print(list(l))"
   ]
  },
  {
   "cell_type": "code",
   "execution_count": 3,
   "metadata": {},
   "outputs": [
    {
     "name": "stdout",
     "output_type": "stream",
     "text": [
      "{'n', 'a', 'e', 'v'}\n",
      "{'n', 'a', 'e', 'v'}\n"
     ]
    }
   ],
   "source": [
    "# Set comprehension\n",
    "s='NaVEeN'\n",
    "l={[i,chr(ord(i)+32)]['A'<=i<='Z'] for i in s}\n",
    "print(l)\n",
    "print(l)"
   ]
  },
  {
   "cell_type": "code",
   "execution_count": 10,
   "metadata": {},
   "outputs": [
    {
     "name": "stdout",
     "output_type": "stream",
     "text": [
      "{'N': 'n', 'a': 'a', 'V': 'v', 'e': 'e', 'E': 'e'}\n"
     ]
    }
   ],
   "source": [
    "# Dictionary Comprehension\n",
    "s = 'NaVeEN'\n",
    "l = {i:chr(ord(i)+32) if 'A'<=i<='Z' else i for i in s}\n",
    "print(l)"
   ]
  },
  {
   "cell_type": "code",
   "execution_count": 14,
   "metadata": {},
   "outputs": [
    {
     "name": "stdout",
     "output_type": "stream",
     "text": [
      "@^4()\n"
     ]
    }
   ],
   "source": [
    "# WAP to extract only special charecters and asci numbers from the given string.\n",
    "s='A@j^4(j)'\n",
    "l = ''.join([i for i in s if not('A'<=i<='Z' or 'a'<=i<='z')])\n",
    "print(l)"
   ]
  },
  {
   "cell_type": "code",
   "execution_count": 15,
   "metadata": {},
   "outputs": [
    {
     "name": "stdout",
     "output_type": "stream",
     "text": [
      "%AasdjhbE^@f$\n"
     ]
    }
   ],
   "source": [
    "# WAP to extract special charecters with alphabets and eleminate the duplicate charecters.\n",
    "s='A@%^@%@$E%@18713hbjhasdf'\n",
    "l=''.join({i for i in s if not('0'<=i<='9')})\n",
    "print(l)"
   ]
  },
  {
   "cell_type": "code",
   "execution_count": 17,
   "metadata": {},
   "outputs": [
    {
     "name": "stdout",
     "output_type": "stream",
     "text": [
      "[1, 5, 6]\n"
     ]
    }
   ],
   "source": [
    "# Extract only integers using list comprehension.\n",
    "l=[['a','b','c'],[1,2.5,3+5j],[[10,5],5,6]]\n",
    "x=[j for i in l for j in i if type(j) is int]\n",
    "print(x)"
   ]
  },
  {
   "cell_type": "code",
   "execution_count": 36,
   "metadata": {},
   "outputs": [
    {
     "name": "stdout",
     "output_type": "stream",
     "text": [
      "[1, 4, 6, 16, 120, 36, 5040, 64, 362880, 100]\n"
     ]
    }
   ],
   "source": [
    "# WAP to extract even values if even values to perform square of the given value and to extract odd values to perform factorial of given value.\n",
    "from math import prod\n",
    "l=[1,2,3,4,5,6,7,8,9,10]\n",
    "x=[i**2 if i%2==0 else prod([k for k in range(1,i+1)]) for i in l]\n",
    "print(x)"
   ]
  },
  {
   "cell_type": "code",
   "execution_count": 2,
   "metadata": {},
   "outputs": [
    {
     "name": "stdout",
     "output_type": "stream",
     "text": [
      "[0, 1, 2, 3, 5, 7, 11, 13, 17, 19]\n"
     ]
    }
   ],
   "source": [
    "# WAP to extract all prime numbers from a given range\n",
    "def isPrime(n):\n",
    "    for i in range(2,n):\n",
    "        if n%i==0:\n",
    "            return 0\n",
    "    return 1\n",
    "x=[i for i in range(20) if isPrime(i)]\n",
    "print(x)"
   ]
  },
  {
   "cell_type": "markdown",
   "metadata": {},
   "source": [
    "*** SQL Connection ***\n",
    "1. Import :\n",
    "    Import sqlite3\n",
    "2. Establish the connection :\n",
    "    <connection> = sqlite3.connect(<Database>)\n",
    "3. Create cursor :\n",
    "    <cursor> = <connection>.cursor()\n",
    "4. Execute querry :\n",
    "    <cursor>.execute(<sql querry>)\n",
    "5. Commit :\n",
    "    <connection>.commit()\n",
    "6. Close connection :\n",
    "    <connection>.close()\n"
   ]
  },
  {
   "cell_type": "code",
   "execution_count": 7,
   "metadata": {},
   "outputs": [],
   "source": [
    "import sqlite3\n",
    "\n",
    "db=sqlite3.connect(\"test_data\")\n",
    "# print(db)\n",
    "cus=db.cursor()\n",
    "\n",
    "def create_table(cus,querry):\n",
    "    print(cus.rowcount,'Rows are present')\n",
    "    cus.execute(querry)\n",
    "    print(cus.rowcount,'Rows are after')\n",
    "    db.commit()\n",
    "\n",
    "q=\"create table employee(id int primary key, name varchar(20))\"\n",
    "# create_table(cus,q) \n",
    "# db.close()"
   ]
  },
  {
   "cell_type": "code",
   "execution_count": 9,
   "metadata": {},
   "outputs": [
    {
     "name": "stdout",
     "output_type": "stream",
     "text": [
      "Rows present :  -1\n",
      "Rows after :  1\n"
     ]
    }
   ],
   "source": [
    "def insert_row(cus,*val):\n",
    "    print('Rows present : ',cus.rowcount)\n",
    "    cus.execute(\"insert into employee (id,name) values (?,?)\",val)\n",
    "    print('Rows after : ',cus.rowcount)\n",
    "    db.commit()\n",
    "\n",
    "insert_row(cus,4,'Ram')"
   ]
  },
  {
   "cell_type": "code",
   "execution_count": 11,
   "metadata": {},
   "outputs": [
    {
     "name": "stdout",
     "output_type": "stream",
     "text": [
      "Rows count :  -1\n",
      "Rows count :  -1\n",
      "[(1, 'ram'), (2, 'ram'), (3, 'Ram'), (4, 'Ram')]\n"
     ]
    }
   ],
   "source": [
    "def featch_all(cus,table):\n",
    "    print('Rows count : ',cus.rowcount)\n",
    "    cus.execute(f\"select * from {table}\")\n",
    "    print('Rows count : ',cus.rowcount)\n",
    "    res=cus.fetchall()\n",
    "    print(res)\n",
    "    db.commit()\n",
    "\n",
    "featch_all(cus,'employee')"
   ]
  },
  {
   "cell_type": "code",
   "execution_count": 16,
   "metadata": {},
   "outputs": [
    {
     "name": "stdout",
     "output_type": "stream",
     "text": [
      "('1', 'Ram')\n",
      "('2', 'Krishna')\n",
      "('3', 'Tharun')\n",
      "-1  Record effected\n"
     ]
    }
   ],
   "source": [
    "# SQL connection Curd operations using decorators\n",
    "import sqlite3\n",
    "def dbconnect(fun):\n",
    "    def inner():\n",
    "        con = sqlite3.connect('Student.db')\n",
    "        cur = con.cursor()\n",
    "        fun(cur)\n",
    "        print(cur.rowcount,' Record effected')\n",
    "        con.commit()\n",
    "        con.close()\n",
    "    return inner\n",
    "\n",
    "@dbconnect\n",
    "def create(cur):\n",
    "    cur.execute('create table Student (ID varchar(20),Name varchar(20))')\n",
    "\n",
    "# create()\n",
    "\n",
    "@dbconnect\n",
    "def insert(cur):\n",
    "    cur.execute('insert into Student values(?,?)',(input('Enter ID :'),input('Enter Name :')))\n",
    "\n",
    "# insert()\n",
    "\n",
    "@dbconnect\n",
    "def update(cur):\n",
    "    cur.execute('update Student set name=? where id=?',(input('Enter Name to update :'),input('Enter id :')))\n",
    "\n",
    "# update()\n",
    "\n",
    "@dbconnect\n",
    "def select(cur):\n",
    "    res = cur.execute('select * from Student')\n",
    "    for i in res:\n",
    "        print(i)\n",
    "\n",
    "select()"
   ]
  },
  {
   "cell_type": "code",
   "execution_count": 8,
   "metadata": {},
   "outputs": [
    {
     "name": "stdout",
     "output_type": "stream",
     "text": [
      "-1  Record effected\n"
     ]
    }
   ],
   "source": [
    "import sqlite3\n",
    "\n",
    "\n",
    "def dbconnect(fun):\n",
    "    def inner(*args):\n",
    "        con = sqlite3.connect('Bank.db')\n",
    "        cur = con.cursor()\n",
    "        fun(*args,cur)\n",
    "        print(cur.rowcount,' Record effected')\n",
    "        con.commit()\n",
    "        con.close()\n",
    "    return inner\n",
    "\n",
    "@dbconnect\n",
    "def create(cur):\n",
    "    cur.execute('drop table trans')\n",
    "    cur.execute('create table trans(tid int primary key,acno varchar(20),name varchar(20),status varchar(10),amount int,balance int)')\n",
    "\n",
    "# create()\n"
   ]
  },
  {
   "cell_type": "code",
   "execution_count": 3,
   "metadata": {},
   "outputs": [],
   "source": [
    "import sqlite3\n",
    "\n",
    "def dbconnect(fun):\n",
    "    def inner(*args):\n",
    "        con = sqlite3.connect('Bank.db')\n",
    "        cur = con.cursor()\n",
    "        fun(*args,cur)\n",
    "        print(cur.rowcount,' Record effected')\n",
    "        con.commit()\n",
    "        con.close()\n",
    "    return inner\n",
    "\n",
    "\n",
    "@dbconnect\n",
    "def trans_add(val,cur):\n",
    "    print(type(val),val)\n",
    "    cur.execute('insert into trans values(?,?,?,?,?,?)',val)\n",
    "\n",
    "@dbconnect\n",
    "def trans_show(n,cur):\n",
    "    if n==1:\n",
    "        res = cur.execute('select * from trans')\n",
    "    else:\n",
    "        res = cur.execute('select * from trans where acno=?',(input('Enter Account number : '),))\n",
    "    for i in res:\n",
    "        print(i)\n",
    "\n",
    "@dbconnect\n",
    "def create(cur):\n",
    "    cur.execute('create table Bankacc(acno varchar(20) primary key,Name varchar(20),Email varchar(20),password varchar(15),phone number,balance int)')\n",
    "\n",
    "# create()\n",
    "\n",
    "@dbconnect\n",
    "def select(ch,cur):\n",
    "    if ch==1:\n",
    "        res = cur.execute('select * from Bankacc')\n",
    "    else:\n",
    "        res = cur.execute('select * from Bankacc where acno=?',(input('Enter Account number : '),))\n",
    "    for i in res:\n",
    "        print(i)\n",
    "\n",
    "# select()\n",
    "\n",
    "@dbconnect\n",
    "def deposit(val,cur):\n",
    "    cur.execute('update Bankacc set balance=(select balance from Bankacc)+? where acno=?',val)\n",
    "\n",
    "@dbconnect\n",
    "def insert(val,cur):\n",
    "    cur.execute('insert into Bankacc values(?,?,?,?,?,?)',val)\n",
    "\n",
    "# insert()\n",
    "\n",
    "\n",
    "class BankAccount:\n",
    "    bank_name = 'SBI'\n",
    "    bank_ifsc_code = 'sbi1233456'\n",
    "    t_id = 0\n",
    "    customers =0\n",
    "    def __init__(self,name,email,password,phone,balance=1500):\n",
    "        self.name = name\n",
    "        BankAccount.customers+=1\n",
    "        self.acno = 'sbi0000'+str(BankAccount.customers)\n",
    "        self.email = email\n",
    "        self.password = password\n",
    "        self.phone = phone\n",
    "        self.balance = balance\n",
    "        insert((self.acno,self.name,self.email,self.password,self.phone,self.balance))\n",
    "\n",
    "    @dbconnect\n",
    "    @staticmethod\n",
    "    def deposit(cur):\n",
    "        acno = input('Enter Acccount number : ')\n",
    "        amount = int(input('Enter Amount to deposit : '))\n",
    "        ids = cur.execute('select tid from trans').fetchall()\n",
    "        res = cur.execute('select acno,Name,balance from Bankacc where acno=?',(acno,)).fetchone()\n",
    "        deposit((amount,acno))\n",
    "        val = (ids[-1][0]+1,res[0],res[1],'Deposite',amount,res[2]+amount)\n",
    "        cur.execute('insert into trans values(?,?,?,?,?,?)',val)\n",
    "    \n",
    "    @staticmethod\n",
    "    @dbconnect\n",
    "    def withdraw(cur):\n",
    "        acno = input('Enter Acccount number : ')\n",
    "        amount = int(input('Enter amount to withdraw : '))\n",
    "        res = cur.execute('select balance from Bankacc where acno=?',(acno,)).fetchone()\n",
    "        if res[0]-amount>1500:\n",
    "            cur.execute('update Bankacc set balance=? where acno=?',(res[0]-amount,acno))\n",
    "            BankAccount.t_id+=1\n",
    "            ids = cur.execute('select tid from trans').fetchall()\n",
    "            res1 = cur.execute('select acno,Name,balance from Bankacc where acno=?',(acno,)).fetchone()\n",
    "            val = (ids[-1][0]+1,res1[0],res1[1],'Withdraw',amount,res[0]-amount)\n",
    "            cur.execute('insert into trans values(?,?,?,?,?,?)',val)\n",
    "        else:\n",
    "            print('Insufficient balance')\n",
    "\n",
    "    def update_mob_mail(cur):\n",
    "        acno = input('Enter Account number : ')\n",
    "        new = eval(input('Enter Mobile number or Mail-id'))\n",
    "        if type(new) is int:\n",
    "            cur.execute('update Bankacc set phone=? where acno=?',(new,acno))\n",
    "        else:\n",
    "            cur.execute('update Bankacc set Email=? where acno=?',(new,acno))\n",
    "    \n",
    "    @classmethod\n",
    "    def display(cls):\n",
    "        n = int(input('Enter 1 to display all'))\n",
    "        select(n)\n",
    "\n",
    "# BankAccount('RamaKrishna','ramkrishna@gmail.com','NaveenRam',7997210130,100000)\n",
    "# BankAccount('Krishna','krishna@gmail.com','NaveenRam',7997210230,200000)\n",
    "# BankAccount('Rama','ram@gmail.com','NaRam',7887210130,330000)\n",
    "# BankAccount('Naveen','Naveen@gmail.com','NaveenRam',7997228730,900000)\n",
    "        \n"
   ]
  },
  {
   "cell_type": "code",
   "execution_count": 9,
   "metadata": {},
   "outputs": [
    {
     "name": "stdout",
     "output_type": "stream",
     "text": [
      "('sbi00000', 'RamaKrishna', 'ramkrishna@gmail.com', 'NaveenRam', 7997210130, 100001)\n",
      "('sbi00001', 'Krishna', 'krishna@gmail.com', 'NaveenRam', 7997210230, 100005)\n",
      "('sbi00002', 'Rama', 'ram@gmail.com', 'NaRam', 7887210130, 100118)\n",
      "('sbi00003', 'Naveen', 'Naveen@gmail.com', 'NaveenRam', 7997228730, 100900)\n",
      "-1  Record effected\n"
     ]
    }
   ],
   "source": [
    "BankAccount.display()"
   ]
  },
  {
   "cell_type": "code",
   "execution_count": 3,
   "metadata": {},
   "outputs": [
    {
     "name": "stdout",
     "output_type": "stream",
     "text": [
      "1  Record effected\n",
      "<class 'tuple'> (5, 'sbi00000', 'RamaKrishna', 'Deposite', 1, 100001)\n",
      "1  Record effected\n",
      "-1  Record effected\n"
     ]
    }
   ],
   "source": [
    "BankAccount.deposit()"
   ]
  },
  {
   "cell_type": "code",
   "execution_count": 5,
   "metadata": {},
   "outputs": [
    {
     "name": "stdout",
     "output_type": "stream",
     "text": [
      "1  Record effected\n"
     ]
    }
   ],
   "source": [
    "BankAccount.withdraw()"
   ]
  },
  {
   "cell_type": "code",
   "execution_count": 8,
   "metadata": {},
   "outputs": [
    {
     "name": "stdout",
     "output_type": "stream",
     "text": [
      "(1, 'sbi00002', 'Rama', 'Deposite', 5000, 105000)\n",
      "(2, 'sbi00001', 'Krishna', 'Deposite', 1000, 101000)\n",
      "(3, 'sbi00002', 'Rama', 'Deposite', 120, 100320)\n",
      "(4, 'sbi00001', 'Krishna', 'Deposite', 5, 101005)\n",
      "(5, 'sbi00000', 'RamaKrishna', 'Deposite', 1, 100001)\n",
      "(6, 'sbi00002', 'Rama', 'Withdraw', 2, 100118)\n",
      "-1  Record effected\n"
     ]
    }
   ],
   "source": [
    "trans_show(1)"
   ]
  },
  {
   "cell_type": "code",
   "execution_count": 1,
   "metadata": {},
   "outputs": [],
   "source": [
    "class Singer:\n",
    "    all = {}\n",
    "\n",
    "    def __init__(self,name,address,dob,noa):\n",
    "        self.id = 'Singer@'+str(len(Singer.all)+1)\n",
    "        self.name = name\n",
    "        self.address = address\n",
    "        self.dob = dob\n",
    "        self.noa = noa\n",
    "        Singer.all[self.id] = self\n",
    "    \n",
    "    @classmethod\n",
    "    def display(cls):\n",
    "        n = input('Enter 1 to display all singers details : ')\n",
    "        if n=='1':\n",
    "            print('ID'.center(20),'Name'.center(20),'Address'.center(20),'Date of Birth'.center(20),'Number of albums'.center(20))\n",
    "            print('*'*108)\n",
    "            for i in cls.all.values():\n",
    "                print(str(i.id).center(20),i.name.center(20),i.address.center(20),i.dob.center(20),str(i.noa).center(20))\n",
    "        else:\n",
    "            ser = input('Enter Singer id to display : ')\n",
    "            print('ID'.center(20),'Name'.center(20),'Address'.center(20),'Date of Birth'.center(20),'Number of albums'.center(20))\n",
    "            print('*'*108)\n",
    "            for i in cls.all.values():\n",
    "                if i.id == ser:\n",
    "                    print(str(i.id).center(20),i.name.center(20),i.address.center(20),i.dob.center(20),str(i.noa).center(20))\n",
    "                    break\n",
    "            else:\n",
    "                print('No such singer with that id exist')\n",
    "    \n",
    "    @classmethod\n",
    "    def count_albums(cls):\n",
    "        count = 0\n",
    "        for i in cls.all.values():\n",
    "            count+=i.noa\n",
    "        print('Total number of albums in all singers :',count)\n",
    "    \n",
    "    @classmethod\n",
    "    def modify_albums(cls):\n",
    "        ser = input('Enter singer Id to modify')\n",
    "        for i in cls.all.values():\n",
    "            if i.id == ser:\n",
    "                i.noa = int(input('Enter Singer albums to modify : '))\n",
    "                break\n",
    "        else:\n",
    "            print('No such singer with that id exist')\n",
    "\n",
    "    @classmethod\n",
    "    def delete_singer(cls):\n",
    "        ser = input('Enter singer id to delete :')\n",
    "        for i in cls.all.values():\n",
    "            if i.id == ser:\n",
    "                del cls.all[i.id]\n",
    "                break\n",
    "        else:\n",
    "            print('No such singer with that id exist')\n",
    "\n",
    "    @classmethod\n",
    "    def Operations(cls):\n",
    "        n = input('Enter Options : 1.Create\\t2.Count albums\\t3.Display\\t4.Modify\\t.Delete')\n",
    "        match n:\n",
    "            case '1':\n",
    "                Singer('Naveen','Hyd','20-9-2018',8)\n",
    "                Singer('Krishna','Syc','23-9-2028',12)\n",
    "                Singer('Swetha','Hyd','20-9-2012',2)\n",
    "                Singer('Tharun','Kdp','20-9-2008',4)\n",
    "                Singer('Susmitha','Tdp','20-9-1998',18)\n",
    "            case '2':\n",
    "                cls.count_albums()\n",
    "            case '3':\n",
    "                cls.display()\n",
    "            case '4':\n",
    "                cls.modify_albums()\n",
    "            case '5':\n",
    "                cls.delete_singer()\n",
    "            case _:\n",
    "                print('Enter valid Operation') "
   ]
  },
  {
   "cell_type": "code",
   "execution_count": 5,
   "metadata": {},
   "outputs": [
    {
     "name": "stdout",
     "output_type": "stream",
     "text": [
      "         ID                  Name               Address           Date of Birth       Number of albums  \n",
      "************************************************************************************************************\n",
      "      Singer@1              Naveen                Hyd               20-9-2018                8          \n",
      "      Singer@2             Krishna                Syc               23-9-2028                12         \n",
      "      Singer@3              Swetha                Hyd               20-9-2012                2          \n",
      "      Singer@4              Tharun                Kdp               20-9-2008                4          \n",
      "      Singer@5             Susmitha               Tdp               20-9-1998                18         \n",
      "      Singer@6              Naveen                Hyd               20-9-2018                8          \n",
      "      Singer@7             Krishna                Syc               23-9-2028                12         \n",
      "      Singer@8              Swetha                Hyd               20-9-2012                2          \n",
      "      Singer@9              Tharun                Kdp               20-9-2008                4          \n",
      "     Singer@10             Susmitha               Tdp               20-9-1998                18         \n",
      "     Singer@11              Naveen                Hyd               20-9-2018                8          \n",
      "     Singer@12             Krishna                Syc               23-9-2028                12         \n",
      "     Singer@13              Swetha                Hyd               20-9-2012                2          \n",
      "     Singer@14              Tharun                Kdp               20-9-2008                4          \n",
      "     Singer@15             Susmitha               Tdp               20-9-1998                18         \n"
     ]
    }
   ],
   "source": [
    "Singer.Operations() "
   ]
  },
  {
   "cell_type": "code",
   "execution_count": 6,
   "metadata": {},
   "outputs": [],
   "source": [
    "Singer.modify_albums()"
   ]
  },
  {
   "cell_type": "code",
   "execution_count": 12,
   "metadata": {},
   "outputs": [
    {
     "name": "stdout",
     "output_type": "stream",
     "text": [
      "         ID                  Name               Address           Date of Birth       Number of albums  \n",
      "************************************************************************************************************\n",
      "      Singer@1              Naveen                Hyd               20-9-2018                16         \n",
      "      Singer@2             Krishna                Syc               23-9-2028                12         \n",
      "      Singer@3              Swetha                Hyd               20-9-2012                2          \n",
      "      Singer@4              Tharun                Kdp               20-9-2008                4          \n",
      "      Singer@5             Susmitha               Tdp               20-9-1998                18         \n",
      "      Singer@6              Naveen                Hyd               20-9-2018                8          \n",
      "      Singer@7             Krishna                Syc               23-9-2028                12         \n",
      "      Singer@8              Swetha                Hyd               20-9-2012                2          \n",
      "      Singer@9              Tharun                Kdp               20-9-2008                4          \n",
      "     Singer@10             Susmitha               Tdp               20-9-1998                18         \n",
      "     Singer@11              Naveen                Hyd               20-9-2018                8          \n",
      "     Singer@12             Krishna                Syc               23-9-2028                12         \n",
      "     Singer@13              Swetha                Hyd               20-9-2012                2          \n",
      "     Singer@14              Tharun                Kdp               20-9-2008                4          \n"
     ]
    }
   ],
   "source": [
    "Singer.Operations() "
   ]
  },
  {
   "cell_type": "code",
   "execution_count": 20,
   "metadata": {},
   "outputs": [
    {
     "name": "stdout",
     "output_type": "stream",
     "text": [
      "No such singer with that id exist\n"
     ]
    }
   ],
   "source": [
    "Singer.delete_singer()"
   ]
  },
  {
   "cell_type": "code",
   "execution_count": 13,
   "metadata": {},
   "outputs": [
    {
     "name": "stdout",
     "output_type": "stream",
     "text": [
      "Hi i am naveen\n",
      "I am learing\n",
      "Finish it\n",
      "Then end it\n",
      "Charecters : 38 Words : 11 Lines : 3\n"
     ]
    }
   ],
   "source": [
    "fp = open('test.txt','r')\n",
    "res=fp.read()\n",
    "c,w,l=0,0,0\n",
    "for i in res:\n",
    "    if i in ' ':\n",
    "        w+=1\n",
    "    elif i in '\\n':\n",
    "        w+=1\n",
    "        l+=1\n",
    "    else:\n",
    "        c+=1\n",
    "print('Charecters :',c,'Words :',w,'Lines :',l)\n"
   ]
  },
  {
   "cell_type": "code",
   "execution_count": 14,
   "metadata": {},
   "outputs": [
    {
     "name": "stdout",
     "output_type": "stream",
     "text": [
      "         ID                  Name               Address           Date of Birth       Number of albums  \n",
      "************************************************************************************************************\n",
      "         2                  Seetha                Tdp               16-05-2001               9           \n",
      "         3                  Bheem              Kacheguda            20-02-2003               9           \n",
      "         4                  naveen                hyd               08-09-1999               18          \n"
     ]
    }
   ],
   "source": [
    "import sqlite3\n",
    "def dbconnect(fun):\n",
    "    def innner(*args):\n",
    "        con = sqlite3.connect('Singer.db')\n",
    "        cur = con.cursor()\n",
    "        res = fun(*args,cur)\n",
    "        con.commit()\n",
    "        con.close()\n",
    "        return res \n",
    "    return innner\n",
    "\n",
    "@dbconnect\n",
    "def singer_count(cur):\n",
    "    res = cur.execute('select id from Singer').fetchall()\n",
    "    max = 0\n",
    "    for i in res:\n",
    "        if max<int(i[0]):\n",
    "            max=int(i[0])\n",
    "    return max\n",
    "    \n",
    "\n",
    "@dbconnect\n",
    "def insert_singer(val,cur):\n",
    "    cur.execute('insert into Singer values(?,?,?,?,?)',val)\n",
    "\n",
    "@dbconnect\n",
    "def modify_singer(cur):\n",
    "    ser = input('Enter Singer id to modify :')\n",
    "    ans = int(input('Enter albums to modify : '))\n",
    "    cur.execute('update Singer set noa=? where id=?',(ans,ser))\n",
    "\n",
    "@dbconnect\n",
    "def display(cur):\n",
    "    res = cur.execute('select * from Singer').fetchall()\n",
    "    print('ID'.center(20),'Name'.center(20),'Address'.center(20),'Date of Birth'.center(20),'Number of albums'.center(20))\n",
    "    print('*'*108)\n",
    "    for i in res:\n",
    "        for j in i:\n",
    "            print(str(j).center(20),end=' ')\n",
    "        print()\n",
    "\n",
    "@dbconnect\n",
    "def delete_singer(cur):\n",
    "    ser = input('Enter singer Id to delete :')\n",
    "    cur.execute('delete from Singer where id=?',ser)\n",
    "\n",
    "def operations():\n",
    "    n=input('Enter Option:\\t1.Insert \\t2.Modify\\t3.Delete\\t4.Display')\n",
    "    match n:\n",
    "        case '1':\n",
    "            val=(singer_count()+1,input('Enter name :'),input('Enter address : '),input('Enter Date of birth :'),int(input('Enter Number of albums :')))\n",
    "            insert_singer(val)\n",
    "        case '2':\n",
    "            modify_singer()\n",
    "        case '3':\n",
    "            delete_singer()\n",
    "        case '4':\n",
    "            display()\n",
    "\n",
    "        \n",
    "operations()\n"
   ]
  },
  {
   "cell_type": "code",
   "execution_count": 45,
   "metadata": {},
   "outputs": [],
   "source": [
    "@dbconnect\n",
    "def create_tab(cur):\n",
    "    cur.execute('create table Singer (id varchar(20) primary key,name varchar(30),address varchar(30),dob date,noa int)')\n",
    "# create_tab()"
   ]
  },
  {
   "cell_type": "markdown",
   "metadata": {},
   "source": [
    "*** Parsing technique ***\n",
    " => Parsing is a phenominon of converting any data format to another data format.\n",
    " => Parsing is the phenominon of converting any data format to string format/ any other format.\n",
    "* Parser :\n",
    " => It is a transator which will parse our data into specified format.\n",
    " => There are any parsers available in the market.\n",
    "    1. Lexical parsor\n",
    "    2. yacc parsor\n",
    "    3. xml parsor\n",
    "    4. JSON parsor \n",
    "    5. Pickle parsor\n",
    "\n",
    "* JSON parsing technique :\n",
    " => JSON is stands for JavaScript object notation. It's annotation where the data will be in the form of javascript object will be completly similar to the string type.\n",
    " => Coversion posible without data loss.\n",
    " => Python to JSON - Serialization. We can use dump or dumps methods to convert.\n",
    " => JSON to Python - Deseralization. We can use load or loads methods to convert.\n",
    " \n"
   ]
  },
  {
   "cell_type": "markdown",
   "metadata": {},
   "source": [
    "*** JSON ***\n",
    "1. Import :\n",
    "    import json\n",
    "2. Dumping :\n",
    "    => json.dumps(<data>)\n",
    "    => json.dump(<data>,<file pointer>)\n",
    "3. Loading :\n",
    "    => json.loads(<data>)\n",
    "    => json.load(<data>,<file pointer>)\n",
    "    "
   ]
  },
  {
   "cell_type": "code",
   "execution_count": 14,
   "metadata": {},
   "outputs": [
    {
     "name": "stdout",
     "output_type": "stream",
     "text": [
      "{10: 20.4, 'True': False, 'Hello Prapancham': (10, 30), 11: [10, 203, 4], None: 2} <class 'dict'>\n",
      "{\"10\": 20.4, \"True\": false, \"Hello Prapancham\": [10, 30], \"11\": [10, 203, 4], \"null\": 2} <class 'str'>\n"
     ]
    }
   ],
   "source": [
    "# Dumps\n",
    "\n",
    "import json\n",
    "\n",
    "# JSON will not accept complex, bytes, set.\n",
    "# Dict will not accept mutable datatypes as keys. \n",
    "\n",
    "d={10:20.4,'True':False,'''Hello Prapancham''':(10,30),11:[10,203,4],None:110,None:2} \n",
    "print(d,type(d))\n",
    "\n",
    "res = json.dumps(d)\n",
    "print(res,type(res))\n"
   ]
  },
  {
   "cell_type": "code",
   "execution_count": 9,
   "metadata": {},
   "outputs": [
    {
     "name": "stdout",
     "output_type": "stream",
     "text": [
      "[10, 2, 3]\n"
     ]
    }
   ],
   "source": [
    "#Dumps\n",
    "import json \n",
    "data = (10,2,3)\n",
    "res = json.dumps(data)\n",
    "print(res)"
   ]
  },
  {
   "cell_type": "code",
   "execution_count": 17,
   "metadata": {},
   "outputs": [
    {
     "name": "stdout",
     "output_type": "stream",
     "text": [
      "None\n"
     ]
    }
   ],
   "source": [
    "# Dump\n",
    "import json\n",
    "fp = open('test.json','w')\n",
    "\n",
    "d={10:20.4,'True':False,'''Hello Prapancham''':(10,30),11:[10,203,4],None:110,None:2} \n",
    "res = json.dump(d,fp)\n",
    "print(res)\n",
    "\n",
    "fp.close()"
   ]
  },
  {
   "cell_type": "code",
   "execution_count": 37,
   "metadata": {},
   "outputs": [
    {
     "name": "stdout",
     "output_type": "stream",
     "text": [
      "dict_keys([10, 'True', 'Hello Prapancham', 11, None])\n",
      "{10: 20.4, 'True': False, 'Hello Prapancham': (10, 30), 11: [10, 203, 4], None: 2} <class 'dict'>\n",
      "{\"10\": 20.4, \"True\": false, \"Hello Prapancham\": [10, 30], \"11\": [10, 203, 4], \"null\": 2} <class 'str'>\n",
      "{'10': 20.4, 'True': False, 'Hello Prapancham': [10, 30], '11': [10, 203, 4], 'null': 2} <class 'dict'>\n"
     ]
    }
   ],
   "source": [
    "# Loads\n",
    "\n",
    "import json\n",
    "\n",
    "# JSON will not accept complex, bytes, set.\n",
    "# Dict will not accept mutable datatypes as keys. \n",
    "\n",
    "d={10:20.4,'True':False,'''Hello Prapancham''':(10,30),11:[10,203,4],None:110,None:2} \n",
    "print(d.keys())\n",
    "print(d,type(d))\n",
    "\n",
    "res = json.dumps(d)\n",
    "print(res,type(res))\n",
    "\n",
    "res = json.loads(res)\n",
    "print(res,type(res))"
   ]
  },
  {
   "cell_type": "code",
   "execution_count": 39,
   "metadata": {},
   "outputs": [
    {
     "name": "stdout",
     "output_type": "stream",
     "text": [
      "None\n",
      "{'10': 20.4, 'True': False, 'Hello Prapancham': [10, 30], '11': [10, 203, 4], 'null': 2} <class 'dict'>\n"
     ]
    }
   ],
   "source": [
    "# Load\n",
    "import json\n",
    "fp = open('test.json','w+')\n",
    "\n",
    "d={10:20.4,'True':False,'''Hello Prapancham''':(10,30),11:[10,203,4],None:110,None:2} \n",
    "res = json.dump(d,fp)\n",
    "print(res)\n",
    "\n",
    "fp.seek(0)\n",
    "res = json.load(fp)\n",
    "print(res,type(res))\n",
    "\n",
    "\n",
    "fp.close()"
   ]
  },
  {
   "cell_type": "code",
   "execution_count": 40,
   "metadata": {},
   "outputs": [
    {
     "name": "stdout",
     "output_type": "stream",
     "text": [
      "b'\\x80\\x04\\x95@\\x00\\x00\\x00\\x00\\x00\\x00\\x00}\\x94(K\\nG@4ffffff\\x8c\\x04True\\x94\\x89\\x8c\\x10Hello Prapancham\\x94K\\nK\\x1e\\x86\\x94K\\x0b]\\x94(K\\nK\\xcbK\\x04eNK\\x02u.'\n",
      "{10: 20.4, 'True': False, 'Hello Prapancham': (10, 30), 11: [10, 203, 4], None: 2} <class 'dict'>\n"
     ]
    }
   ],
   "source": [
    "# Picklng dumps and loads\n",
    "import pickle\n",
    "fp = open('test.pickle','wb+')\n",
    "\n",
    "d={10:20.4,'True':False,'''Hello Prapancham''':(10,30),11:[10,203,4],None:110,None:2} \n",
    "res = pickle.dumps(d) # PIckle\n",
    "fp.write(res)\n",
    "print(res)\n",
    "\n",
    "fp.seek(0)\n",
    "data = fp.read()\n",
    "res = pickle.loads(data) # Unpickle\n",
    "print(res,type(res))\n",
    "\n",
    "\n",
    "fp.close()"
   ]
  },
  {
   "cell_type": "code",
   "execution_count": 43,
   "metadata": {},
   "outputs": [
    {
     "name": "stdout",
     "output_type": "stream",
     "text": [
      "None\n",
      "{10: 20.4, 'True': False, 'Hello Prapancham': (10, 30), 11: [10, 203, 4], None: 2} <class 'dict'>\n"
     ]
    }
   ],
   "source": [
    "# Picking  Load and Dump\n",
    "import pickle\n",
    "fp = open('test.pkl','wb+')\n",
    "\n",
    "d={10:20.4,'True':False,'''Hello Prapancham''':(10,30),11:[10,203,4],None:110,None:2} \n",
    "res = pickle.dump(d,fp) # pickle\n",
    "print(res)\n",
    "\n",
    "fp.seek(0)\n",
    "res = pickle.load(fp) # UnPickle\n",
    "print(res,type(res))\n",
    "\n",
    "\n",
    "fp.close()"
   ]
  },
  {
   "cell_type": "markdown",
   "metadata": {},
   "source": [
    "*** Package ***\n",
    " => It is a set of program designed to do a specific task.\n",
    " => It is a folder containing set of programs.\n",
    " => If we want to call folder as a package, then that folder must have a __init__.py file in it.\n",
    " => A package is a way to organise related modules and sub packages together. It provides a hierarchical structure for organizing and managing code in larger projects.\n",
    " => Packages help avoid naming conflicts and provide a structured approach to organizing Python code.\n",
    "\n",
    "* Sub packages : Packages can have sub packages which are simply nested packages within a package. Sub-packages have their own __init__.py file and can contain modules and sub-packages, forming a hierarchical structure.\n",
    "* Importing Packages : To use code from a package, you need to import it into your Python script or module. You can use import statement to import a package, a module with in the package, or specific objects from a module.\n",
    "\n",
    "Note :\n",
    " -> Packages create their own namespace, meaning that the objects (variables, functions, classes) defined within a package are accessed using the package name as prefix.\n",
    " -> For example, if there is a function myfunction inside mymodule in mypackage, you would access it as mypackage.mymodule.myfunction().\n",
    "\n",
    "* from - It is a keyword used to provide path.\n",
    "* import - It is keyword used to import specific modules into the file.\n",
    "\n"
   ]
  },
  {
   "cell_type": "markdown",
   "metadata": {},
   "source": [
    "*** Regular Expression ***\n",
    "\n",
    "\n",
    "* finditer :- It is used to create matcher object. "
   ]
  },
  {
   "cell_type": "code",
   "execution_count": 3,
   "metadata": {},
   "outputs": [
    {
     "name": "stdout",
     "output_type": "stream",
     "text": [
      "['naveen.jinka1@gmail.com', 'naveenjinka@gmail.com', 'tharun@gmail.com', 'devi@gmail.com']\n"
     ]
    }
   ],
   "source": [
    "import re\n",
    "data = 'Hi my mail id is naveen.jinka1@gmail.com and naveenjinka@gmail.com and tharun@gmail.com and devi@gmail.com'\n",
    "\n",
    "res = re.findall('[A-Za-z0-9.]*+@gmail.com',data)\n",
    "\n",
    "print(res)"
   ]
  },
  {
   "cell_type": "code",
   "execution_count": 4,
   "metadata": {},
   "outputs": [
    {
     "name": "stdout",
     "output_type": "stream",
     "text": [
      "<callable_iterator object at 0x000001BF27C2F640>\n"
     ]
    }
   ],
   "source": [
    "import re\n",
    "data = 'Hi my mail id is naveen.jinka1@gmail.com and naveenjinka@gmail.com and tharun@gmail.com and devi@gmail.com'\n",
    "\n",
    "res = re.finditer('[A-Za-z0-9.]*+@gmail.com',data)\n",
    "\n",
    "print(res)"
   ]
  },
  {
   "cell_type": "code",
   "execution_count": 5,
   "metadata": {},
   "outputs": [
    {
     "name": "stdout",
     "output_type": "stream",
     "text": [
      "<re.Match object; span=(17, 40), match='naveen.jinka1@gmail.com'>\n",
      "<re.Match object; span=(45, 66), match='naveenjinka@gmail.com'>\n",
      "<re.Match object; span=(71, 87), match='tharun@gmail.com'>\n",
      "<re.Match object; span=(92, 106), match='devi@gmail.com'>\n"
     ]
    }
   ],
   "source": [
    "import re\n",
    "data = 'Hi my mail id is naveen.jinka1@gmail.com and naveenjinka@gmail.com and tharun@gmail.com and devi@gmail.com'\n",
    "\n",
    "res = re.finditer('[A-Za-z0-9.]*+@gmail.com',data)\n",
    "for i in res:\n",
    "    print(i)"
   ]
  },
  {
   "cell_type": "code",
   "execution_count": 7,
   "metadata": {},
   "outputs": [
    {
     "name": "stdout",
     "output_type": "stream",
     "text": [
      "(17, 40) 17 17 40 40 naveen.jinka1@gmail.com <class 're.Match'>\n",
      "(45, 66) 45 45 66 66 naveenjinka@gmail.com <class 're.Match'>\n",
      "(71, 87) 71 71 87 87 tharun@gmail.com <class 're.Match'>\n",
      "(92, 106) 92 92 106 106 devi@gmail.com <class 're.Match'>\n"
     ]
    }
   ],
   "source": [
    "import re\n",
    "data = 'Hi my mail id is naveen.jinka1@gmail.com and naveenjinka@gmail.com and tharun@gmail.com and devi@gmail.com'\n",
    "\n",
    "res = re.finditer('[A-Za-z0-9.]*+@gmail.com',data)\n",
    "for i in res:\n",
    "    print(i.span(),i.span()[0],i.start(),i.span()[1],i.end(),i.group(),type(i))"
   ]
  },
  {
   "cell_type": "markdown",
   "metadata": {},
   "source": [
    "*** match ***\n",
    "It returns None if the specified pattern not found in the begining of the string. Otherwise, it will return the string that matches matches the pattern in the begining of the main string.\n",
    " "
   ]
  },
  {
   "cell_type": "code",
   "execution_count": 19,
   "metadata": {},
   "outputs": [
    {
     "name": "stdout",
     "output_type": "stream",
     "text": [
      "naveen.jinka1@gmail.com 0 23\n"
     ]
    }
   ],
   "source": [
    "import re\n",
    "data = 'naveen.jinka1@gmail.com Hi my mail id is naveen.jinka1@gmail.com and naveenjinka@gmail.com and tharun@gmail.com and devi@gmail.com'\n",
    "\n",
    "res = re.match(r'[A-Za-z0-9.]*+@gmail.com',data)\n",
    "\n",
    "print(res.group(),res.start(),res.end())"
   ]
  },
  {
   "cell_type": "markdown",
   "metadata": {},
   "source": [
    "*** fullmatch ***\n",
    "Fullmatch returns None type when the complete string is not matched, Otherwise it will return the whole string.\n"
   ]
  },
  {
   "cell_type": "code",
   "execution_count": 26,
   "metadata": {},
   "outputs": [
    {
     "name": "stdout",
     "output_type": "stream",
     "text": [
      "Matched fully\n",
      "naveen.jinka1@gmail.com 0 23\n"
     ]
    }
   ],
   "source": [
    "import re\n",
    "data = 'naveen.jinka1@gmail.com'\n",
    "\n",
    "res = re.fullmatch(r'[A-Za-z0-9.]*+@gmail.com',data)\n",
    "if res:\n",
    "    print('Matched fully')\n",
    "    print(res.group(),res.start(),res.end())\n",
    "else:\n",
    "    print('Not matched fully',type(res))"
   ]
  },
  {
   "cell_type": "markdown",
   "metadata": {},
   "source": [
    "*** Search ***\n",
    "It will match the first occurence pattern in the string."
   ]
  },
  {
   "cell_type": "code",
   "execution_count": 2,
   "metadata": {},
   "outputs": [
    {
     "name": "stdout",
     "output_type": "stream",
     "text": [
      "naveen.jinka1@gmail.com 17 40\n"
     ]
    }
   ],
   "source": [
    "import re\n",
    "data = 'Hi my mail id is naveen.jinka1@gmail.com and naveenjinka@gmail.com and tharun@gmail.com and devi@gmail.com'\n",
    "\n",
    "res = re.search(r'[A-Za-z0-9.]*+@gmail.com',data)\n",
    "\n",
    "print(res.group(),res.start(),res.end())"
   ]
  },
  {
   "cell_type": "markdown",
   "metadata": {},
   "source": [
    "*** Sub ***\n",
    "It will replace the substring with new string."
   ]
  },
  {
   "cell_type": "code",
   "execution_count": 9,
   "metadata": {},
   "outputs": [
    {
     "name": "stdout",
     "output_type": "stream",
     "text": [
      "Hai Naveen, Good Morning Krishna..\n"
     ]
    }
   ],
   "source": [
    "import re\n",
    "\n",
    "data = \"Hai Krishna, Good Morning Krishna..\"\n",
    "res = re.sub('Krishna','Naveen',data,count=1)\n",
    "print(res)"
   ]
  },
  {
   "cell_type": "markdown",
   "metadata": {},
   "source": [
    "*** Inheritence ***\n",
    " -> It is a phenominon of deriving or aquiring the properties from one class to another class.\n",
    " -> Deriving the states and behaviours from parent class to child class.\n",
    " -> It is classified into 5 types :\n",
    "    1. Single level inheritence \n",
    "    2. Multi level inheritence\n",
    "    3. Hierachial inheritence\n",
    "    4. Multiple inheritence\n",
    "    5. Hybrid inheritence\n"
   ]
  },
  {
   "cell_type": "markdown",
   "metadata": {},
   "source": [
    "*** Single level Inheritence ***\n",
    "Deriving the properties from one parent class to one child class.\n",
    "\n",
    "Syntax :\n",
    "    class A: # Parent class\n",
    "        properties / behaviours\n",
    "    class B(A): # Child class\n",
    "        properties / behaviours"
   ]
  },
  {
   "cell_type": "code",
   "execution_count": 4,
   "metadata": {},
   "outputs": [
    {
     "name": "stdout",
     "output_type": "stream",
     "text": [
      "10\n",
      "30\n"
     ]
    }
   ],
   "source": [
    "class A:\n",
    "    x=10\n",
    "class B(A):\n",
    "    y=20\n",
    "    @classmethod\n",
    "    def add(cls):\n",
    "        print(cls.x)\n",
    "        return cls.x+cls.y\n",
    "obj = B()\n",
    "print(obj.add())"
   ]
  },
  {
   "cell_type": "code",
   "execution_count": 9,
   "metadata": {},
   "outputs": [
    {
     "name": "stdout",
     "output_type": "stream",
     "text": [
      "Naveen Y31 Gray\n",
      "Tharun V20 Silver\n"
     ]
    }
   ],
   "source": [
    "class Mobile:\n",
    "    brand = 'Vivo'\n",
    "    loc = 'Hyd'\n",
    "    def __init__(self,name,version,color):\n",
    "        self.name = name\n",
    "        self.version = version\n",
    "        self.color = color\n",
    "    \n",
    "    def display(self):\n",
    "        print(self.name,self.version,self.color)\n",
    "\n",
    "class Update(Mobile):\n",
    "    \n",
    "    def __init__(self,name,ver,color):\n",
    "        self.name = name\n",
    "        self.color = color\n",
    "        self.version = ver\n",
    "\n",
    "obj = Update('Naveen','Y31','Gray')\n",
    "obj.display()\n",
    "\n",
    "obj2 = Update('Tharun','V20','Silver')\n",
    "obj2.display()\n"
   ]
  },
  {
   "cell_type": "markdown",
   "metadata": {},
   "source": [
    "*** Super Keyword ***\n",
    "It is used to call super class properties."
   ]
  },
  {
   "cell_type": "code",
   "execution_count": 10,
   "metadata": {},
   "outputs": [],
   "source": [
    "class Bank:\n",
    "    name = 'SBI'\n",
    "    ifsc = 'SBI000'\n",
    "    address = 'HYD'\n",
    "    cust_count = 0\n",
    "    cust_details = {}\n",
    "    def __init__(self,name,age,bal=500):\n",
    "        self.c_name=name\n",
    "        self.c_age=age\n",
    "        self.c_bal=bal\n",
    "        Bank.cust_count+=1\n",
    "        self.c_accno = 101020+self.cust_count\n",
    "        Bank.cust_details[self.c_accno]=self\n",
    "    \n",
    "    def deposit(self):\n",
    "        amo = int(input('Enter amount :'))\n",
    "        self.c_bal+=amo\n",
    "        print(\"Current balance is :\",self.c_bal)\n",
    "\n",
    "seetha=Bank('Seetha Mahalakshmi',22)\n",
    "\n",
    "class Bank_update_1(Bank):\n",
    "    def __init__(self,name,age,mail,phone):\n",
    "        self.c_mail = mail\n",
    "        self.c_phone = phone\n",
    "        super().__init__(name,age)\n",
    "\n",
    "    def withdraw(self):\n",
    "        amo = int(input(\"Enter Amount :\"))\n",
    "        if self.c_bal>=amo:\n",
    "            self.c_bal-=amo\n",
    "            print(\"Current balance is :\",self.c_bal)\n",
    "        else:\n",
    "            print('Insufficient balance')\n",
    "\n",
    "ram = Bank_update_1('Ram',23,'ram@gmail.com',7997210130)\n",
    "\n"
   ]
  },
  {
   "cell_type": "code",
   "execution_count": 7,
   "metadata": {},
   "outputs": [
    {
     "data": {
      "text/plain": [
       "{101021: <__main__.Bank at 0x23688a1f450>,\n",
       " 101022: <__main__.Bank_update_1 at 0x23688e21310>}"
      ]
     },
     "execution_count": 7,
     "metadata": {},
     "output_type": "execute_result"
    }
   ],
   "source": [
    "Bank.cust_details"
   ]
  },
  {
   "cell_type": "code",
   "execution_count": 8,
   "metadata": {},
   "outputs": [
    {
     "name": "stdout",
     "output_type": "stream",
     "text": [
      "{'c_mail': 'ram@gmail.com', 'c_phone': 7997210130, 'c_name': 'Ram', 'c_age': 23, 'c_bal': 500, 'c_accno': 101022}\n",
      "{'c_name': 'Seetha Mahalakshmi', 'c_age': 22, 'c_bal': 500, 'c_accno': 101021}\n"
     ]
    }
   ],
   "source": [
    "print(ram.__dict__)\n",
    "print(seetha.__dict__)"
   ]
  },
  {
   "cell_type": "code",
   "execution_count": 11,
   "metadata": {},
   "outputs": [
    {
     "name": "stdout",
     "output_type": "stream",
     "text": [
      "Current balance is : 460\n"
     ]
    }
   ],
   "source": [
    "ram.withdraw()"
   ]
  },
  {
   "cell_type": "code",
   "execution_count": 12,
   "metadata": {},
   "outputs": [
    {
     "name": "stdout",
     "output_type": "stream",
     "text": [
      "Current balance is : 2500\n"
     ]
    }
   ],
   "source": [
    "seetha.deposit()"
   ]
  },
  {
   "cell_type": "markdown",
   "metadata": {},
   "source": [
    "*** Multi Level Inheritence ***\n",
    "It is a phenominon of inheriting one parent class to child class and child class to sub-child class.\n",
    "\n",
    "Syntax :\n",
    "    class A:\n",
    "        // Behaviours and properties of class-A\n",
    "    class B(A):\n",
    "        // Behaviours and properties of class-A and class-B\n",
    "    class C(B):\n",
    "        // Behaviours and properties of class-A and class-B and class-C"
   ]
  },
  {
   "cell_type": "code",
   "execution_count": 1,
   "metadata": {},
   "outputs": [],
   "source": [
    "class A:\n",
    "    a=10\n",
    "    def __init__(self):\n",
    "        print(\"Parent here\")\n",
    "    \n",
    "    def display(self):\n",
    "        print('Parent : ',self.a)\n",
    "\n",
    "class B(A):\n",
    "    b=20\n",
    "    def display(self):\n",
    "        print(\"Child : \",self.b)\n",
    "\n",
    "class C(B):\n",
    "    c=30\n",
    "    def display(self):\n",
    "        print(\"Grand Child : \",self.c)"
   ]
  },
  {
   "cell_type": "code",
   "execution_count": 3,
   "metadata": {},
   "outputs": [
    {
     "name": "stdout",
     "output_type": "stream",
     "text": [
      "Parent here\n",
      "Parent here\n",
      "Parent here\n"
     ]
    }
   ],
   "source": [
    "a=A()\n",
    "b=B()\n",
    "c=C()"
   ]
  },
  {
   "cell_type": "code",
   "execution_count": 4,
   "metadata": {},
   "outputs": [
    {
     "name": "stdout",
     "output_type": "stream",
     "text": [
      "Parent :  10\n",
      "Child :  20\n",
      "Grand Child :  30\n"
     ]
    }
   ],
   "source": [
    "a.display()\n",
    "b.display()\n",
    "c.display()"
   ]
  },
  {
   "cell_type": "code",
   "execution_count": 10,
   "metadata": {},
   "outputs": [],
   "source": [
    "# Method chaining \n",
    "class A:\n",
    "    a=10\n",
    "    def __init__(self):\n",
    "        print(\"Parent here\")\n",
    "    \n",
    "    def display(self):\n",
    "        print('Parent : ',self.a)\n",
    "\n",
    "class B(A):\n",
    "    b=20\n",
    "    def display(self):\n",
    "        super().display()\n",
    "        print(\"Child : \",self.b)\n",
    "\n",
    "class C(B):\n",
    "    c=30\n",
    "    def display(self):\n",
    "        super().display()\n",
    "        print(\"Grand Child : \",self.c)"
   ]
  },
  {
   "cell_type": "code",
   "execution_count": 11,
   "metadata": {},
   "outputs": [
    {
     "name": "stdout",
     "output_type": "stream",
     "text": [
      "Parent here\n",
      "Parent here\n",
      "Parent here\n",
      "Parent :  10\n",
      "Child :  20\n",
      "Grand Child :  30\n"
     ]
    }
   ],
   "source": [
    "a = A()\n",
    "b = B()\n",
    "c = C()\n",
    "c.display()\n"
   ]
  },
  {
   "cell_type": "code",
   "execution_count": null,
   "metadata": {},
   "outputs": [],
   "source": [
    "class Bank:\n",
    "    name = 'SBI'\n",
    "    ifsc = 'SBI000'\n",
    "    address = 'HYD'\n",
    "    cust_count = 0\n",
    "    cust_details = {}\n",
    "    def __init__(self,name,age,bal=500):\n",
    "        self.c_name=name\n",
    "        self.c_age=age\n",
    "        self.c_bal=bal\n",
    "        Bank.cust_count+=1\n",
    "        self.c_accno = 101020+self.cust_count\n",
    "        Bank.cust_details[self.c_accno]=self\n",
    "    \n",
    "    def deposit(self):\n",
    "        amo = int(input('Enter amount :'))\n",
    "        self.c_bal+=amo\n",
    "        print(\"Current balance is :\",self.c_bal)\n",
    "\n",
    "seetha=Bank('Seetha Mahalakshmi',22)\n",
    "\n",
    "class Bank_update_1(Bank):\n",
    "    def __init__(self,name,age,mail,phone):\n",
    "        super().__init__(name,age)\n",
    "        self.c_mail = mail\n",
    "        self.c_phone = phone\n",
    "        \n",
    "\n",
    "    def withdraw(self):\n",
    "        amo = int(input(\"Enter Amount :\"))\n",
    "        if self.c_bal>=amo:\n",
    "            self.c_bal-=amo\n",
    "            print(\"Current balance is :\",self.c_bal)\n",
    "        else:\n",
    "            print('Insufficient balance')\n",
    "\n",
    "ram = Bank_update_1('Ram',23,'ram@gmail.com',7997210130)\n",
    "\n",
    "class Bank_update_2(Bank_update_1):\n",
    "    def __init__(self,name,age,mail,phone,pan,adhar,password):\n",
    "        super().__init__(name,age,mail,phone)\n",
    "        self.c_pan = pan\n",
    "        self.c_adhar = adhar\n",
    "        self.c_pass = password\n",
    "    \n",
    "    @staticmethod\n",
    "    def Operations():\n",
    "        print(\"WELCOME TO NAVEEN BANK\")\n",
    "        print(\"----------------------\")\n",
    "        n = int(input(\"Enter Option 1. Register 2.Login\"))\n",
    "        match n:\n",
    "            case 1:\n",
    "                name = input(\"Enter name :\")\n",
    "                age = int(input(\"Enter age :\"))\n",
    "                mail = input(\"Enter Mail :\")\n",
    "                phone = int(input(\"Enter Phone :\"))\n",
    "                pan = input(\"Enter Pan card :\")\n",
    "                adhar = input(\"Enter adhar :\")\n",
    "                password = input(\"Enter password :\")\n",
    "                Bank_update_2(name,age,mail,phone,pan,adhar,password)\n",
    "            case 2:\n",
    "                "
   ]
  },
  {
   "cell_type": "markdown",
   "metadata": {},
   "source": [
    "*** Hiarchial Inheritence ***\n",
    "-> Deriving a parent class to mutiple sub classess.\n",
    "Syntax :\n",
    "    class A:\n",
    "        // Properties of A\n",
    "    class B(A):\n",
    "        // Properties of A and B\n",
    "    class C(A):\n",
    "        // properties of A and C\n",
    "    "
   ]
  },
  {
   "cell_type": "code",
   "execution_count": 14,
   "metadata": {},
   "outputs": [],
   "source": [
    "class A:\n",
    "    a=10\n",
    "    def __init__(self,a):\n",
    "        A.a=a\n",
    "    @classmethod\n",
    "    def display(cls):\n",
    "        return (cls.a)\n",
    "\n",
    "class B(A):\n",
    "    b=20\n",
    "class C(A):\n",
    "    c=30\n"
   ]
  },
  {
   "cell_type": "code",
   "execution_count": 8,
   "metadata": {},
   "outputs": [
    {
     "name": "stdout",
     "output_type": "stream",
     "text": [
      "10 10\n",
      "10 20 10\n",
      "10 30 10\n"
     ]
    }
   ],
   "source": [
    "print(A.a,A.display())\n",
    "print(B.a,B.b,B.display())\n",
    "print(C.a,C.c,C.display())\n"
   ]
  },
  {
   "cell_type": "code",
   "execution_count": 15,
   "metadata": {},
   "outputs": [
    {
     "name": "stdout",
     "output_type": "stream",
     "text": [
      "300 300\n",
      "300 20 300\n",
      "300 30 300\n"
     ]
    }
   ],
   "source": [
    "a=A(100)\n",
    "b=B(200)\n",
    "c=C(300)\n",
    "print(A.a,A.display())\n",
    "print(B.a,B.b,B.display())\n",
    "print(C.a,C.c,C.display())"
   ]
  },
  {
   "cell_type": "markdown",
   "metadata": {},
   "source": [
    "*** Multiple Inheritence ***\n",
    "It is a phenominon of deriving the properties from 2 parent class to 1 child class.\n",
    "Syntax :\n",
    "    class A:\n",
    "        pass\n",
    "    class B:\n",
    "        pass\n",
    "    class C(A,B):\n",
    "        pass\n",
    "\n",
    "Disadvantages :\n",
    "    -> In multiple inheritence sometimes the reference addresses are overide because of deriving properties from 2 parent class to 1 child class.\n",
    "    -> If properties with same name are present in both the parent class, All the properties derived to child class that time the old reference address is overided to new reference address because python will not support duplicate identifiers.\n",
    "    -> The overide concept will happen for variable, constructor and method (@classmethod, @staticmethod). \n",
    "\n",
    "Note :\n",
    "    -> To overcome above problems, we should create same properties in child class and we have to apply chaining concept either constructor chaining or method chaining.\n",
    "\n"
   ]
  },
  {
   "cell_type": "code",
   "execution_count": 3,
   "metadata": {},
   "outputs": [
    {
     "name": "stdout",
     "output_type": "stream",
     "text": [
      "{}\n",
      "A 20 30\n"
     ]
    }
   ],
   "source": [
    "class A:\n",
    "    x=10\n",
    "\n",
    "class B:\n",
    "    x='A'\n",
    "    y=20\n",
    "\n",
    "class C(B,A):\n",
    "    z=30\n",
    "\n",
    "obj = C()\n",
    "print(obj.__dict__)\n",
    "print(obj.x,obj.y,obj.z)"
   ]
  },
  {
   "cell_type": "code",
   "execution_count": 5,
   "metadata": {},
   "outputs": [],
   "source": [
    "class Customer :\n",
    "    def __init__(self,name,age,mobileno,mail):\n",
    "        self.name = name\n",
    "        self.age = age\n",
    "        self.mobileno = mobileno\n",
    "        self.mail = mail\n",
    "    def display(self):\n",
    "        print(self.name,self.age,self.mobileno,self.mail)\n",
    "\n",
    "class Product :\n",
    "    def __init__(self,id,name,price):\n",
    "        self.id = id\n",
    "        self.p_name = name\n",
    "        self.p_price = price\n",
    "    def display(self):\n",
    "        print(self.id,self.p_name,self.p_price)\n",
    "\n",
    "class Buy(Customer,Product):\n",
    "    def __init__(self,name,age,mob,mail,id,pn,pri):\n",
    "        Customer.__init__(self,name,age,mob,mail)\n",
    "        Product.__init__(self,id,pn,pri)\n",
    "\n",
    "    def display(self):\n",
    "        Customer.display(self)\n",
    "        Product.display(self)\n",
    "\n",
    "obj = Buy('Naveen',23,7997210130,'naveen.jinka1@gmail.com',1,'Sweet corn',240)"
   ]
  },
  {
   "cell_type": "code",
   "execution_count": 6,
   "metadata": {},
   "outputs": [
    {
     "data": {
      "text/plain": [
       "{'name': 'Naveen',\n",
       " 'age': 23,\n",
       " 'mobileno': 7997210130,\n",
       " 'mail': 'naveen.jinka1@gmail.com',\n",
       " 'id': 1,\n",
       " 'p_name': 'Sweet corn',\n",
       " 'p_price': 240}"
      ]
     },
     "execution_count": 6,
     "metadata": {},
     "output_type": "execute_result"
    }
   ],
   "source": [
    "obj.__dict__"
   ]
  },
  {
   "cell_type": "markdown",
   "metadata": {},
   "source": [
    "*** Hybrid Inheritence ***\n",
    "Combine the more than one inheritence types\n",
    "Syntax :\n",
    "    class A:\n",
    "        pass\n",
    "    class B(A):\n",
    "        pass\n",
    "    class C(B,A):\n",
    "        pass\n",
    "    class D(B):\n",
    "        pass\n",
    "    class E(A):\n",
    "        pass"
   ]
  },
  {
   "cell_type": "markdown",
   "metadata": {},
   "source": [
    "*** Constructor chaining ***\n",
    "1. Calling by using super statement :\n",
    "    super().__init__(<args>)\n",
    "2. Calling by using super containing arguments :\n",
    "    super(<class name>,self).__init__(<args>)\n",
    "3. Calling by using parent class name :\n",
    "    <Parent class name>.__init__(self,<args>)"
   ]
  },
  {
   "cell_type": "markdown",
   "metadata": {},
   "source": [
    "user (one to many)\n",
    "    user_game (one to many)\n",
    "    high_score\n",
    "    low_score\n",
    "    cur_score\n",
    "    last_played\n",
    "    started\n",
    "\n",
    "game :\n",
    "    game_name\n",
    "    game_id\n",
    "    total_high_score\n",
    "    total_least_score\n",
    "    last_played\n",
    "    frequency\n"
   ]
  },
  {
   "cell_type": "markdown",
   "metadata": {},
   "source": [
    "*** Encapsulation ***\n",
    " -> It is a phenominon of hiding the data inside the object or class.\n",
    " -> Wraping the data inside the object or class by the help of access specifiers or access modifiers.\n",
    " -> By the help of access specifiers, we can provide the security to the both states and behaviours.\n",
    " -> To restrict the data from one space to other space.\n",
    " -> Access Specifiers are 3 types :\n",
    "    1. Public\n",
    "    2. Protected\n",
    "    3. Private\n"
   ]
  },
  {
   "cell_type": "markdown",
   "metadata": {},
   "source": [
    "*** Public access specifier ***\n",
    " -> We represent as direct specify the identifier name."
   ]
  },
  {
   "cell_type": "code",
   "execution_count": 1,
   "metadata": {},
   "outputs": [
    {
     "name": "stdout",
     "output_type": "stream",
     "text": [
      "10 10\n",
      "A B\n",
      "10 A\n",
      "10 B\n"
     ]
    }
   ],
   "source": [
    "class A:\n",
    "    a=10\n",
    "\n",
    "    def modify(self,a):\n",
    "        self.a=a\n",
    "    \n",
    "    def display(self):\n",
    "        print(A.a,self.a)\n",
    "    \n",
    "class B(A):\n",
    "    pass\n",
    "\n",
    "pub_a = A()\n",
    "pub_b = B()\n",
    "\n",
    "print(pub_a.a,pub_b.a) \n",
    "pub_a.modify('A')\n",
    "pub_b.modify('B')\n",
    "print(pub_a.a,pub_b.a)\n",
    "pub_a.display()\n",
    "pub_b.display()"
   ]
  },
  {
   "cell_type": "code",
   "execution_count": 4,
   "metadata": {},
   "outputs": [
    {
     "name": "stdout",
     "output_type": "stream",
     "text": [
      "10 10\n",
      "A B\n",
      "10 A\n",
      "10 B\n"
     ]
    }
   ],
   "source": [
    "class A:\n",
    "    _a=10\n",
    "\n",
    "    def _modify(self,a):\n",
    "        self._a=a\n",
    "    \n",
    "    def _display(self):\n",
    "        print(A._a,self._a)\n",
    "    \n",
    "class B(A):\n",
    "    pass\n",
    "\n",
    "pro_a = A()\n",
    "pro_b = B()\n",
    "\n",
    "print(pro_a._a,pro_b._a) \n",
    "pro_a._modify('A')\n",
    "pro_b._modify('B')\n",
    "print(pro_a._a,pro_b._a)\n",
    "pro_a._display()\n",
    "pro_b._display()"
   ]
  },
  {
   "cell_type": "code",
   "execution_count": 5,
   "metadata": {},
   "outputs": [
    {
     "ename": "AttributeError",
     "evalue": "'A' object has no attribute '_a'",
     "output_type": "error",
     "traceback": [
      "\u001b[1;31m---------------------------------------------------------------------------\u001b[0m",
      "\u001b[1;31mAttributeError\u001b[0m                            Traceback (most recent call last)",
      "Cell \u001b[1;32mIn[5], line 16\u001b[0m\n\u001b[0;32m     13\u001b[0m pri_a \u001b[39m=\u001b[39m A()\n\u001b[0;32m     14\u001b[0m pri_b \u001b[39m=\u001b[39m B()\n\u001b[1;32m---> 16\u001b[0m \u001b[39mprint\u001b[39m(pri_a\u001b[39m.\u001b[39;49m_a,pri_b\u001b[39m.\u001b[39m_a) \n\u001b[0;32m     17\u001b[0m pri_a\u001b[39m.\u001b[39m_modify(\u001b[39m'\u001b[39m\u001b[39mA\u001b[39m\u001b[39m'\u001b[39m)\n\u001b[0;32m     18\u001b[0m pri_b\u001b[39m.\u001b[39m_modify(\u001b[39m'\u001b[39m\u001b[39mB\u001b[39m\u001b[39m'\u001b[39m)\n",
      "\u001b[1;31mAttributeError\u001b[0m: 'A' object has no attribute '_a'"
     ]
    }
   ],
   "source": [
    "class A:\n",
    "    __a=10\n",
    "\n",
    "    def __modify(self,a):\n",
    "        self.__a=a\n",
    "    \n",
    "    def __display(self):\n",
    "        print(A.__a,self.__a)\n",
    "    \n",
    "class B(A):\n",
    "    pass\n",
    "\n",
    "pri_a = A()\n",
    "pri_b = B()\n",
    "\n",
    "print(pri_a._a,pri_b._a) \n",
    "pri_a._modify('A')\n",
    "pri_b._modify('B')\n",
    "print(pri_a._a,pri_b._a)\n",
    "pri_a._display()\n",
    "pri_b._display()"
   ]
  },
  {
   "cell_type": "code",
   "execution_count": 9,
   "metadata": {},
   "outputs": [
    {
     "data": {
      "text/plain": [
       "mappingproxy({'__module__': '__main__',\n",
       "              '_A__a': 10,\n",
       "              '_A__modify': <function __main__.A.__modify(self, a)>,\n",
       "              '_A__display': <function __main__.A.__display(self)>,\n",
       "              '__dict__': <attribute '__dict__' of 'A' objects>,\n",
       "              '__weakref__': <attribute '__weakref__' of 'A' objects>,\n",
       "              '__doc__': None})"
      ]
     },
     "execution_count": 9,
     "metadata": {},
     "output_type": "execute_result"
    }
   ],
   "source": [
    "A.__dict__"
   ]
  },
  {
   "cell_type": "markdown",
   "metadata": {},
   "source": [
    "1. What is oops ?\n",
    "2. Priciples of oops ?\n",
    "3. What is class ?\n",
    "4. How to define class ?\n",
    "5. What are the class properties ?\n",
    "6. What is object or instance ?\n",
    "7. What type of data we can store inside the class ?\n",
    "8. What type of data we can store inside the object ?\n",
    "9. WHat is constructor ?\n",
    "10. How to define constructor and why we need ?\n",
    "11. Without constructor, can we create the object or not ?\n",
    "12. What is parameterised constructor ?\n",
    "13. Un-parameterised constructor ?\n",
    "14. How to manupulate the data inside the class outside the class ?\n",
    "15. How to manupulate the object inside the class outside the class ?\n",
    "16. What is self and what type of thing it will store ?\n",
    "17. What is cls and what it will store ?\n",
    "18. What is dfference betweeen class states and object states and how to define ?\n",
    "19. Difference between class method and object method and static method ?\n",
    "20. What is inheritence ?\n",
    "21. Types of inheritence ?\n",
    "22. Difference between single level inheritence and multi level inheritence ?\n",
    "23. Difference between hierchial inheritence and multiple inheritence ?\n",
    "24. Advantages and disadvantages for the inheritence ?\n",
    "25. Limitations for multiple inheritence with example ?\n",
    "26. What is constructor chaining and method chaining ?\n",
    "27. How to define constructor chaining ? explain with 3 different syntax ?\n",
    "28. WHat is super() ?\n",
    "29. What is polymorphism ?\n",
    "30. What is method overriding ?\n",
    "31. What is method overloading ?\n",
    "32. What is operator overloading ?\n",
    "33. What is magic methods ? Explain with examples ?\n",
    "34. What is encapsulation ?\n",
    "35. What is meant by access specifiers ?\n",
    "36. Difference between between public, protect and private ?\n",
    "37. What is abstraction and what is abstract mmethod and syntax ?\n",
    "38. What is the difference between abstraction and encapsulation ?\n",
    "39. What is exception handling ?\n",
    "40. Types of the errors or exception ?\n",
    "41. How to handle exceptions ?\n",
    "42. What is try , except ,finally blocks ?\n",
    "43. Difference between default except block, generic except block , specific except block ?\n",
    "44. What is monkey patching ?\n",
    "45. What is name attribute ?\n",
    "46. Difference between set attribute, get attribute, delete attribute, has attribute ?\n",
    "47. Difference between setter and getter method ?\n",
    "48. \n"
   ]
  }
 ],
 "metadata": {
  "kernelspec": {
   "display_name": "Python 3",
   "language": "python",
   "name": "python3"
  },
  "language_info": {
   "codemirror_mode": {
    "name": "ipython",
    "version": 3
   },
   "file_extension": ".py",
   "mimetype": "text/x-python",
   "name": "python",
   "nbconvert_exporter": "python",
   "pygments_lexer": "ipython3",
   "version": "3.11.4"
  },
  "orig_nbformat": 4
 },
 "nbformat": 4,
 "nbformat_minor": 2
}
