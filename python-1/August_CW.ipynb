{
 "cells": [
  {
   "cell_type": "markdown",
   "metadata": {},
   "source": [
    "*** Object Oriented Programing ***\n",
    "    * The phenominon of working with real world entities or real time objects will lead us to work with the concept called object oriented programming language.\n",
    "    * It is used for solving the real-time entity problems.\n",
    "    * It is used for storing and manupulating the real time entity data.\n",
    "    * As we are working with real word entities, the built in datatypes are not sufficient enough to store the details of real world entities and because real world entities will have various types, various properties, various structure, various functionality are present. These all  are not suitable to store or retrive the data using built-in datatypes.\n",
    "    * So we are going to use the user defined datatypes called class and object.\n",
    "    * Through class and object, we are creating out own status(properties) and behaviour (functionalities) related to real world emtities.\n",
    "Why oops ?\n",
    "    * Organize code and classify the data and function providing a clear structure.\n",
    "    * Easy maintainence and modification.\n",
    "    * Reduce code: reduce code difficulty, by enabling code reusability.\n",
    "    * Inheritence which helps us to inherit data from one class to another class.\n",
    "    * Encapsulation, where secure data by implemeting private variables.\n",
    "Class :\n",
    "    * It is a structure that specifies what to store and what to do.\n",
    "    * Class is a blueprint of an object : class is a plan to create an object.\n",
    "    * Class is a user defined datatype that specifies the status and behaviour of the real world entities.\n",
    "    * Status are nothing but properties about real world entities.\n",
    "    * Behaviour is nothing but the functionality operations of a real world entity.\n",
    "    * Behaviour is nothing but a feature that is provided for the entity.\n",
    "    * A class can be created by using the keyword called 'class'.\n",
    "    * By using the class, we are preparing the templates regarding the object.\n",
    "    Syntax :\n",
    "        class <classname>:\n",
    "            //Class properties and functions\n"
   ]
  },
  {
   "cell_type": "code",
   "execution_count": 5,
   "metadata": {},
   "outputs": [
    {
     "name": "stdout",
     "output_type": "stream",
     "text": [
      "Santhana collage Theledhu Santhana.thelidhu1@gmail.com 20029389301283\n",
      "Santhana collage Theledhu Santhana.thelidhu1@gmail.com 20029389301283\n",
      "{'__module__': '__main__', 'name': 'Santhana collage', 'address': 'Theledhu', 'website': 'Santhana.thelidhu1@gmail.com', 'phone': 20029389301283, '__dict__': <attribute '__dict__' of 'collage' objects>, '__weakref__': <attribute '__weakref__' of 'collage' objects>, '__doc__': None}\n",
      "Santhana collage Theledhu 20029389301283 Santhana.thelidhu1@gmail.com\n",
      "{}\n"
     ]
    }
   ],
   "source": [
    "class collage:\n",
    "    name = 'Santhana collage'\n",
    "    address = 'Theledhu'\n",
    "    website = 'Santhana.thelidhu1@gmail.com'\n",
    "    phone = 20029389301283\n",
    "    print(name,address,website,phone) #Accessing members inside the class\n",
    "print(collage.name,collage.address,collage.website,collage.phone) # Accessing members outside the class\n",
    "print(collage.__dict__)\n",
    "obj = collage() #Creating object for class \n",
    "print(obj.name,obj.address,obj.phone,obj.website) # Accessing values using object.\n",
    "print(obj.__dict__)"
   ]
  },
  {
   "cell_type": "code",
   "execution_count": null,
   "metadata": {},
   "outputs": [],
   "source": []
  }
 ],
 "metadata": {
  "kernelspec": {
   "display_name": "Python 3",
   "language": "python",
   "name": "python3"
  },
  "language_info": {
   "codemirror_mode": {
    "name": "ipython",
    "version": 3
   },
   "file_extension": ".py",
   "mimetype": "text/x-python",
   "name": "python",
   "nbconvert_exporter": "python",
   "pygments_lexer": "ipython3",
   "version": "3.11.4"
  },
  "orig_nbformat": 4
 },
 "nbformat": 4,
 "nbformat_minor": 2
}
