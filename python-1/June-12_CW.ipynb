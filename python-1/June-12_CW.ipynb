{
 "cells": [
  {
   "cell_type": "code",
   "execution_count": 1,
   "metadata": {},
   "outputs": [
    {
     "name": "stdout",
     "output_type": "stream",
     "text": [
      "Positive\n"
     ]
    }
   ],
   "source": [
    "#WAP to check whether a number is positive. If Positive, print a message Positive.\n",
    "n=int(input(\"Enter number : \"))\n",
    "if n>0:\n",
    "    print(\"Positive\")"
   ]
  },
  {
   "cell_type": "code",
   "execution_count": null,
   "metadata": {},
   "outputs": [],
   "source": [
    "#WAP to display hello world if the number is greater than 1 and lesser than 5 \n",
    "n=int(input(\"Enter number : \"))\n",
    "if 1<n<5:\n",
    "    print(\"Helo world\")"
   ]
  },
  {
   "cell_type": "code",
   "execution_count": 2,
   "metadata": {},
   "outputs": [
    {
     "name": "stdout",
     "output_type": "stream",
     "text": [
      "Fizz\n"
     ]
    }
   ],
   "source": [
    "#WAP to check whether the given number is divisible by 3 or not if print fizz.\n",
    "n=int(input(\"Enter number : \"))\n",
    "if n%3==0:\n",
    "    print(\"Fizz\")\n",
    "    "
   ]
  },
  {
   "cell_type": "code",
   "execution_count": null,
   "metadata": {},
   "outputs": [],
   "source": [
    "#WAP to check whether given input is divisible by 2 and 6. If the condition is satisfied, convert the given number into a complex number.\n",
    "n=eval(input(\"Enter number : \"))\n",
    "if n%2==0 and n%6==0:\n",
    "    print(complex(n)) "
   ]
  },
  {
   "cell_type": "code",
   "execution_count": null,
   "metadata": {},
   "outputs": [],
   "source": [
    "#WAP to check whether a given input is divisible by 3 or 5. If the condition is satisfied, the number is converted to a list.\n",
    "#i/p: 30\n",
    "#o/p:[‘3’,’0’]\n",
    "n=eval(input(\"Enter number : \"))\n",
    "if n%3==0 or n%5==0:\n",
    "    print(list(str(n)))"
   ]
  },
  {
   "cell_type": "code",
   "execution_count": null,
   "metadata": {},
   "outputs": [],
   "source": [
    "#Write a program to check whether a given number is multiple of 5 or not \n",
    "n=eval(input(\"Enter number : \"))\n",
    "if n%5==0:\n",
    "    print(\"Multiple of 5\")"
   ]
  },
  {
   "cell_type": "code",
   "execution_count": null,
   "metadata": {},
   "outputs": [],
   "source": [
    "#WAP to check whether the given input is 0 or not if 0 prints 0.\n",
    "n=eval(input(\"Enter number : \"))\n",
    "if n==0:\n",
    "    print(n)"
   ]
  },
  {
   "cell_type": "code",
   "execution_count": null,
   "metadata": {},
   "outputs": [],
   "source": [
    "#8.\t\tWAP to check whether a number is negative. If negative, print a message negative.\n",
    "n=eval(input(\"Enter number : \"))\n",
    "if n<0:\n",
    "    print(\"Negative\")"
   ]
  },
  {
   "cell_type": "code",
   "execution_count": null,
   "metadata": {},
   "outputs": [],
   "source": [
    "#9.\t\tWAP to check whether a number is even or not. If even, store the value inside the list.\n",
    "n=eval(input(\"Enter number : \"))\n",
    "if n%2==0:\n",
    "    l=list(str(n))\n",
    "    print(l)"
   ]
  },
  {
   "cell_type": "code",
   "execution_count": null,
   "metadata": {},
   "outputs": [],
   "source": [
    "#10.\t\tWAP to check whether a number is odd or not. If odd, store the value inside the tuple.\n",
    "n=int(input(\"Enter number : \"))\n",
    "if n%2!=0:\n",
    "    t=(n,)\n",
    "    print(t)\n",
    "    "
   ]
  },
  {
   "cell_type": "code",
   "execution_count": 5,
   "metadata": {},
   "outputs": [
    {
     "name": "stdout",
     "output_type": "stream",
     "text": [
      "1296\n"
     ]
    }
   ],
   "source": [
    "#11.\t\tWAP to check if the given number is even or not. if it is yes, to print the power of 4 in a given number.\n",
    "n=int(input(\"Enter number : \"))\n",
    "if n%2==0:\n",
    "    print(n**4)\n"
   ]
  },
  {
   "cell_type": "code",
   "execution_count": null,
   "metadata": {},
   "outputs": [],
   "source": [
    "#12.\t\tWAP to take the input from the user as a number and check whether it is a number or not. if yes. take the number and add some value and print it.\n",
    "n=eval(input(\"Enter number : \"))\n",
    "if type(n) is int or type(n) is float:\n",
    "    n=n+10\n",
    "    print(n)"
   ]
  },
  {
   "cell_type": "code",
   "execution_count": null,
   "metadata": {},
   "outputs": [],
   "source": [
    "#13.\t\tWAP to display hello world if the number is greater than 1 and less than 5.\n",
    "n=int(input())\n",
    "if 1<n<5:\n",
    "    print(\"hello world\")"
   ]
  },
  {
   "cell_type": "code",
   "execution_count": null,
   "metadata": {},
   "outputs": [],
   "source": [
    "#14.\t\tWAP to check whether a given value is divisible by 5 and 7. If the value is divisible,to display the square of the  values.\n",
    "n=int(input())\n",
    "if n%5==0 and n%7==0:\n",
    "    print(n**2)"
   ]
  },
  {
   "cell_type": "code",
   "execution_count": null,
   "metadata": {},
   "outputs": [],
   "source": [
    "#15.\t\tWAP to check whether the given value's last digit is greater than 5 or not.if greater, to perform the bitwise right shift operator (skipping value is 2) \n",
    "n=int(input())\n",
    "if n%10>5:\n",
    "    print(n>>2)"
   ]
  },
  {
   "cell_type": "code",
   "execution_count": null,
   "metadata": {},
   "outputs": [],
   "source": [
    "#16.\t\tWAP to check whether a given value is divisible by 3 and less than 30. If the value is divisible,to display the square of the  values.\n",
    "n=int(input())\n",
    "if n%3==0 and n<30:\n",
    "    print(n**2)"
   ]
  },
  {
   "cell_type": "code",
   "execution_count": null,
   "metadata": {},
   "outputs": [],
   "source": [
    "#17.\t\tWAP to check whether a given value is an even number and divisible by 4. If satisfied ,to display the cube of the  values.\n",
    "n=int(input())\n",
    "if n%2==0 and n%4==0:\n",
    "    print(n**3)"
   ]
  },
  {
   "cell_type": "code",
   "execution_count": null,
   "metadata": {},
   "outputs": [],
   "source": [
    "#18.\t\tWAP to check whether a given value is even or not. If the even number stores the value inside the list.\n",
    "n=int(input())\n",
    "if n%2==0 :\n",
    "    l=[n]\n",
    "    print(l)"
   ]
  },
  {
   "cell_type": "code",
   "execution_count": null,
   "metadata": {},
   "outputs": [],
   "source": [
    "#19.\t\tWAP to check whether a given value is a negative or even number. If satisfied ,to display the last digit of the  values.\n",
    "n=int(input())\n",
    "if n<0 or n%2==0:\n",
    "    print(n%10)"
   ]
  },
  {
   "cell_type": "code",
   "execution_count": null,
   "metadata": {},
   "outputs": [],
   "source": [
    "#20.\t\tWAP to check whether a given value is a negative or odd number and divisible by 4. If satisfied ,to display the cube of the  values.\n",
    "n=int(input())\n",
    "if (n<0 or n%2==0) and n%4==0:\n",
    "    print(n**3)"
   ]
  },
  {
   "cell_type": "code",
   "execution_count": null,
   "metadata": {},
   "outputs": [],
   "source": [
    "#21.\t\tWAP to check whether a given ascii value is divisible by 4 and even value. If satisfied, to display the ascii character.\n",
    "n=int(input())\n",
    "if n%4==0 and n%2==0:\n",
    "    print(chr(n))"
   ]
  },
  {
   "cell_type": "code",
   "execution_count": null,
   "metadata": {},
   "outputs": [],
   "source": [
    "#22.\t\tWAP to check whether a given value is present in between 45 to 125 and the number should be divisible by 4 and 5 and even value. If satisfied, to display the ascii character.\n",
    "n=int(input())\n",
    "if n in range(45,125) and n%4==0 and n%5==0 and n%2==0:\n",
    "    print(chr(n))"
   ]
  },
  {
   "cell_type": "code",
   "execution_count": null,
   "metadata": {},
   "outputs": [],
   "source": [
    "#23.\t\tWAP to check whether a given value is present in between 25 to 100 and the number should be divisible by 4 and 5. If satisfied, to display  multiplication of given value with 5.\n",
    "n=int(input())\n",
    "if n in range(25,100) and n%4==0 and n%5==0 :\n",
    "    print(n*5)"
   ]
  },
  {
   "cell_type": "code",
   "execution_count": null,
   "metadata": {},
   "outputs": [],
   "source": [
    "#24.\t\tWAP to check whether a given number is an integer and odd number. If the condition is satisfied, the integer is divisible by 5 and displays the result.\n",
    "n=eval(input())\n",
    "if (type(n) is int or type(n) is float) and n%2==0:\n",
    "    n=n/5\n",
    "    print(n)"
   ]
  },
  {
   "cell_type": "code",
   "execution_count": null,
   "metadata": {},
   "outputs": [],
   "source": [
    "#25.\t\tWAP to check whether a given value is an integer or not. If integer, the given value is converted to string and displays the result.\n",
    "n=eval(input())\n",
    "type_n=[int,float]\n",
    "if type(n) in type_n:\n",
    "    n=str(n)\n",
    "    print(n)"
   ]
  },
  {
   "cell_type": "code",
   "execution_count": null,
   "metadata": {},
   "outputs": [],
   "source": [
    "#26.\t\tWAP to check whether a given value is less than 125 and greater than 60 or not. If the condition is satisfied, take the name and extract the middle character and display it.\n",
    "n=int(input())\n",
    "if 60<n<125:\n",
    "    x=input()\n",
    "    x=x[len(x)//2]\n",
    "    print(x)"
   ]
  },
  {
   "cell_type": "code",
   "execution_count": null,
   "metadata": {},
   "outputs": [],
   "source": [
    "#27.\t\tWAP to check whether a given two integers are equal or not. If both are equal, to perform addition and display the result. \n",
    "n=int(input())\n",
    "m=int(input())\n",
    "if m is n :\n",
    "    print(m+n)"
   ]
  },
  {
   "cell_type": "code",
   "execution_count": null,
   "metadata": {},
   "outputs": [],
   "source": [
    "#28.\t\tWAP to check whether two values are equal or not. if equal, to perform multiplication of two numbers and that result is division by 3 and display the value.\n",
    "m=int(input())\n",
    "n=int(input())\n",
    "if m==n:\n",
    "    x=m*n\n",
    "    print(x/3)"
   ]
  },
  {
   "cell_type": "code",
   "execution_count": null,
   "metadata": {},
   "outputs": [],
   "source": [
    "#29.\t\tWAP to check whether a character is in the alphabet or not. If the alphabet, store the value inside the dict(key as a character and value as an ascii value).\n",
    "n=input()\n",
    "if n.isalpha():\n",
    "    d={n:ord(n)}\n",
    "    print(d)"
   ]
  },
  {
   "cell_type": "code",
   "execution_count": null,
   "metadata": {},
   "outputs": [],
   "source": [
    "#30.\t\tWAP to check whether a character is in the uppercase or not. If the uppercase, store the value inside the dict(key as a character and value as an ascii value).\n",
    "n=input()\n",
    "if n.isupper():\n",
    "    d={n:ord(n)}\n",
    "    print(d)"
   ]
  },
  {
   "cell_type": "code",
   "execution_count": null,
   "metadata": {},
   "outputs": [],
   "source": [
    "#31.\t\tWAP to check whether a character is in the uppercase or not. If the uppercase, convert to lowercase and store the value inside the dict(character as a key and ascii value as a value).\n",
    "n=input()\n",
    "if n.isupper():\n",
    "    n=n.lower()\n",
    "    n={n:ord(n)}\n",
    "    print(n)"
   ]
  },
  {
   "cell_type": "code",
   "execution_count": null,
   "metadata": {},
   "outputs": [],
   "source": [
    "#32.\t\tWAP to check whether a character is in the lowercase or not. If the lowercase, to perform the replication operation on that character.\n",
    "n=input()\n",
    "if n.islower():\n",
    "    print(n*3)"
   ]
  },
  {
   "cell_type": "code",
   "execution_count": null,
   "metadata": {},
   "outputs": [],
   "source": [
    "#33.\t\tWAP to check whether a character is in the ascii number or not. If the ascii number, to convert into integer.\n",
    "n=input()\n",
    "if n in range(0,127):\n",
    "    n=ord(n)\n",
    "    print(n)"
   ]
  },
  {
   "cell_type": "code",
   "execution_count": 13,
   "metadata": {},
   "outputs": [
    {
     "name": "stdout",
     "output_type": "stream",
     "text": [
      "$ 36\n"
     ]
    }
   ],
   "source": [
    "#34.\t\tWAP to check whether a character is in the special symbol or not. If the special symbol, to display a symbol with ascii value.\n",
    "n=input()\n",
    "if not(n.isalnum()):\n",
    "    print(n,ord(n))"
   ]
  },
  {
   "cell_type": "code",
   "execution_count": null,
   "metadata": {},
   "outputs": [],
   "source": [
    "#35.\t\tWAP to check whether a character is an even number or not. If the even number, to display an even number.\n",
    "n=input()\n",
    "if int(n)%2==0:\n",
    "    print(\"Even\")\n",
    "    "
   ]
  },
  {
   "cell_type": "code",
   "execution_count": null,
   "metadata": {},
   "outputs": [],
   "source": [
    "#36.\t\tWAP to check whether a Given two integers a and b, if any of the integers is 10 or if their sum is 10, to perform the sum of the numbers and to display  the square of the result.\n",
    "a,b=int(input()),int(input())\n",
    "if a==10 or b==10 or a+b==10:\n",
    "    sum=a+b\n",
    "    print(sum**2)"
   ]
  },
  {
   "cell_type": "code",
   "execution_count": 15,
   "metadata": {},
   "outputs": [
    {
     "name": "stdout",
     "output_type": "stream",
     "text": [
      "V\n"
     ]
    }
   ],
   "source": [
    "#37.\t\tWAP to check whether a character is in the vowel or not. If the vowel,print the next character.\n",
    "n=input()\n",
    "if n.lower() in 'aeiou':\n",
    "    print(chr(ord(n)+1))"
   ]
  },
  {
   "cell_type": "code",
   "execution_count": null,
   "metadata": {},
   "outputs": [],
   "source": [
    "#38.\t\tWAP to check whether a character is in the not a vowel. If it's not a vowel,print the previous character.\n",
    "n=input()\n",
    "if n.lower() not in 'aeiou':\n",
    "    print(chr(ord(n)-1))"
   ]
  },
  {
   "cell_type": "code",
   "execution_count": null,
   "metadata": {},
   "outputs": [],
   "source": [
    "#39.\t\tWAP to check whether a given value is a single value data type or not. If single value, display the given value as a single value data type.\n",
    "n=eval(input())\n",
    "l=[list,tuple,set,dict,str]\n",
    "if type(n) not in l:\n",
    "    print(\"Single value datatype\")"
   ]
  },
  {
   "cell_type": "code",
   "execution_count": null,
   "metadata": {},
   "outputs": [],
   "source": [
    "#40.\t\tWAP to check whether a given value is a multi-value data type or not. If multi value, store the given value inside the tuple and display it.\n",
    "n=eval(input())\n",
    "l=[list,tuple,set,dict,str]\n",
    "if type(n) in l:\n",
    "    t=(n,)\n",
    "    print(t)"
   ]
  },
  {
   "cell_type": "code",
   "execution_count": null,
   "metadata": {},
   "outputs": [],
   "source": [
    "#41.\t\tWAP to check whether a given value is an immutable data type or not. If an immutable data type value, store the given value inside the set and display it.\n",
    "n=eval(input())\n",
    "if type(n) not in [list,set,dict]:\n",
    "    n={n}\n",
    "    print(n)"
   ]
  },
  {
   "cell_type": "code",
   "execution_count": null,
   "metadata": {},
   "outputs": [],
   "source": [
    "#42.\t\tWAP to check whether the middle element of a given list is odd or not. If it is odd then print odd then print the number else directly print the number\n",
    "n=eval(input())\n",
    "if n[len(n)//2]%2!=0:\n",
    "    print(\"Odd\")\n",
    "print(n[len(n)//2])"
   ]
  },
  {
   "cell_type": "code",
   "execution_count": 18,
   "metadata": {},
   "outputs": [
    {
     "name": "stdout",
     "output_type": "stream",
     "text": [
      "not sadfhjsd sdf\n",
      "not sadfhjsd sdf\n"
     ]
    }
   ],
   "source": [
    "#43.\t\tWAP Return a new string with \"not\" prefixed to the front of the original string. Return the string unmodified if the string already has the word \"not\" at the beginning.\n",
    "n=input()\n",
    "l=n.split(\" \")\n",
    "if l[0]=='not':\n",
    "    print(n)\n",
    "\n",
    "\n",
    "if n[:3]=='not':\n",
    "    print(n)"
   ]
  },
  {
   "cell_type": "code",
   "execution_count": null,
   "metadata": {},
   "outputs": [],
   "source": [
    "#44.\t\tWAP to check whether a given string(str) and one integer(n) value, to display a new string that is devoid of the character at index n. if you are given a non-empty string and an int n. The value of n will be a legitimate character index from the original string, therefore it will fall within the range of 0 to len(str)-1, inclusive."
   ]
  },
  {
   "cell_type": "code",
   "execution_count": null,
   "metadata": {},
   "outputs": [],
   "source": [
    "#45.\t\tWAP to check whether the two variables are pointing to the same memory location or not if they are pointing to the same memory location then print the address of both the variables.\n",
    "a,b=eval(input()),eval(input())\n",
    "if a is b:\n",
    "    print(id(a),id(b))"
   ]
  },
  {
   "cell_type": "code",
   "execution_count": null,
   "metadata": {},
   "outputs": [],
   "source": [
    "#46.\t\tWAP to check whether the given length of the string is even or not. If the condition is satisfied, display the sequence of characters from zero position to length of collection -2. \n",
    "a=input()\n",
    "if len(a)%2==0:\n",
    "    print(a[:len(a)-2])"
   ]
  },
  {
   "cell_type": "code",
   "execution_count": null,
   "metadata": {},
   "outputs": [],
   "source": [
    "#47.\t\tWAP to check whether the two given strings are having the same values or not. If both are not the same values then swap the values of one variable to another variable after swapping print the two values.\n",
    "a,b=input(),input()\n",
    "if a is not b:\n",
    "    a,b=b,a\n",
    "    print(a,b)\n",
    "    "
   ]
  },
  {
   "cell_type": "code",
   "execution_count": null,
   "metadata": {},
   "outputs": [],
   "source": [
    "#48.\t\tWAP to check whether a given  character is a special symbol or not. If satisfied, store the symbol as a key and value as a ascii value of the given character inside the dictionary. \n",
    "n=input()\n",
    "if n.isalnum():\n",
    "    d={n:ord(n)}\n",
    "    print(d)"
   ]
  },
  {
   "cell_type": "code",
   "execution_count": 25,
   "metadata": {},
   "outputs": [
    {
     "name": "stdout",
     "output_type": "stream",
     "text": [
      "{'2': 2, '1': 1, '3': 3, '5': 5}\n"
     ]
    }
   ],
   "source": [
    "#49.\t \tWAP to check whether a given key is not present in the dictionary or not. If the key is not present, append the new key inside the dictionary.\n",
    "n=input()\n",
    "d={'2':2,'1':1,'3':3}\n",
    "if n not in d:\n",
    "    d=d|{n:int(n)}\n",
    "    print(d)\n"
   ]
  },
  {
   "cell_type": "code",
   "execution_count": 26,
   "metadata": {},
   "outputs": [
    {
     "name": "stdout",
     "output_type": "stream",
     "text": [
      "naveeN\n"
     ]
    }
   ],
   "source": [
    "#50.\t\tWAP whether a given string, and it displays a new string with the first and last characters switched.\n",
    "n=input()\n",
    "n=n[-1]+n[1:len(n)-1]+n[0]\n",
    "print(n)"
   ]
  },
  {
   "cell_type": "code",
   "execution_count": null,
   "metadata": {},
   "outputs": [],
   "source": [
    "#51.\t\tWAP to check whether the last digit should be 2  in the given number then print the last digit.\n",
    "n=int(input())\n",
    "if n%10==2:\n",
    "    print(n%10)"
   ]
  },
  {
   "cell_type": "code",
   "execution_count": null,
   "metadata": {},
   "outputs": [],
   "source": [
    "#52.\t\tWAP to check whether a Given two integers a and b, if any of the integers is 10 or if their sum is 10, to perform the sum of the numbers and to display  the square of the result.\n",
    "a,b=int(input()),int(input())\n",
    "if a==10 or b==10 or a+b==10:\n",
    "    sum=a+b\n",
    "    print(sum**2)"
   ]
  },
  {
   "cell_type": "code",
   "execution_count": null,
   "metadata": {},
   "outputs": [],
   "source": [
    "#53.\t\tWAP to check whether a given string(str) and one integer(n) value, to display a new string that is devoid of the character at index n. if you are given a non-empty string and an int n. The value of n will be a legitimate character index from the original string, therefore it will fall within the range of 0 to len(str)-1, inclusive.\n"
   ]
  },
  {
   "cell_type": "code",
   "execution_count": 27,
   "metadata": {},
   "outputs": [
    {
     "name": "stdout",
     "output_type": "stream",
     "text": [
      "6 7\n"
     ]
    }
   ],
   "source": [
    "#54.\t\tWAP to check whether both string collections are equal or not if it is not equal print the both strings along with the length of a string if both are equal ignore it.\n",
    "a,b=input(),input()\n",
    "if a is not b:\n",
    "    print(len(a),len(b))"
   ]
  }
 ],
 "metadata": {
  "kernelspec": {
   "display_name": "Python 3",
   "language": "python",
   "name": "python3"
  },
  "language_info": {
   "codemirror_mode": {
    "name": "ipython",
    "version": 3
   },
   "file_extension": ".py",
   "mimetype": "text/x-python",
   "name": "python",
   "nbconvert_exporter": "python",
   "pygments_lexer": "ipython3",
   "version": "3.11.3"
  },
  "orig_nbformat": 4
 },
 "nbformat": 4,
 "nbformat_minor": 2
}
