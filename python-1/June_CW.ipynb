{
 "cells": [
  {
   "cell_type": "code",
   "execution_count": null,
   "metadata": {},
   "outputs": [],
   "source": [
    "#1\n",
    "n=int(input())\n",
    "if n>0:\n",
    "    print(\"Positive\")\n",
    "else:\n",
    "    print(\"Negative\")"
   ]
  },
  {
   "cell_type": "code",
   "execution_count": 1,
   "metadata": {},
   "outputs": [
    {
     "name": "stdout",
     "output_type": "stream",
     "text": [
      "Odd\n"
     ]
    }
   ],
   "source": [
    "#2\n",
    "n=int(input())\n",
    "if n%2==0:\n",
    "    print(\"Even\")\n",
    "else:\n",
    "    print(\"Odd\")"
   ]
  },
  {
   "cell_type": "code",
   "execution_count": null,
   "metadata": {},
   "outputs": [],
   "source": [
    "#3\n",
    "n=int(input())\n",
    "if n>10:\n",
    "    print(\"Greater\")\n",
    "else:\n",
    "    print(\"Not Greater\")"
   ]
  },
  {
   "cell_type": "code",
   "execution_count": null,
   "metadata": {},
   "outputs": [],
   "source": [
    "#4\n",
    "n=int(input())\n",
    "if 45<n<125:\n",
    "    print(chr(n))"
   ]
  },
  {
   "cell_type": "code",
   "execution_count": null,
   "metadata": {},
   "outputs": [],
   "source": [
    "#5\n",
    "a,b=int(input()),int(input())\n",
    "if a%3==0 and a%5==0 and b%3==0 and b%5==0:\n",
    "    print(\"Good Morning\")\n",
    "else:\n",
    "    print(\"Good Evening\")"
   ]
  },
  {
   "cell_type": "code",
   "execution_count": null,
   "metadata": {},
   "outputs": [],
   "source": [
    "#6\n",
    "a,b=int(input()),int(input())\n",
    "if a==b:\n",
    "    print(a*b)"
   ]
  },
  {
   "cell_type": "code",
   "execution_count": null,
   "metadata": {},
   "outputs": [],
   "source": [
    "#7\n",
    "a,b=int(input()),int(input())\n",
    "if a>b:\n",
    "    print(a,\"Greater than\",b)\n",
    "else:\n",
    "    print(b,\"Greater than\",a)"
   ]
  },
  {
   "cell_type": "code",
   "execution_count": null,
   "metadata": {},
   "outputs": [],
   "source": [
    "#8\n",
    "a=int(input())\n",
    "if a>10:\n",
    "    print(\"Greater\",a)\n",
    "else:\n",
    "    print(\"Lesser\",a)\n",
    "    "
   ]
  },
  {
   "cell_type": "code",
   "execution_count": null,
   "metadata": {},
   "outputs": [],
   "source": [
    "#9\n",
    "a=int(input())\n",
    "if a>21:\n",
    "    print(\"Absolute difference : \",a-21)\n",
    "else:\n",
    "    print(\"Twice the absolute difference : \",21-a)"
   ]
  },
  {
   "cell_type": "code",
   "execution_count": null,
   "metadata": {},
   "outputs": [],
   "source": [
    "#10  WAP to find out the factorial of given nunmber.\n",
    "n=7\n",
    "fact=1\n",
    "while (n!=0):\n",
    "    fact*=n\n",
    "    n-=1\n",
    "print(fact)"
   ]
  },
  {
   "cell_type": "code",
   "execution_count": null,
   "metadata": {},
   "outputs": [],
   "source": [
    "#11 WAP to print fibonocii series.\n",
    "a=0\n",
    "b=1\n",
    "n=10\n",
    "print(a,end=\" \")\n",
    "while n-1:\n",
    "    print(b,end=\" \")\n",
    "    c=a+b\n",
    "    a=b\n",
    "    b=c\n",
    "    n=n-1\n"
   ]
  },
  {
   "cell_type": "code",
   "execution_count": null,
   "metadata": {},
   "outputs": [],
   "source": [
    "# Given num is polyndrome or not \n",
    "n=1234321\n",
    "x=n\n",
    "p=0\n",
    "while n:\n",
    "    p=p*10+n%10\n",
    "    n=n//10\n",
    "if x==p:\n",
    "    print(\"Polyndrome\")"
   ]
  },
  {
   "cell_type": "code",
   "execution_count": null,
   "metadata": {},
   "outputs": [],
   "source": [
    "# WAP to findout the given number is perfect number or not. \n",
    "n=6\n",
    "s=0\n",
    "i=1\n",
    "while i<n:\n",
    "    if n%i==0:\n",
    "        s+=i\n",
    "    i+=1\n",
    "if s==n:\n",
    "    print(\"perfect number\")"
   ]
  },
  {
   "cell_type": "code",
   "execution_count": null,
   "metadata": {},
   "outputs": [],
   "source": [
    "# WAP to check whether given number is a even or not. if it is even, Check given number is perfect number or not. If it is perfect number, print fibanocii series.\n",
    "#If given number is odd, find the factorial number . If factorial number is divisible by given number display \"Hi\".\n",
    "n=6\n",
    "if n%2==0:\n",
    "    t=n\n",
    "    s=0\n",
    "    while t:\n",
    "        s=s+t%10\n",
    "        t//=10\n",
    "    if s==n:\n",
    "        print(\"It is perfect number\")\n",
    "        print(\"Staring to print fibonocii series\")\n",
    "        t=n\n",
    "        a=0\n",
    "        b=1\n",
    "        print(a,b,end=\" \")\n",
    "        while t-2:\n",
    "            c=a+b\n",
    "            print(c,end=\" \")\n",
    "            a=b\n",
    "            b=c\n",
    "            t-=1\n",
    "else:\n",
    "    t=n\n",
    "    p=1\n",
    "    while t:\n",
    "        p*=t\n",
    "        t-=1\n",
    "    if p%n==0:\n",
    "        print(\"Hi\")\n",
    "    \n",
    " "
   ]
  },
  {
   "cell_type": "code",
   "execution_count": null,
   "metadata": {},
   "outputs": [],
   "source": [
    "# Armstrong number\n",
    "n=9474\n",
    "t=n\n",
    "s=0\n",
    "l=len(str(n))\n",
    "while t:\n",
    "    s+=(t%10)**l\n",
    "    t//=10\n",
    "if s==n:\n",
    "    print(\"Armstrong number\")  "
   ]
  },
  {
   "cell_type": "code",
   "execution_count": null,
   "metadata": {},
   "outputs": [],
   "source": [
    "# Strong number \n",
    "n=145\n",
    "t=n\n",
    "s=0\n",
    "while t:\n",
    "    x=t%10\n",
    "    p=1\n",
    "    while x:\n",
    "        p*=x\n",
    "        x-=1\n",
    "    s+=p\n",
    "    t//=10\n",
    "if n==s:\n",
    "    print(\"Strong number\")\n"
   ]
  },
  {
   "cell_type": "code",
   "execution_count": 22,
   "metadata": {},
   "outputs": [
    {
     "name": "stdout",
     "output_type": "stream",
     "text": [
      "SPY number\n"
     ]
    }
   ],
   "source": [
    "# spy number \n",
    "n=1124\n",
    "s=0\n",
    "p=1\n",
    "while n:\n",
    "    r=n%10\n",
    "    s+=r\n",
    "    p*=r\n",
    "    n//=10\n",
    "if s==p:\n",
    "    print(\"SPY number\")"
   ]
  },
  {
   "cell_type": "code",
   "execution_count": 2,
   "metadata": {},
   "outputs": [
    {
     "name": "stdout",
     "output_type": "stream",
     "text": [
      "I am Happy\n"
     ]
    }
   ],
   "source": [
    "# Happy number \n",
    "n=49\n",
    "f=0\n",
    "i,s=0,0\n",
    "l=[]\n",
    "while n not in l:\n",
    "    l.append(s)\n",
    "    s=0\n",
    "    while n:\n",
    "        s+=(n%10)**2\n",
    "        n//=10\n",
    "    if s==1:\n",
    "        print(\"I am Happy\")\n",
    "        break\n",
    "    n=s\n",
    "    i+=1    \n",
    "else:\n",
    "    print(\"I am not Happy\")"
   ]
  },
  {
   "cell_type": "code",
   "execution_count": 7,
   "metadata": {},
   "outputs": [
    {
     "name": "stdout",
     "output_type": "stream",
     "text": [
      "Prime\n"
     ]
    }
   ],
   "source": [
    "# Prime number \n",
    "n=97\n",
    "start=2\n",
    "count=0\n",
    "while start<n//2:\n",
    "    if n%start==0:\n",
    "        print(\"Not a prime\")\n",
    "        break\n",
    "    start+=1\n",
    "else:\n",
    "    print(\"Prime\")"
   ]
  },
  {
   "cell_type": "code",
   "execution_count": 9,
   "metadata": {},
   "outputs": [
    {
     "name": "stdout",
     "output_type": "stream",
     "text": [
      "1\n",
      "2\n",
      "3\n",
      "4\n",
      "5\n",
      "6\n",
      "7\n",
      "8\n",
      "9\n"
     ]
    }
   ],
   "source": [
    "# WAP to print the values with in given range.\n",
    "n=10\n",
    "start=1\n",
    "while start<n:\n",
    "    print(start)\n",
    "    start+=1"
   ]
  },
  {
   "cell_type": "code",
   "execution_count": 10,
   "metadata": {},
   "outputs": [
    {
     "name": "stdout",
     "output_type": "stream",
     "text": [
      "2\n",
      "4\n",
      "6\n",
      "8\n"
     ]
    }
   ],
   "source": [
    "# WAP to print even numbers in given range.\n",
    "n=10\n",
    "start=1\n",
    "while start<n:\n",
    "    if start%2==0:\n",
    "        print(start)\n",
    "    start+=1\n"
   ]
  },
  {
   "cell_type": "code",
   "execution_count": 13,
   "metadata": {},
   "outputs": [
    {
     "name": "stdout",
     "output_type": "stream",
     "text": [
      "1 - 1\n",
      "2 - 2\n",
      "3 - 6\n",
      "4 - 24\n",
      "5 - 120\n",
      "6 - 720\n",
      "7 - 5040\n",
      "8 - 40320\n",
      "9 - 362880\n"
     ]
    }
   ],
   "source": [
    "# WAp to print the series of factorial numbers in given range.\n",
    "n=10\n",
    "start=1\n",
    "while start<n:\n",
    "    temp=start\n",
    "    p=1\n",
    "    while temp:\n",
    "        p*=temp\n",
    "        temp-=1\n",
    "    print(start,\"-\",p)\n",
    "    start+=1"
   ]
  },
  {
   "cell_type": "code",
   "execution_count": 15,
   "metadata": {},
   "outputs": [
    {
     "name": "stdout",
     "output_type": "stream",
     "text": [
      "Prime 1\n",
      "Prime 2\n",
      "Prime 3\n",
      "Prime 4\n",
      "Prime 5\n",
      "Prime 7\n"
     ]
    }
   ],
   "source": [
    "# WAP to print the series of prime numbers in given range.\n",
    "n1=10\n",
    "start1=1\n",
    "while start1<n1:\n",
    "    n=start1\n",
    "    start=2\n",
    "    while start<n//2:\n",
    "        if n%start==0:\n",
    "            break\n",
    "        start+=1\n",
    "    else:\n",
    "        print(\"Prime\",start1)\n",
    "    start1+=1"
   ]
  },
  {
   "cell_type": "code",
   "execution_count": 11,
   "metadata": {},
   "outputs": [
    {
     "name": "stdout",
     "output_type": "stream",
     "text": [
      "Dr.Ranganatham1\n",
      "2\n",
      "3\n",
      "4\n",
      "5\n",
      "6\n",
      "7\n"
     ]
    }
   ],
   "source": [
    "# WAP to extract each and every data item from the given collection(one by one).\n",
    "st='Dr.Ranganatham'\n",
    "start=0\n",
    "while start<len(st):\n",
    "    print(st[start],end='')\n",
    "    start+=1\n"
   ]
  },
  {
   "cell_type": "code",
   "execution_count": 10,
   "metadata": {},
   "outputs": [
    {
     "name": "stdout",
     "output_type": "stream",
     "text": [
      "neevaN"
     ]
    }
   ],
   "source": [
    "# WAP to extract all the values inreverse order in collection.\n",
    "s='Naveen'\n",
    "t=(1,2,3,4,5)\n",
    "l=[1,2,3,4,5]\n",
    "start=len(s)-1\n",
    "while start>=0:\n",
    "    print(s[start],end='')\n",
    "    start-=1\n",
    "\n"
   ]
  },
  {
   "cell_type": "code",
   "execution_count": 12,
   "metadata": {},
   "outputs": [
    {
     "name": "stdout",
     "output_type": "stream",
     "text": [
      "aen"
     ]
    }
   ],
   "source": [
    "# WAP to extract even poition values in given collecion.\n",
    "s='Naveen'\n",
    "t=(1,2,3,4,5)\n",
    "l=[1,2,3,4,5]\n",
    "start=1\n",
    "while start<len(s):\n",
    "    print(s[start],end='')\n",
    "    start+=2"
   ]
  },
  {
   "cell_type": "code",
   "execution_count": 3,
   "metadata": {},
   "outputs": [
    {
     "name": "stdout",
     "output_type": "stream",
     "text": [
      "PPE"
     ]
    }
   ],
   "source": [
    "s='PYSPIDERS'\n",
    "t='PPE'\n",
    "start=0\n",
    "while start<len(s):\n",
    "    if start%3==0:\n",
    "        print(s[start],end='')\n",
    "        start+=3\n",
    "        continue\n",
    "    start+=1"
   ]
  },
  {
   "cell_type": "code",
   "execution_count": 5,
   "metadata": {},
   "outputs": [
    {
     "name": "stdout",
     "output_type": "stream",
     "text": [
      "NAEN"
     ]
    }
   ],
   "source": [
    "#WAP to extract all the uppercase charecters.\n",
    "s='NAvEeN'\n",
    "i=0\n",
    "while i<len(s):\n",
    "    if 'A'<=s[i]<='Z':\n",
    "        print(s[i],end=\"\")\n",
    "    i+=1\n"
   ]
  },
  {
   "cell_type": "code",
   "execution_count": 7,
   "metadata": {},
   "outputs": [
    {
     "name": "stdout",
     "output_type": "stream",
     "text": [
      " ...! @@@@  __--*"
     ]
    }
   ],
   "source": [
    "# WAP to extract all special charecters in a given string.\n",
    "s='RUBA ruba...! @@@@ Ruba ruba__--*2'\n",
    "i=0\n",
    "while i<len(s):\n",
    "    if not('A'<=s[i]<='Z' or 'a'<=s[i]<='z' or '0'<=s[i]<='9'):\n",
    "        print(s[i],end='')\n",
    "    i+=1\n"
   ]
  },
  {
   "cell_type": "code",
   "execution_count": 7,
   "metadata": {},
   "outputs": [
    {
     "name": "stdout",
     "output_type": "stream",
     "text": [
      "Not dvisible by 5\n"
     ]
    }
   ],
   "source": [
    "# WAP to print sum of the digits in given string and find out given sum i divisible by 5 or not. If it is divisible, Check it is prime number or not \n",
    "s='asdb27nh3kjb34k235h77jbb'\n",
    "i=0\n",
    "sum=0\n",
    "while i<len(s):\n",
    "    if '0'<=s[i]<='9':\n",
    "        sum+=int(s[i])\n",
    "    i+=1\n",
    "\n",
    "if sum%5==0:\n",
    "    i=2\n",
    "    while i<=sum//2:\n",
    "        if sum%i==0:\n",
    "            print(\"Composite\")\n",
    "            break\n",
    "    else:\n",
    "        print(\"Prime\",sum)\n",
    "else:\n",
    "    print(\"Not dvisible by 5\")\n",
    "    "
   ]
  },
  {
   "cell_type": "code",
   "execution_count": 9,
   "metadata": {},
   "outputs": [
    {
     "name": "stdout",
     "output_type": "stream",
     "text": [
      "[10, 30, 40, 50]\n"
     ]
    }
   ],
   "source": [
    "#WAP to extract and store value in a list if it is even.\n",
    "l=[10,25,30,40,50]\n",
    "res=[]\n",
    "start=0\n",
    "while start<len(l):\n",
    "    if l[start]%2==0:\n",
    "        res+=[l[start]]\n",
    "    start+=1\n",
    "print(res)"
   ]
  },
  {
   "cell_type": "code",
   "execution_count": 27,
   "metadata": {},
   "outputs": [
    {
     "name": "stdout",
     "output_type": "stream",
     "text": [
      "[12, 34, 45, 6, 4] ['*', '&', '@', '^']\n"
     ]
    }
   ],
   "source": [
    "# WAP to segregate the values from the given list.\n",
    "# All numbers store inside the list. All special charecters store inside the list.\n",
    "l=[12,'*',34,'&',45,'@',6,'^',4,]\n",
    "n=[]\n",
    "s=[]\n",
    "start=0\n",
    "while start<len(l):\n",
    "    if type(l[start]) in (int,float,complex):\n",
    "        n+=[l[start]]\n",
    "    elif ord(l[start].lower()) not in range(ord('a'),ord('z')+1):\n",
    "        s+=[l[start]]\n",
    "    start+=1\n",
    "print(n,s)\n"
   ]
  },
  {
   "cell_type": "code",
   "execution_count": 3,
   "metadata": {},
   "outputs": [
    {
     "name": "stdout",
     "output_type": "stream",
     "text": [
      "['10', '20', '10', '2'] ['+', '-', '*']\n"
     ]
    }
   ],
   "source": [
    "s='10+20-10*2'\n",
    "n=[]\n",
    "ns=''\n",
    "a=[]\n",
    "sa=''\n",
    "start=0\n",
    "while start<len(s):\n",
    "    if '0'<=s[start]<='9':\n",
    "        if sa!='': \n",
    "            a+=[sa]\n",
    "        ns+=s[start]\n",
    "        sa=''\n",
    "    elif ord(s[start]) not in range(ord('a'),ord('z')+1):\n",
    "        if ns!='':\n",
    "            n+=[ns]\n",
    "        sa+=s[start]\n",
    "        ns=''\n",
    "    start+=1\n",
    "else:\n",
    "    n+=[ns]\n",
    "print(n,a)\n"
   ]
  },
  {
   "cell_type": "code",
   "execution_count": 76,
   "metadata": {},
   "outputs": [
    {
     "name": "stdout",
     "output_type": "stream",
     "text": [
      "True\n",
      "Result 20\n"
     ]
    }
   ],
   "source": [
    "# Solve expression that is in string format.\n",
    "s='10+20-10%2'\n",
    "t=0\n",
    "pop='+'\n",
    "start=0\n",
    "sum=0\n",
    "t=''\n",
    "while start<len(s):\n",
    "    dic={'+':sum+int(t) if t!='' else sum,'-':sum-int(t) if t!='' else sum,'%':sum if t=='' else (sum if int(t)<0 else sum%int(t)),\"//\":sum//int(t) if t!='' and int(t)>0 else sum ,'/':sum/int(t) if t!='' and int(t)>0 else sum ,'*':sum*int(t) if t!='' and int(t)>0 else sum}\n",
    "    if '0'<=s[start]<='9':\n",
    "        t+=s[start]\n",
    "    elif ord(s[start].lower()) not in range(ord('a'),ord('z')+1):\n",
    "        sum=dic[pop]\n",
    "        pop=s[start]\n",
    "        t=''\n",
    "    start+=1\n",
    "else:\n",
    "    print(t!='' and int(t)>0)\n",
    "    sum=dic[pop]\n",
    "print(\"Result\",sum)"
   ]
  },
  {
   "cell_type": "code",
   "execution_count": 79,
   "metadata": {},
   "outputs": [
    {
     "name": "stdout",
     "output_type": "stream",
     "text": [
      "0 + 10 10\n",
      "10 + 20 30\n",
      "30 - 10 20\n",
      "20 % 2 20\n",
      "Result 20\n"
     ]
    }
   ],
   "source": [
    "# Solve expression-1\n",
    "# Solve expression that is in string format.\n",
    "s='*10+20-10%2'\n",
    "t=0\n",
    "pop='+'\n",
    "start=0\n",
    "sum=0\n",
    "t=''\n",
    "while start<len(s):\n",
    "    dic={'+':sum+int(t) if t!='' else sum,'-':sum-int(t) if t!='' else sum,'%':sum%int(t) if t!='' and int(t)>0 else sum ,\"//\":sum//int(t) if t!='' and int(t)>0 else sum ,'/':sum/int(t) if t!='' and int(t)>0 else sum ,'*': sum*int(t) if (t!='' and int(t)>0) else sum+1}\n",
    "    if '0'<=s[start]<='9':\n",
    "        t+=s[start]\n",
    "    elif ord(s[start].lower()) not in range(ord('a'),ord('z')+1):\n",
    "        if start==0:\n",
    "            s=s[1:]\n",
    "            start=0\n",
    "            continue\n",
    "        if start==len(s)-1:\n",
    "            s=s[:start-1]\n",
    "            continue\n",
    "        print(sum,pop,t,dic[pop])\n",
    "        sum=dic[pop]\n",
    "        if s[start]==s[start+1]:\n",
    "            pop=s[start]*2\n",
    "            start+=1\n",
    "        else:\n",
    "            pop=s[start]\n",
    "        t=''\n",
    "    if start==len(s)-1:\n",
    "        print(sum,pop,t,dic[pop])\n",
    "        sum=dic[pop]\n",
    "    start+=1\n",
    "print(\"Result\",sum)"
   ]
  },
  {
   "cell_type": "code",
   "execution_count": 8,
   "metadata": {},
   "outputs": [
    {
     "name": "stdout",
     "output_type": "stream",
     "text": [
      "10+40+3\n",
      "Result 53\n"
     ]
    }
   ],
   "source": [
    "n = '10+20*2+10/3'\n",
    "i=0\n",
    "num=''\n",
    "prenum=''\n",
    "preop=''\n",
    "flag=0\n",
    "som=0\n",
    "s_index=0\n",
    "e_index=0\n",
    "while i<len(n):\n",
    "    if '0'<=n[i]<='9' or n[i]=='.':\n",
    "        num+=n[i]\n",
    "        if flag==1 and num!='':\n",
    "            e_index=i\n",
    "    elif not('a'<=n[i].lower()<='z'):\n",
    "        if flag==1:\n",
    "            match preop:\n",
    "                case '*':som=int(prenum)*int(num)\n",
    "                case '**':som=int(prenum)**int(num)\n",
    "                case '/':som=int(prenum)/int(num)\n",
    "                case '//':som=int(prenum)//int(num)\n",
    "                case '%':som=int(prenum)%int(num)\n",
    "            n=n[:s_index]+str(som)+n[e_index+1:]\n",
    "            i=s_index\n",
    "            flag=0\n",
    "            num=''\n",
    "            continue\n",
    "        if n[i] in ['*','/','//','%','**']:\n",
    "            s_index=len(n[0:i])-len(num)\n",
    "            preop=n[i]\n",
    "            if n[i:i+2] in ['//','**']:\n",
    "                preop=n[i:i+2]\n",
    "                i+=1\n",
    "            prenum=num\n",
    "            num=''\n",
    "            flag=1\n",
    "            i+=1\n",
    "            continue\n",
    "        preop=n[i]\n",
    "        num=''\n",
    "    i+=1\n",
    "else:\n",
    "    if flag==1:\n",
    "        match preop:\n",
    "            case '*':som=int(prenum)*int(num)\n",
    "            case '**':som=int(prenum)**int(num)\n",
    "            case '/':som=int(prenum)/int(num)\n",
    "            case '//':som=int(prenum)//int(num)\n",
    "            case '%':som=int(prenum)%int(num)\n",
    "        n=n[:s_index]+str(int(som))+n[e_index+1:]\n",
    "        i=s_index\n",
    "        flag=0\n",
    "        flag1=0\n",
    "s=n\n",
    "print(s)\n",
    "t=0\n",
    "pop='+'\n",
    "start=0\n",
    "sum=0\n",
    "t=''\n",
    "while start<len(s):\n",
    "    dic={'+':sum+int(t) if t!='' else sum,'-':sum-int(t) if t!='' else sum}\n",
    "    if '0'<=s[start]<='9' or s[start]=='.':\n",
    "        t+=s[start]\n",
    "    elif ord(s[start].lower()) not in range(ord('a'),ord('z')+1):\n",
    "        if start==0:\n",
    "            s=s[1:]\n",
    "            start=0\n",
    "            continue\n",
    "        if start==len(s)-1:\n",
    "            s=s[:start-1]\n",
    "            continue\n",
    "        sum=dic[pop]\n",
    "        if s[start]==s[start+1]:\n",
    "            pop=s[start]*2\n",
    "            start+=1\n",
    "        else:\n",
    "            pop=s[start]\n",
    "        t=''\n",
    "    start+=1\n",
    "else:\n",
    "    dic={'+':sum+int(t) if t!='' else sum,'-':sum-int(t) if t!='' else sum}\n",
    "    sum=dic[pop]\n",
    "print(\"Result\",sum)\n",
    "            \n",
    "            \n"
   ]
  },
  {
   "cell_type": "code",
   "execution_count": 43,
   "metadata": {},
   "outputs": [
    {
     "name": "stdout",
     "output_type": "stream",
     "text": [
      "['ABC', 'DEF', 'KLM']\n"
     ]
    }
   ],
   "source": [
    "# Store sequence of alphabets\n",
    "st='ABCDEFIKLMST'\n",
    "start=0\n",
    "res=''\n",
    "l=[]\n",
    "while start<len(st)-1:\n",
    "    if ord(st[start])-ord(st[start+1])==-1:\n",
    "        res+=st[start]\n",
    "    if res!='' and len(res)==2:\n",
    "        res+=st[start+1]\n",
    "        l+=[res]\n",
    "        start+=1\n",
    "        res=''\n",
    "    start+=1\n",
    "else:\n",
    "    if res!='' and len(res)==3:\n",
    "        res+=st[start]\n",
    "        l+=[res]\n",
    "print(l)"
   ]
  },
  {
   "cell_type": "code",
   "execution_count": 48,
   "metadata": {},
   "outputs": [
    {
     "name": "stdout",
     "output_type": "stream",
     "text": [
      "avgsdhb\n"
     ]
    }
   ],
   "source": [
    "# WAP program to extract and store the duplicate charecters from given string.\n",
    "s='avgsadhbabsdvg'\n",
    "start=0\n",
    "t=''\n",
    "while start<len(s):\n",
    "    i=0\n",
    "    while i<len(t):\n",
    "        if s[start]==t[i]:\n",
    "            break\n",
    "        i+=1\n",
    "    else:\n",
    "        t+=s[start]\n",
    "    start+=1\n",
    "print(t)"
   ]
  },
  {
   "cell_type": "code",
   "execution_count": 1,
   "metadata": {},
   "outputs": [
    {
     "name": "stdout",
     "output_type": "stream",
     "text": [
      "Max Charecter :  a\n"
     ]
    }
   ],
   "source": [
    "n='Naaveen Kumar'.lower()\n",
    "start=0\n",
    "temp=''\n",
    "max_ch=''\n",
    "max_count=0\n",
    "while start<len(n):\n",
    "    if n[start] not in temp:\n",
    "        start1=start+1\n",
    "        count=0\n",
    "        while start1<len(n):\n",
    "            if n[start]==n[start1]:\n",
    "                count+=1\n",
    "            start1+=1\n",
    "        if max_count<count:\n",
    "            max_count=count\n",
    "            max_ch=n[start]\n",
    "            temp+=n[start]\n",
    "    start+=1\n",
    "print('Max Charecter : ',max_ch)"
   ]
  },
  {
   "cell_type": "code",
   "execution_count": 6,
   "metadata": {},
   "outputs": [
    {
     "name": "stdout",
     "output_type": "stream",
     "text": [
      "9\n"
     ]
    }
   ],
   "source": [
    "# get sum of digits till you get single digit.\n",
    "n=54\n",
    "print(n%9 if n%9!=0 else 9)"
   ]
  },
  {
   "cell_type": "code",
   "execution_count": 7,
   "metadata": {},
   "outputs": [
    {
     "name": "stdout",
     "output_type": "stream",
     "text": [
      "Naven\n"
     ]
    }
   ],
   "source": [
    "# WAP to extract unique charecters in a string.\n",
    "n='Naveen'\n",
    "res=''\n",
    "i=0\n",
    "while i<len(n):\n",
    "    if n[i] not in res:\n",
    "        res+=n[i]\n",
    "    i+=1\n",
    "print(res)"
   ]
  },
  {
   "cell_type": "code",
   "execution_count": 11,
   "metadata": {},
   "outputs": [
    {
     "name": "stdout",
     "output_type": "stream",
     "text": [
      "en nave\n"
     ]
    }
   ],
   "source": [
    "# WAP to extract duplicate charecters in a string.\n",
    "n='Naveen'.lower()\n",
    "res=''\n",
    "dup=''\n",
    "i=0\n",
    "while i<len(n):\n",
    "    if n[i] not in res:\n",
    "        res+=n[i]\n",
    "    else:\n",
    "        dup+=n[i]\n",
    "    i+=1\n",
    "print(dup,res)"
   ]
  },
  {
   "cell_type": "markdown",
   "metadata": {},
   "source": [
    "*** For loop ***\n",
    "-> It is one of the iteration statement or looping statement. It will repeat the set of statements untill length of the collection.\n",
    "-> The forloop will accept one initialization statement and collection.\n",
    "-> For loop dynamically it will update the values.\n",
    "-> We need not write any condition or updation process.\n",
    "Syntax :- \n",
    "    for <variable name> in <collection>:\n",
    "        #Set of instructions\n",
    "-> Here, for and in are keywords.\n"
   ]
  },
  {
   "cell_type": "code",
   "execution_count": 9,
   "metadata": {},
   "outputs": [
    {
     "name": "stdout",
     "output_type": "stream",
     "text": [
      "r W H o d e   l "
     ]
    }
   ],
   "source": [
    "# Print Hello world'.\n",
    "s='Hello World'\n",
    "s=set(s)\n",
    "for i in s:\n",
    "    print(i,end=' ')"
   ]
  },
  {
   "cell_type": "code",
   "execution_count": 12,
   "metadata": {},
   "outputs": [
    {
     "name": "stdout",
     "output_type": "stream",
     "text": [
      "dlroW olleH"
     ]
    }
   ],
   "source": [
    "s='Hello World'\n",
    "for i in range(-1,-len(s)-1,-1):\n",
    "    print(s[i],end='')"
   ]
  },
  {
   "cell_type": "code",
   "execution_count": 8,
   "metadata": {},
   "outputs": [
    {
     "name": "stdout",
     "output_type": "stream",
     "text": [
      "1\n",
      "2\n",
      "3\n",
      "4\n",
      "5\n",
      "polyndrome\n"
     ]
    }
   ],
   "source": [
    "#WAP to check whether the given number is polyndrome or not by using for loop.\n",
    "n=89798\n",
    "m=n\n",
    "r=0\n",
    "pos=1\n",
    "for i in range(1,n+1):\n",
    "    res=n%10\n",
    "    r=r*10+res\n",
    "    n//=10\n",
    "    if n==0:\n",
    "        break\n",
    "if r==m:\n",
    "    print(\"polyndrome\")"
   ]
  },
  {
   "cell_type": "code",
   "execution_count": 37,
   "metadata": {},
   "outputs": [
    {
     "name": "stdout",
     "output_type": "stream",
     "text": [
      "Polyndrome\n"
     ]
    }
   ],
   "source": [
    "#WAP to check whether the given string is polyndrome or not using for loop.\n",
    "s='NavaN'\n",
    "r=''\n",
    "for i in range(-1,-len(s)-1,-1):\n",
    "    r+=s[i]\n",
    "if r==s:\n",
    "    print(\"Polyndrome\")"
   ]
  },
  {
   "cell_type": "code",
   "execution_count": 46,
   "metadata": {},
   "outputs": [
    {
     "name": "stdout",
     "output_type": "stream",
     "text": [
      "Length : 12\n"
     ]
    }
   ],
   "source": [
    "# WAP to find the length of the string.\n",
    "s='Naveen Kumar'\n",
    "i=0\n",
    "for x in s:\n",
    "    i+=1\n",
    "print(\"Length :\",i)"
   ]
  },
  {
   "cell_type": "code",
   "execution_count": 4,
   "metadata": {},
   "outputs": [
    {
     "name": "stdout",
     "output_type": "stream",
     "text": [
      "12345 11111\n",
      "1234 1111\n",
      "1234 111\n"
     ]
    }
   ],
   "source": [
    "n=12345\n",
    "step=11111\n",
    "for i in range(n,-1,-step): # Returns range object all at once through range() function. \n",
    "    print(i,step)\n",
    "    step=step//10\n",
    "else:\n",
    "    print(i,step)"
   ]
  },
  {
   "cell_type": "code",
   "execution_count": 2,
   "metadata": {},
   "outputs": [
    {
     "name": "stdout",
     "output_type": "stream",
     "text": [
      "index : 1\n"
     ]
    }
   ],
   "source": [
    "# WAP to check given charecter is present in given string or not, If given char is present then print index of that charecter.\n",
    "s='Naveen'\n",
    "c='a'\n",
    "for i in range(len(s)):\n",
    "    if c==s[i]:\n",
    "        print(\"index :\",i)\n",
    "        break\n",
    "else:\n",
    "    print(\"Not present in string\")\n"
   ]
  },
  {
   "cell_type": "code",
   "execution_count": 14,
   "metadata": {},
   "outputs": [
    {
     "name": "stdout",
     "output_type": "stream",
     "text": [
      "p Present at 9 in sqpiders pyspiders\n"
     ]
    }
   ],
   "source": [
    "s='sqpiders pyspiders'\n",
    "c='p'\n",
    "def index(coll,ele,pos=1,start=0,end=None):\n",
    "    if end==None or end>=len(coll):\n",
    "        end=len(coll)\n",
    "    if ele in coll:\n",
    "        l=[]\n",
    "        for i in range(start,end):\n",
    "            if ele==coll[i]:\n",
    "                l+=[i]\n",
    "                break\n",
    "        if pos<=len(l):\n",
    "            print(ele,\"Present at\",l[pos-1],\"in\",coll)\n",
    "        else:\n",
    "            print(ele,\"not Present in\",coll,\"in given range (\",start,\",\",end,\")\") \n",
    "    else:\n",
    "        print(ele,\"Not Present in\",coll)\n",
    "index(coll=s,ele=c,start=3,end=39)\n",
    "       "
   ]
  },
  {
   "cell_type": "code",
   "execution_count": 20,
   "metadata": {},
   "outputs": [
    {
     "name": "stdout",
     "output_type": "stream",
     "text": [
      "rama krishna\n"
     ]
    }
   ],
   "source": [
    "# WAP to convert uppercase to lower case.\n",
    "s='RaMA KriShnA'\n",
    "r=''\n",
    "for i in s:\n",
    "    if 'A'<=i<='Z':\n",
    "        r+=chr(ord(i)+32)\n",
    "    else:\n",
    "        r+=i\n",
    "print(r)"
   ]
  },
  {
   "cell_type": "code",
   "execution_count": 6,
   "metadata": {},
   "outputs": [
    {
     "name": "stdout",
     "output_type": "stream",
     "text": [
      "rama krishna\n"
     ]
    }
   ],
   "source": [
    "# WAP to convert uppercase to lower case.\n",
    "s='RaMA KriShnA'\n",
    "r=''\n",
    "def convert():\n",
    "    global r\n",
    "    for i in s:\n",
    "        if 'A'<=i<='Z':\n",
    "            r+=chr(ord(i)+32)\n",
    "        else:\n",
    "            r+=i\n",
    "    return r\n",
    "print(convert())"
   ]
  },
  {
   "cell_type": "code",
   "execution_count": 11,
   "metadata": {},
   "outputs": [
    {
     "name": "stdout",
     "output_type": "stream",
     "text": [
      "rama krishna\n",
      "rAma kRIsHNa\n",
      "RaMA KriShnA\n"
     ]
    }
   ],
   "source": [
    "s='RaMA KriShnA'\n",
    "print(s.casefold())\n",
    "print(s.swapcase())\n",
    "print(s)"
   ]
  },
  {
   "cell_type": "code",
   "execution_count": 12,
   "metadata": {},
   "outputs": [
    {
     "name": "stdout",
     "output_type": "stream",
     "text": [
      "Not Upper\n"
     ]
    }
   ],
   "source": [
    "# WAP to check whether given string is upper or not\n",
    "s='RaMA KriShnA'\n",
    "def upper():\n",
    "    for i in s:\n",
    "        if 'a'<=i<='z':\n",
    "            return 'Not Upper'\n",
    "    else:\n",
    "        return \"Uppercase\"\n",
    "print(upper())"
   ]
  },
  {
   "cell_type": "code",
   "execution_count": 14,
   "metadata": {},
   "outputs": [
    {
     "name": "stdout",
     "output_type": "stream",
     "text": [
      "True\n"
     ]
    }
   ],
   "source": [
    "# WAP to check whether given string is numeric or not \n",
    "s='12414'\n",
    "def numeric():\n",
    "    for i in s:\n",
    "        if '0'<=i<='9':\n",
    "            continue\n",
    "        else:\n",
    "            return False\n",
    "    else:\n",
    "        return True\n",
    "print(numeric()) "
   ]
  },
  {
   "cell_type": "code",
   "execution_count": 16,
   "metadata": {},
   "outputs": [
    {
     "name": "stdout",
     "output_type": "stream",
     "text": [
      "True\n"
     ]
    }
   ],
   "source": [
    "s='123'\n",
    "print(s.isdecimal())"
   ]
  },
  {
   "cell_type": "code",
   "execution_count": 19,
   "metadata": {},
   "outputs": [
    {
     "name": "stdout",
     "output_type": "stream",
     "text": [
      "True\n"
     ]
    }
   ],
   "source": [
    "# Check password \n",
    "# Starting charecter should be uppercase \n",
    "# Length of the password should be more than 8 \n",
    "# Minimum 2 lowercase charecters, 2 uppercase charecters, 1 special symbol and one digit.\n",
    "s='A@aaA8785'\n",
    "def password():\n",
    "    if len(s)<=8:\n",
    "        return False\n",
    "    l=0\n",
    "    u=0\n",
    "    sp=0\n",
    "    d=0\n",
    "    for i in range(len(s)):\n",
    "        if i==0 and 'A'<=s[i]<='Z':\n",
    "            u+=1\n",
    "            continue\n",
    "        elif 'A'<=s[i]<='Z':\n",
    "            u+=1\n",
    "        elif 'a'<=s[i]<'z':\n",
    "            l+=1\n",
    "        elif '0'<=s[i]<='9':\n",
    "            sp+=1  \n",
    "        else:\n",
    "            d+=1\n",
    "    if l>1 and u>1 and d>0 and sp>0:\n",
    "        return True\n",
    "    else:\n",
    "        return False\n",
    "print(password())"
   ]
  },
  {
   "cell_type": "markdown",
   "metadata": {},
   "source": [
    "Variables are of 3 types :\n",
    "    1. Global variable\n",
    "    2. Local variable\n",
    "    3. Non-Local variable\n"
   ]
  },
  {
   "cell_type": "code",
   "execution_count": 6,
   "metadata": {},
   "outputs": [
    {
     "name": "stdout",
     "output_type": "stream",
     "text": [
      "9\n",
      "20\n",
      "20\n",
      "20\n"
     ]
    }
   ],
   "source": [
    "x='9' # Non- local variable\n",
    "def func():\n",
    "    global x # Making non-local varible to global varible ( can access only in this block )\n",
    "    print(x) \n",
    "    x='20' # reinitializing global variable \n",
    "    print(x)\n",
    "def func1():\n",
    "    # print(x) # cann't access x in this block even after declaring x with global keyword\n",
    "    x=10\n",
    "func()\n",
    "print(x)\n",
    "func1()\n",
    "print(x)"
   ]
  },
  {
   "cell_type": "code",
   "execution_count": 6,
   "metadata": {},
   "outputs": [
    {
     "name": "stdout",
     "output_type": "stream",
     "text": [
      "23\n"
     ]
    }
   ],
   "source": [
    "l=[20,10,8,90,23]\n",
    "n=-1\n",
    "m=0\n",
    "for i in l:\n",
    "    if i>m:\n",
    "        m=i\n",
    "    if i>n and i<m :\n",
    "        n=i\n",
    "print(n)"
   ]
  }
 ],
 "metadata": {
  "kernelspec": {
   "display_name": "Python 3",
   "language": "python",
   "name": "python3"
  },
  "language_info": {
   "codemirror_mode": {
    "name": "ipython",
    "version": 3
   },
   "file_extension": ".py",
   "mimetype": "text/x-python",
   "name": "python",
   "nbconvert_exporter": "python",
   "pygments_lexer": "ipython3",
   "version": "3.11.4"
  },
  "orig_nbformat": 4
 },
 "nbformat": 4,
 "nbformat_minor": 2
}
