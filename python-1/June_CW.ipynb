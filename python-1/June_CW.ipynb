{
 "cells": [
  {
   "cell_type": "code",
   "execution_count": null,
   "metadata": {},
   "outputs": [],
   "source": [
    "#1\n",
    "n=int(input())\n",
    "if n>0:\n",
    "    print(\"Positive\")\n",
    "else:\n",
    "    print(\"Negative\")"
   ]
  },
  {
   "cell_type": "code",
   "execution_count": null,
   "metadata": {},
   "outputs": [],
   "source": [
    "#2\n",
    "n=int(input())\n",
    "if n%2==0:\n",
    "    print(\"Even\")\n",
    "else:\n",
    "    print(\"Odd\")"
   ]
  },
  {
   "cell_type": "code",
   "execution_count": null,
   "metadata": {},
   "outputs": [],
   "source": [
    "#3\n",
    "n=int(input())\n",
    "if n>10:\n",
    "    print(\"Greater\")\n",
    "else:\n",
    "    print(\"Not Greater\")"
   ]
  },
  {
   "cell_type": "code",
   "execution_count": null,
   "metadata": {},
   "outputs": [],
   "source": [
    "#4\n",
    "n=int(input())\n",
    "if 45<n<125:\n",
    "    print(chr(n))"
   ]
  },
  {
   "cell_type": "code",
   "execution_count": null,
   "metadata": {},
   "outputs": [],
   "source": [
    "#5\n",
    "a,b=int(input()),int(input())\n",
    "if a%3==0 and a%5==0 and b%3==0 and b%5==0:\n",
    "    print(\"Good Morning\")\n",
    "else:\n",
    "    print(\"Good Evening\")"
   ]
  },
  {
   "cell_type": "code",
   "execution_count": null,
   "metadata": {},
   "outputs": [],
   "source": [
    "#6\n",
    "a,b=int(input()),int(input())\n",
    "if a==b:\n",
    "    print(a*b)"
   ]
  },
  {
   "cell_type": "code",
   "execution_count": null,
   "metadata": {},
   "outputs": [],
   "source": [
    "#7\n",
    "a,b=int(input()),int(input())\n",
    "if a>b:\n",
    "    print(a,\"Greater than\",b)\n",
    "else:\n",
    "    print(b,\"Greater than\",a)"
   ]
  },
  {
   "cell_type": "code",
   "execution_count": null,
   "metadata": {},
   "outputs": [],
   "source": [
    "#8\n",
    "a=int(input())\n",
    "if a>10:\n",
    "    print(\"Greater\",a)\n",
    "else:\n",
    "    print(\"Lesser\",a)\n",
    "    "
   ]
  },
  {
   "cell_type": "code",
   "execution_count": null,
   "metadata": {},
   "outputs": [],
   "source": [
    "#9\n",
    "a=int(input())\n",
    "if a>21:\n",
    "    print(\"Absolute difference : \",a-21)\n",
    "else:\n",
    "    print(\"Twice the absolute difference : \",21-a)"
   ]
  },
  {
   "cell_type": "code",
   "execution_count": null,
   "metadata": {},
   "outputs": [],
   "source": [
    "#10  WAP to find out the factorial of given nunmber.\n",
    "n=7\n",
    "fact=1\n",
    "while (n!=0):\n",
    "    fact*=n\n",
    "    n-=1\n",
    "print(fact)"
   ]
  },
  {
   "cell_type": "code",
   "execution_count": null,
   "metadata": {},
   "outputs": [],
   "source": [
    "#11 WAP to print fibonocii series.\n",
    "a=0\n",
    "b=1\n",
    "n=10\n",
    "print(a,end=\" \")\n",
    "while n-1:\n",
    "    print(b,end=\" \")\n",
    "    c=a+b\n",
    "    a=b\n",
    "    b=c\n",
    "    n=n-1\n"
   ]
  },
  {
   "cell_type": "code",
   "execution_count": null,
   "metadata": {},
   "outputs": [],
   "source": [
    "# Given num is polyndrome or not \n",
    "n=1234321\n",
    "x=n\n",
    "p=0\n",
    "while n:\n",
    "    p=p*10+n%10\n",
    "    n=n//10\n",
    "if x==p:\n",
    "    print(\"Polyndrome\")"
   ]
  },
  {
   "cell_type": "code",
   "execution_count": null,
   "metadata": {},
   "outputs": [],
   "source": [
    "# WAP to findout the given number is perfect number or not. \n",
    "n=6\n",
    "s=0\n",
    "i=1\n",
    "while i<n:\n",
    "    if n%i==0:\n",
    "        s+=i\n",
    "    i+=1\n",
    "if s==n:\n",
    "    print(\"perfect number\")"
   ]
  },
  {
   "cell_type": "code",
   "execution_count": null,
   "metadata": {},
   "outputs": [],
   "source": [
    "# WAP to check whether given number is a even or not. if it is even, Check given number is perfect number or not. If it is perfect number, print fibanocii series.\n",
    "#If given number is odd, find the factorial number . If factorial number is divisible by given number display \"Hi\".\n",
    "n=6\n",
    "if n%2==0:\n",
    "    t=n\n",
    "    s=0\n",
    "    while t:\n",
    "        s=s+t%10\n",
    "        t//=10\n",
    "    if s==n:\n",
    "        print(\"It is perfect number\")\n",
    "        print(\"Staring to print fibonocii series\")\n",
    "        t=n\n",
    "        a=0\n",
    "        b=1\n",
    "        print(a,b,end=\" \")\n",
    "        while t-2:\n",
    "            c=a+b\n",
    "            print(c,end=\" \")\n",
    "            a=b\n",
    "            b=c\n",
    "            t-=1\n",
    "else:\n",
    "    t=n\n",
    "    p=1\n",
    "    while t:\n",
    "        p*=t\n",
    "        t-=1\n",
    "    if p%n==0:\n",
    "        print(\"Hi\")\n",
    "    \n",
    " "
   ]
  },
  {
   "cell_type": "code",
   "execution_count": null,
   "metadata": {},
   "outputs": [],
   "source": [
    "# Armstrong number\n",
    "n=9474\n",
    "t=n\n",
    "s=0\n",
    "l=len(str(n))\n",
    "while t:\n",
    "    s+=(t%10)**l\n",
    "    t//=10\n",
    "if s==n:\n",
    "    print(\"Armstrong number\")  "
   ]
  },
  {
   "cell_type": "code",
   "execution_count": null,
   "metadata": {},
   "outputs": [],
   "source": [
    "# Strong number \n",
    "n=145\n",
    "t=n\n",
    "s=0\n",
    "while t:\n",
    "    x=t%10\n",
    "    p=1\n",
    "    while x:\n",
    "        p*=x\n",
    "        x-=1\n",
    "    s+=p\n",
    "    t//=10\n",
    "if n==s:\n",
    "    print(\"Strong number\")\n"
   ]
  },
  {
   "cell_type": "code",
   "execution_count": 22,
   "metadata": {},
   "outputs": [
    {
     "name": "stdout",
     "output_type": "stream",
     "text": [
      "SPY number\n"
     ]
    }
   ],
   "source": [
    "# spy number \n",
    "n=1124\n",
    "s=0\n",
    "p=1\n",
    "while n:\n",
    "    r=n%10\n",
    "    s+=r\n",
    "    p*=r\n",
    "    n//=10\n",
    "if s==p:\n",
    "    print(\"SPY number\")"
   ]
  },
  {
   "cell_type": "code",
   "execution_count": 4,
   "metadata": {},
   "outputs": [
    {
     "name": "stdout",
     "output_type": "stream",
     "text": [
      "I am Happy\n"
     ]
    }
   ],
   "source": [
    "# Happy number \n",
    "n=49\n",
    "f=0\n",
    "i,s=0,0\n",
    "l=[]\n",
    "while n not in l:\n",
    "    l.append(s)\n",
    "    s=0\n",
    "    while n:\n",
    "        s+=(n%10)**2\n",
    "        n//=10\n",
    "    if s==1:\n",
    "        f=1\n",
    "    n=s\n",
    "    i+=1\n",
    "if f==1:\n",
    "    print(\"I am Happy\")\n",
    "else:\n",
    "    print(\"I am not Happy\")"
   ]
  },
  {
   "cell_type": "code",
   "execution_count": 7,
   "metadata": {},
   "outputs": [
    {
     "name": "stdout",
     "output_type": "stream",
     "text": [
      "Prime\n"
     ]
    }
   ],
   "source": [
    "# Prime number \n",
    "n=97\n",
    "start=2\n",
    "count=0\n",
    "while start<n//2:\n",
    "    if n%start==0:\n",
    "        print(\"Not a prime\")\n",
    "        break\n",
    "    start+=1\n",
    "else:\n",
    "    print(\"Prime\")"
   ]
  },
  {
   "cell_type": "code",
   "execution_count": 9,
   "metadata": {},
   "outputs": [
    {
     "name": "stdout",
     "output_type": "stream",
     "text": [
      "1\n",
      "2\n",
      "3\n",
      "4\n",
      "5\n",
      "6\n",
      "7\n",
      "8\n",
      "9\n"
     ]
    }
   ],
   "source": [
    "# WAP to print the values with in given range.\n",
    "n=10\n",
    "start=1\n",
    "while start<n:\n",
    "    print(start)\n",
    "    start+=1"
   ]
  },
  {
   "cell_type": "code",
   "execution_count": 10,
   "metadata": {},
   "outputs": [
    {
     "name": "stdout",
     "output_type": "stream",
     "text": [
      "2\n",
      "4\n",
      "6\n",
      "8\n"
     ]
    }
   ],
   "source": [
    "# WAP to print even numbers in given range.\n",
    "n=10\n",
    "start=1\n",
    "while start<n:\n",
    "    if start%2==0:\n",
    "        print(start)\n",
    "    start+=1\n"
   ]
  },
  {
   "cell_type": "code",
   "execution_count": 13,
   "metadata": {},
   "outputs": [
    {
     "name": "stdout",
     "output_type": "stream",
     "text": [
      "1 - 1\n",
      "2 - 2\n",
      "3 - 6\n",
      "4 - 24\n",
      "5 - 120\n",
      "6 - 720\n",
      "7 - 5040\n",
      "8 - 40320\n",
      "9 - 362880\n"
     ]
    }
   ],
   "source": [
    "# WAp to print the series of factorial numbers in given range.\n",
    "n=10\n",
    "start=1\n",
    "while start<n:\n",
    "    temp=start\n",
    "    p=1\n",
    "    while temp:\n",
    "        p*=temp\n",
    "        temp-=1\n",
    "    print(start,\"-\",p)\n",
    "    start+=1"
   ]
  },
  {
   "cell_type": "code",
   "execution_count": 15,
   "metadata": {},
   "outputs": [
    {
     "name": "stdout",
     "output_type": "stream",
     "text": [
      "Prime 1\n",
      "Prime 2\n",
      "Prime 3\n",
      "Prime 4\n",
      "Prime 5\n",
      "Prime 7\n"
     ]
    }
   ],
   "source": [
    "# WAP to print the series of prime numbers in given range.\n",
    "n1=10\n",
    "start1=1\n",
    "while start1<n1:\n",
    "    n=start1\n",
    "    start=2\n",
    "    while start<n//2:\n",
    "        if n%start==0:\n",
    "            break\n",
    "        start+=1\n",
    "    else:\n",
    "        print(\"Prime\",start1)\n",
    "    start1+=1"
   ]
  },
  {
   "cell_type": "code",
   "execution_count": 11,
   "metadata": {},
   "outputs": [
    {
     "name": "stdout",
     "output_type": "stream",
     "text": [
      "Dr.Ranganatham1\n",
      "2\n",
      "3\n",
      "4\n",
      "5\n",
      "6\n",
      "7\n"
     ]
    }
   ],
   "source": [
    "# WAP to extract each and every data item from the given collection(one by one).\n",
    "st='Dr.Ranganatham'\n",
    "start=0\n",
    "while start<len(st):\n",
    "    print(st[start],end='')\n",
    "    start+=1\n"
   ]
  },
  {
   "cell_type": "code",
   "execution_count": 10,
   "metadata": {},
   "outputs": [
    {
     "name": "stdout",
     "output_type": "stream",
     "text": [
      "neevaN"
     ]
    }
   ],
   "source": [
    "# WAP to extract all the values inreverse order in collection.\n",
    "s='Naveen'\n",
    "t=(1,2,3,4,5)\n",
    "l=[1,2,3,4,5]\n",
    "start=len(s)-1\n",
    "while start>=0:\n",
    "    print(s[start],end='')\n",
    "    start-=1\n",
    "\n"
   ]
  },
  {
   "cell_type": "code",
   "execution_count": 12,
   "metadata": {},
   "outputs": [
    {
     "name": "stdout",
     "output_type": "stream",
     "text": [
      "aen"
     ]
    }
   ],
   "source": [
    "# WAP to extract even poition values in given collecion.\n",
    "s='Naveen'\n",
    "t=(1,2,3,4,5)\n",
    "l=[1,2,3,4,5]\n",
    "start=1\n",
    "while start<len(s):\n",
    "    print(s[start],end='')\n",
    "    start+=2"
   ]
  },
  {
   "cell_type": "code",
   "execution_count": 3,
   "metadata": {},
   "outputs": [
    {
     "name": "stdout",
     "output_type": "stream",
     "text": [
      "PPE"
     ]
    }
   ],
   "source": [
    "s='PYSPIDERS'\n",
    "t='PPE'\n",
    "start=0\n",
    "while start<len(s):\n",
    "    if start%3==0:\n",
    "        print(s[start],end='')\n",
    "        start+=3\n",
    "        continue\n",
    "    start+=1"
   ]
  },
  {
   "cell_type": "code",
   "execution_count": 5,
   "metadata": {},
   "outputs": [
    {
     "name": "stdout",
     "output_type": "stream",
     "text": [
      "NAEN"
     ]
    }
   ],
   "source": [
    "#WAP to extract all the uppercase charecters.\n",
    "s='NAvEeN'\n",
    "i=0\n",
    "while i<len(s):\n",
    "    if 'A'<=s[i]<='Z':\n",
    "        print(s[i],end=\"\")\n",
    "    i+=1\n"
   ]
  },
  {
   "cell_type": "code",
   "execution_count": 7,
   "metadata": {},
   "outputs": [
    {
     "name": "stdout",
     "output_type": "stream",
     "text": [
      " ...! @@@@  __--*"
     ]
    }
   ],
   "source": [
    "# WAP to extract all special charecters in a given string.\n",
    "s='RUBA ruba...! @@@@ Ruba ruba__--*2'\n",
    "i=0\n",
    "while i<len(s):\n",
    "    if not('A'<=s[i]<='Z' or 'a'<=s[i]<='z' or '0'<=s[i]<='9'):\n",
    "        print(s[i],end='')\n",
    "    i+=1\n"
   ]
  },
  {
   "cell_type": "code",
   "execution_count": null,
   "metadata": {},
   "outputs": [],
   "source": []
  }
 ],
 "metadata": {
  "kernelspec": {
   "display_name": "Python 3",
   "language": "python",
   "name": "python3"
  },
  "language_info": {
   "codemirror_mode": {
    "name": "ipython",
    "version": 3
   },
   "file_extension": ".py",
   "mimetype": "text/x-python",
   "name": "python",
   "nbconvert_exporter": "python",
   "pygments_lexer": "ipython3",
   "version": "3.11.3"
  },
  "orig_nbformat": 4
 },
 "nbformat": 4,
 "nbformat_minor": 2
}
