{
 "cells": [
  {
   "attachments": {},
   "cell_type": "markdown",
   "metadata": {},
   "source": []
  },
  {
   "attachments": {},
   "cell_type": "markdown",
   "metadata": {},
   "source": [
    "Contents :\n",
    "\t1. Data structures: Series, DataFrame, Index\n",
    "\t2. Reading and Writing data: read_csv, read_excel, read_sql,to_csv, to_excel, tosql\n",
    "\t3. Data selection and Filtering: loc, iloc, at, iat, boolean indexing, query\n",
    "\t4. Data manupulation: drop, dropna, fillna, replace, rename, sort_values, sort_index\n",
    "\t5. Grouping and aggregation: groupby, mean, sum, count, min, max, agg\n",
    "\t6. Merging and joining data: merge, join, concat\n",
    "\t7. Reshaping and pivoting data: stack, unstack, melt, pivot_table\n",
    "\t8. Handling missing data: isna, notna, interpolate, ffill, bfill\n",
    "\t9. Appling functions to data: apply, applymap, map\n",
    "\t10. Visualizing data: plot, hist, scatter, boxplot, heatmap\n",
    "\t11. Time series data: data_range, resample, rolling, shift, diff\n",
    "\t12. Categorical data: Categorical, cut, qcut\n",
    "\t13. Text data: str, contains, extract, replace, split\n",
    "\t14. MultiIndexing: creating, selecting, slicing, indexing, setting levels\t\n",
    "\t15. Input and output functions: reading and writing data from/to files, databases, and web services\n",
    "\t16. Performance optimization: vectorization, broadcasting, Cython, Numba, Dask\n",
    "\t\n",
    "*** 1. Data structures ***\n",
    "Series: \t\n",
    "\t-> A series is a one-dimentional labeled array that can hold any data, such as integers, strings, floats, or even Python objects.\n",
    "\t-> A series consists of two main parts: The data and the index.\n",
    "\t-> A data is one-dimentional array of values, and the index is the set of labels.\n",
    "\t-> The index can be a list of integers, strings, or any other datatype.\n",
    "\t-> You can create a Series by passing a list, tuple, or dictionary of values to the Series constructor.\n",
    "\t-> Example:\n",
    "\t\timport pandas as pd\n",
    "\t\tdata = [1,2,3,4,6]\n",
    "\t\ts = pd.Series(data)\n",
    "\t-> By default, the index values are [0,1,2,3,4]. We can access the values and index using index of a Series using the 'values' and 'index' attributes.\n",
    "\t-> It is also possible to perform operations such as indexing, slicing, filtering, sorting, and aggregating. "
   ]
  },
  {
   "cell_type": "code",
   "execution_count": 17,
   "metadata": {},
   "outputs": [
    {
     "name": "stdout",
     "output_type": "stream",
     "text": [
      "Name                                Naveen\n",
      "Age                                     23\n",
      "Skills      [Python, Java, SQL, Html, CSS]\n",
      "Language                 [Telugu, English]\n",
      "dtype: object\n"
     ]
    }
   ],
   "source": [
    "#Series\n",
    "\n",
    "#Basic\n",
    "import pandas as ps\n",
    "dic={'Name':'Naveen','Age':23,'Skills':['Python','Java','SQL','Html','CSS'],'Language':['Telugu','English']}\n",
    "s=ps.Series(dic)\n",
    "print(s)\n",
    "\n"
   ]
  },
  {
   "cell_type": "code",
   "execution_count": 20,
   "metadata": {},
   "outputs": [
    {
     "name": "stdout",
     "output_type": "stream",
     "text": [
      "1\n",
      "2    2\n",
      "3    4\n",
      "dtype: int64\n"
     ]
    }
   ],
   "source": [
    "#Accesing values in series \n",
    "l=[1,2,2,4,5,6]\n",
    "t=ps.Series(l)\n",
    "print(t[0]) #get 0th index element\n",
    "print(t[2:4])   #get elements form 2nd index to 3rd index \n"
   ]
  },
  {
   "cell_type": "code",
   "execution_count": 9,
   "metadata": {},
   "outputs": [
    {
     "name": "stdout",
     "output_type": "stream",
     "text": [
      "1    2\n",
      "2    4\n",
      "3    4\n",
      "5    6\n",
      "dtype: int64\n"
     ]
    }
   ],
   "source": [
    "#Filtering values in a Series \n",
    "import pandas as ps\n",
    "l=[1,2,4,4,5,6]\n",
    "t=ps.Series(l)\n",
    "print(t[t%2==0])"
   ]
  },
  {
   "cell_type": "code",
   "execution_count": 13,
   "metadata": {},
   "outputs": [
    {
     "name": "stdout",
     "output_type": "stream",
     "text": [
      "1     9\n",
      "0    10\n",
      "2    20\n",
      "4    20\n",
      "5    27\n",
      "3    63\n",
      "6    90\n",
      "dtype: int64\n",
      "0    10\n",
      "1     9\n",
      "2    20\n",
      "3    63\n",
      "4    20\n",
      "5    27\n",
      "6    90\n",
      "dtype: int64\n"
     ]
    }
   ],
   "source": [
    "# Sorting values in the series\n",
    "import pandas as ps\n",
    "l=[10,9,20,63,20,27,90]\n",
    "t=ps.Series(l)\n",
    "print(t.sort_values())\n",
    "print(t)"
   ]
  },
  {
   "cell_type": "code",
   "execution_count": 16,
   "metadata": {},
   "outputs": [
    {
     "name": "stdout",
     "output_type": "stream",
     "text": [
      "a    10\n",
      "b    20\n",
      "c    30\n",
      "d    40\n",
      "e    50\n",
      "dtype: int64\n"
     ]
    }
   ],
   "source": [
    "# Change the index of series \n",
    "import pandas as ps \n",
    "data = [10,20,30,40,50]\n",
    "index = ['a','b','c','d','e']\n",
    "x=ps.Series(data,index=index)\n",
    "print(x)"
   ]
  },
  {
   "cell_type": "code",
   "execution_count": 4,
   "metadata": {},
   "outputs": [
    {
     "name": "stdout",
     "output_type": "stream",
     "text": [
      "0    11.0\n",
      "1    22.0\n",
      "2    33.0\n",
      "3    44.0\n",
      "4     NaN\n",
      "dtype: float64\n"
     ]
    }
   ],
   "source": [
    "# Arithmetic operations\n",
    "import pandas as ps\n",
    "s1=ps.Series([1,2,3,4,5])\n",
    "s2=ps.Series([10,20,30,40])\n",
    "s3=s1+s2\n",
    "print(s3)"
   ]
  },
  {
   "cell_type": "code",
   "execution_count": 6,
   "metadata": {},
   "outputs": [
    {
     "name": "stdout",
     "output_type": "stream",
     "text": [
      "0   2023-08-09\n",
      "1   2022-09-03\n",
      "2   2001-08-21\n",
      "dtype: datetime64[ns]\n"
     ]
    }
   ],
   "source": [
    "# Series of dates\n",
    "import pandas as ps\n",
    "s=ps.Series(['2023-08-9','2022-09-3','2001-08-21'],dtype='datetime64[ns]')\n",
    "print(s)"
   ]
  },
  {
   "cell_type": "code",
   "execution_count": 7,
   "metadata": {},
   "outputs": [
    {
     "name": "stdout",
     "output_type": "stream",
     "text": [
      "0    1\n",
      "1    2\n",
      "2    3\n",
      "3    4\n",
      "4    6\n",
      "Name: Naveen, dtype: int64\n"
     ]
    }
   ],
   "source": [
    "# Series with custom name\n",
    "import pandas as ps\n",
    "s=ps.Series([1,2,3,4,6],name='Naveen')\n",
    "print(s)\n"
   ]
  },
  {
   "attachments": {},
   "cell_type": "markdown",
   "metadata": {},
   "source": [
    "DataFrame:\n",
    "\t-> A dataframe in pandas is a two-dimentional, size-mutable, tabular data structure with labeled axis(rows and columns).\n",
    "\t-> It is similar to a spreadsheet in Excel or a SQL table, but with more powerful indexing and data manupulation capabilities.\n",
    "\t-> DataFrames can be created from a variety of sources, including CSV files, Excel files, SQL databases and python dictionaries.\n",
    "\t-> Once you have a dataframe, you can use variety of methods to manupulate and analyze the data, such as filtering, sorting, grouping, and aggregating.\n",
    "\t-> Overall, dataframes are a key data structure in pandas and are widely used in data analysis and data science workflows.\n",
    "\t-> Example:\n",
    "\t\timport pandas as pd\n",
    "\t\tdata = {'Name':['Naveen','Ram','Krisha','Tharun'],'Age':[23,21,22,19],'Score':[8,10,7,10]}\n",
    "\t\tdf = pd.DataFrame(data)\n",
    "\t\tprint(df)"
   ]
  },
  {
   "cell_type": "code",
   "execution_count": 15,
   "metadata": {},
   "outputs": [
    {
     "name": "stdout",
     "output_type": "stream",
     "text": [
      "Name\n",
      "Krisha    22.0\n",
      "Naveen    23.0\n",
      "Ram       21.0\n",
      "Tharun    19.0\n",
      "Name: Age, dtype: float64\n"
     ]
    }
   ],
   "source": [
    "# DataFrame basic example\n",
    "import pandas as pd\n",
    "data = {'Name':['Naveen','Ram','Krisha','Tharun'],'Age':[23,21,22,19],'Score':[8,10,7,10]}\n",
    "df = pd.DataFrame(data)\n",
    "df=df.groupby('Name')['Age'].mean()\n",
    "print(df)"
   ]
  },
  {
   "cell_type": "code",
   "execution_count": 4,
   "metadata": {},
   "outputs": [
    {
     "name": "stdout",
     "output_type": "stream",
     "text": [
      "Gender\n",
      "Female    20.0\n",
      "Male      22.5\n",
      "Name: Age, dtype: float64\n"
     ]
    }
   ],
   "source": [
    "# Dataframe group by gender.\n",
    "import pandas as pd\n",
    "data = {'Name':['Naveen','Ram','Krisha','Tharun'],'Age':[23,21,22,19],'Gender':['Male','Female','Male','Female']}\n",
    "df = pd.DataFrame(data)\n",
    "df=df.groupby('Gender')['Age'].mean()\n",
    "print(df)"
   ]
  },
  {
   "attachments": {},
   "cell_type": "markdown",
   "metadata": {},
   "source": [
    "Index : We can use 'index' attribute to access the index of a dataframe or series. The index is a datastructure that repersents the labels of the rows or columns in the dataframe or series.\n",
    "Here's an example:"
   ]
  },
  {
   "cell_type": "code",
   "execution_count": 8,
   "metadata": {},
   "outputs": [
    {
     "name": "stdout",
     "output_type": "stream",
     "text": [
      "RangeIndex(start=0, stop=4, step=1)\n",
      "Index([10, 20, 30, 40], dtype='int64')\n"
     ]
    }
   ],
   "source": [
    "# Dataframe\n",
    "import pandas as pd\n",
    "data = {'Name':['Naveen','Ram','Krisha','Tharun'],'Age':[23,21,22,19],'Gender':['Male','Female','Male','Female']}\n",
    "df=pd.DataFrame(data)\n",
    "print(df.index)\n",
    "# create series\n",
    "s = pd.Series(['a','b','c','d'],index=[10,20,30,40])\n",
    "print(s.index) "
   ]
  },
  {
   "attachments": {},
   "cell_type": "markdown",
   "metadata": {},
   "source": [
    "*** 2. Reading and Writing data ***\n",
    "In pandas, We can read and write data in serveral file formats including CSV, Excel, SQL databases, and more. \n",
    "Here are some examples on each file formats."
   ]
  },
  {
   "cell_type": "code",
   "execution_count": 2,
   "metadata": {},
   "outputs": [
    {
     "name": "stdout",
     "output_type": "stream",
     "text": [
      "      Name  Age  Gender\n",
      "0   Naveen   23    Male\n",
      "1  Krishna   22    Male\n",
      "2    Sneha   22  Female\n",
      "3      Sai   21  Female\n",
      "4      Ram   24    Male\n"
     ]
    }
   ],
   "source": [
    "# Reading and Writing data into CSV file.\n",
    "import pandas as pd\n",
    "df = pd.read_csv('data_csv.csv')\n",
    "df.to_csv('Display_csv.csv',index=False) #It is going to create csv file and write data to the file. To avoid index field in this file we can use index=\"false\". \n",
    "df1 = pd.read_csv('Display_csv.csv')\n",
    "print(df1) "
   ]
  },
  {
   "cell_type": "code",
   "execution_count": 13,
   "metadata": {},
   "outputs": [
    {
     "name": "stdout",
     "output_type": "stream",
     "text": [
      "   Column 1 Column 2\n",
      "0         1        A\n",
      "1         2        B\n",
      "2         3        C\n",
      "3         4        D\n",
      "4         5        E\n"
     ]
    }
   ],
   "source": [
    "# Reading and writing data into excel file.\n",
    "import pandas as ps \n",
    "df = ps.DataFrame({'Column 1':[1,2,3,4,5],'Column 2':['A','B','C','D','E']})\n",
    "df.to_excel('data_excel.xlsx',index=False)\n",
    "dr = ps.read_excel('data_excel.xlsx')\n",
    "print(dr)"
   ]
  },
  {
   "cell_type": "code",
   "execution_count": 10,
   "metadata": {},
   "outputs": [],
   "source": [
    "# Reading and writing data into SQL database.\n",
    "import pandas as ps\n",
    "import sqlite3 as sql\n",
    "pass\n"
   ]
  },
  {
   "attachments": {},
   "cell_type": "markdown",
   "metadata": {},
   "source": [
    "*** 3. Data selection and Filtering (loc, iloc, at, iat, boolean indexing, query) ***\n",
    "-> In pandas, you can select and filter data using 'loc' and 'iloc' methods.\n",
    "***Loc***\n",
    "In pandas,'loc' is used to select data by label. We can use it to select rows and columns in a Dataframe.\n",
    "Syntax :- df.loc[row_indexer,column_indexer]\n",
    "Examples are as shown in below,"
   ]
  },
  {
   "cell_type": "code",
   "execution_count": 18,
   "metadata": {},
   "outputs": [
    {
     "name": "stdout",
     "output_type": "stream",
     "text": [
      "Name         Ram\n",
      "Age           21\n",
      "Gender    Female\n",
      "Name: 1, dtype: object\n"
     ]
    }
   ],
   "source": [
    "# Selecting single row using loc label 1.\n",
    "import pandas as pd\n",
    "data = {'Name':['Naveen','Ram','Krisha','Tharun'],'Age':[23,21,22,19],'Gender':['Male','Female','Male','Female']}\n",
    "df = pd.DataFrame(data)\n",
    "print(df.loc[1])"
   ]
  },
  {
   "cell_type": "code",
   "execution_count": 24,
   "metadata": {},
   "outputs": [
    {
     "name": "stdout",
     "output_type": "stream",
     "text": [
      "   Age  Gender\n",
      "0   23    Male\n",
      "1   21  Female\n",
      "2   22    Male\n"
     ]
    }
   ],
   "source": [
    "# selecting multiple rows using loc.\n",
    "import pandas as pd\n",
    "data = {'Name':['Naveen','Ram','Krisha','Tharun'],'Age':[23,21,22,19],'Gender':['Male','Female','Male','Female']}\n",
    "df = pd.DataFrame(data)\n",
    "print(df.loc[:2,['Age','Gender']])\n"
   ]
  },
  {
   "cell_type": "code",
   "execution_count": 7,
   "metadata": {},
   "outputs": [
    {
     "name": "stdout",
     "output_type": "stream",
     "text": [
      "     Name  Age  Gender Age_group\n",
      "0  Naveen   23    Male     20-30\n",
      "1     Ram   21  Female     20-30\n",
      "2  Krisha   18    Male       <20\n",
      "3  Tharun   40  Female     30-40\n",
      "Filtering data using isin() function\n",
      "     Name  Age Gender Age_group\n",
      "2  Krisha   18   Male       <20\n"
     ]
    }
   ],
   "source": [
    "# Selecting new column based on existing columns.\n",
    "import pandas as pd\n",
    "data = {'Name':['Naveen','Ram','Krisha','Tharun'],'Age':[23,21,18,40],'Gender':['Male','Female','Male','Female']}\n",
    "df = pd.DataFrame(data)\n",
    "df.loc[:,'Age_group'] = pd.cut(df['Age'], bins=[0,20,30,40],labels=['<20','20-30','30-40'])\n",
    "print(df)\n",
    "print(\"Filtering data using isin() function\")\n",
    "print(df[df['Age'].isin(range(10,20))])\n"
   ]
  },
  {
   "attachments": {},
   "cell_type": "markdown",
   "metadata": {},
   "source": [
    "*** Iloc ***\n",
    "Iloc is a method in pandas that is used to select rows and columns by integer position. It is works by specifying the integer position of the rows and columns you want to select. Here's an example of how you can use 'iloc' to select a specific row and column in pandas dataframe."
   ]
  },
  {
   "cell_type": "code",
   "execution_count": 23,
   "metadata": {},
   "outputs": [
    {
     "name": "stdout",
     "output_type": "stream",
     "text": [
      "Female\n",
      "   Age  Gender\n",
      "0   23    Male\n",
      "1   21  Female\n"
     ]
    }
   ],
   "source": [
    "import pandas as pd\n",
    "data = {'Name':['Naveen','Ram','Krisha','Tharun'],'Age':[23,21,18,40],'Gender':['Male','Female','Male','Female']}\n",
    "df = pd.DataFrame(data)\n",
    "value = df.iloc[1,2] #selects 2nd(1st index) row and 3rd(2nd index) column\n",
    "print(value)\n",
    "val = df.iloc[0:2,1:3] #selects 1st and 2nd row with 2nd and 3rd column\n",
    "print(val)"
   ]
  },
  {
   "cell_type": "markdown",
   "metadata": {},
   "source": [
    "*** at ***\n",
    "at is used to get a single value for a column/row label pair. Here's the syntax,\n",
    "Syntax :- Dataframe.at[row_label,column_label]\n",
    "Example :- "
   ]
  },
  {
   "cell_type": "code",
   "execution_count": 2,
   "metadata": {},
   "outputs": [
    {
     "name": "stdout",
     "output_type": "stream",
     "text": [
      "Krisha\n"
     ]
    }
   ],
   "source": [
    "import pandas as pd\n",
    "data = {'Name':['Naveen','Ram','Krisha','Tharun'],'Age':[23,21,18,40],'Gender':['Male','Female','Male','Female']}\n",
    "df = pd.DataFrame(data)\n",
    "value = df.at[2,'Name']\n",
    "print(value)"
   ]
  },
  {
   "cell_type": "markdown",
   "metadata": {},
   "source": [
    "*** iat ***\n",
    "iat is used to get single value for a column/row integer pair. Here's the syntax,\n",
    "Syntax :- Dataframe.iat[row_index,column_index]\n",
    "Example :- "
   ]
  },
  {
   "cell_type": "code",
   "execution_count": 4,
   "metadata": {},
   "outputs": [
    {
     "name": "stdout",
     "output_type": "stream",
     "text": [
      "Krisha\n"
     ]
    }
   ],
   "source": [
    "import pandas as pd \n",
    "data = {'Name':['Naveen','Ram','Krisha','Tharun'],'Age':[23,21,18,40],'Gender':['Male','Female','Male','Female']}\n",
    "df = pd.DataFrame(data)\n",
    "value = df.iat[2,0]\n",
    "print(value)"
   ]
  },
  {
   "cell_type": "markdown",
   "metadata": {},
   "source": [
    "*** Boolean Indexing ***\n",
    "Boolean idexing in pandas is a way to filter a DataFrame or Series based on a certain condition. It involves using boolean expression to create a mask ,which is then used to select only the rows or columns that meet the condition.\n",
    "Syntax :- \n",
    "    DataFrame[condition]\n",
    "Example :-"
   ]
  },
  {
   "cell_type": "code",
   "execution_count": 5,
   "metadata": {},
   "outputs": [
    {
     "name": "stdout",
     "output_type": "stream",
     "text": [
      "     Name  Age  Gender\n",
      "0  Naveen   23    Male\n",
      "1     Ram   21  Female\n",
      "3  Tharun   40  Female\n"
     ]
    }
   ],
   "source": [
    "import pandas as pd \n",
    "data = {'Name':['Naveen','Ram','Krisha','Tharun'],'Age':[23,21,18,40],'Gender':['Male','Female','Male','Female']}\n",
    "df = pd.DataFrame(data)\n",
    "mask = df['Age']>20\n",
    "df = df[mask]\n",
    "print(df)"
   ]
  },
  {
   "cell_type": "markdown",
   "metadata": {},
   "source": [
    "*** query ***\n",
    "In pandas, 'query' is a method used to filter a DataFrame based on certain condition. It involves using a string expression to create a query, which is then used to select only the rows that meet the condition.\n",
    "Syntax :- \n",
    "    DataFrame.query('< condition in string format >')\n",
    "Example :-"
   ]
  },
  {
   "cell_type": "code",
   "execution_count": 6,
   "metadata": {},
   "outputs": [
    {
     "name": "stdout",
     "output_type": "stream",
     "text": [
      "     Name  Age  Gender\n",
      "1     Ram   26  Female\n",
      "3  Tharun   40  Female\n"
     ]
    }
   ],
   "source": [
    "import pandas as pd \n",
    "data = {'Name':['Naveen','Ram','Krisha','Tharun'],'Age':[23,26,18,40],'Gender':['Male','Female','Male','Female']}\n",
    "df = pd.DataFrame(data)\n",
    "df = df.query('Age>25')\n",
    "print(df)"
   ]
  },
  {
   "cell_type": "markdown",
   "metadata": {},
   "source": [
    "*** 4. Data manupulation ***\n",
    "Modifying perticular is done by following methods in pandas.\n",
    "1. drop\n",
    "2. dropna\n",
    "3. fillna\n",
    "4. replace\n",
    "5. rename\n",
    "6. sort_values\n",
    "7. sort_index "
   ]
  },
  {
   "cell_type": "markdown",
   "metadata": {},
   "source": [
    "*** Drop ***\n",
    "In pandas, 'drop' is a method used to remove rows or columns from a dataframe. It involves specifying the labels of rows and columns that you want to remove.\n",
    "Syntax :-\n",
    "    DataFrame.drop( < list of column labels >, axis = < row or column number >)\n",
    "    where axis parameter is,\n",
    "        0 - row \n",
    "        1 - column\n",
    "Note :- The drop method dosen't modify the original dataframe. Instead, it returns a new dataframe with specified rows or conditions.\n",
    "    But, if you really want to modify the original dataframe, you need to assign the result of the 'drop' method back to the original dataframe.\n",
    "Example :-"
   ]
  },
  {
   "cell_type": "code",
   "execution_count": 13,
   "metadata": {},
   "outputs": [
    {
     "name": "stdout",
     "output_type": "stream",
     "text": [
      "Droped by columns:\n",
      "   Gender\n",
      "0    Male\n",
      "1  Female\n",
      "2    Male\n",
      "3  Female\n",
      "\n",
      "Droped by rows\n",
      "     Name  Age  Gender\n",
      "0  Naveen   23    Male\n",
      "3  Tharun   40  Female\n"
     ]
    }
   ],
   "source": [
    "import pandas as pd \n",
    "data = {'Name':['Naveen','Ram','Krisha','Tharun'],'Age':[23,26,18,40],'Gender':['Male','Female','Male','Female']}\n",
    "df = pd.DataFrame(data)\n",
    "print(\"Droped by columns:\")\n",
    "df1 = df.drop(['Name','Age'],axis=1)\n",
    "print(df1)\n",
    "print()\n",
    "print(\"Droped by rows\")\n",
    "df2 = df.drop([1,2],axis=0)\n",
    "print(df2)"
   ]
  },
  {
   "cell_type": "markdown",
   "metadata": {},
   "source": [
    "*** dropna ***\n",
    "In pandas, 'dropna' is a method used to remove missing or null values from a DataFrame. It involves removing any rows or columns that contain missing values.\n",
    "Syntax :- \n",
    "    DataFrame.dropna()  or  Dataframe.dropna(axis=< 0 for row or 1 for column>) or  DataFrame.dropna(thresh=<number>)\n",
    "    Where number specifies minimum number of non null values a row or column must have to be kept. \n",
    "    For example, if you only want to keep rows that have atleast 3 non null values, you could use --\n",
    "        Dataframe.dropna(thresh=3)\n",
    "Note :- Dropna also doesn't modify data.\n",
    "Example :-\n",
    "    "
   ]
  },
  {
   "cell_type": "code",
   "execution_count": 21,
   "metadata": {},
   "outputs": [
    {
     "name": "stdout",
     "output_type": "stream",
     "text": [
      "      Name   Age Gender\n",
      "0   Naveen  23.0   Male\n",
      "2  Krishna  18.0   Male\n",
      "\n",
      "      Name\n",
      "0   Naveen\n",
      "1      Ram\n",
      "2  Krishna\n",
      "3   Tharun\n",
      "\n",
      "      Name   Age Gender\n",
      "0   Naveen  23.0   Male\n",
      "2  Krishna  18.0   Male\n",
      "3   Tharun  40.0   None\n"
     ]
    }
   ],
   "source": [
    "import pandas as pd\n",
    "data = {'Name':['Naveen','Ram','Krishna','Tharun'],'Age':[23,None,18,40],'Gender':['Male',None,'Male',None]}\n",
    "df = pd.DataFrame(data)\n",
    "df1 = df.dropna()\n",
    "print(df1) # Empty because there is no rows that are not null.\n",
    "print()\n",
    "df2 = df.dropna(axis=1)\n",
    "print(df2) \n",
    "print()\n",
    "df3 = df.dropna(thresh=2) # removes any rows with less than 2 non null values.\n",
    "print(df3)"
   ]
  },
  {
   "cell_type": "markdown",
   "metadata": {},
   "source": [
    "*** fillna ***\n",
    "This method is used to replace missing values in dataframe or series with a specified value or method.\n",
    "Syntax :- \n",
    "    dataFrame.fillna(<value to be in missing place>,inplace=<True or Flase>)\n",
    "Here,\n",
    "    if inplace is True the original dataframe is modified else, it returns a copy of dataframe and that has to be stored in another dataframe.\n",
    "we can also use ffill and bfill methods.\n",
    "where, \n",
    "    ffill - Fills the data with next non missing values in the series.\n",
    "    bfill - Fills the data with previous non missing value in the series.\n",
    "Example :-"
   ]
  },
  {
   "cell_type": "code",
   "execution_count": 29,
   "metadata": {},
   "outputs": [
    {
     "name": "stdout",
     "output_type": "stream",
     "text": [
      "      Name   Age Gender\n",
      "0   Naveen  23.0   Male\n",
      "1      Ram  23.0   Male\n",
      "2  Krishna  18.0   Male\n",
      "3   Tharun  40.0   Male\n",
      "\n",
      "      Name   Age Gender\n",
      "0   Naveen  23.0   Male\n",
      "1      Ram  18.0   Male\n",
      "2  Krishna  18.0   Male\n",
      "3   Tharun  40.0   None\n",
      "\n",
      "      Name      Age   Gender\n",
      "0   Naveen     23.0     Male\n",
      "1      Ram  Unknown  Unknown\n",
      "2  Krishna     18.0     Male\n",
      "3   Tharun     40.0  Unknown\n"
     ]
    }
   ],
   "source": [
    "import pandas as pd\n",
    "data = {'Name':['Naveen','Ram','Krishna','Tharun'],'Age':[23,None,18,40],'Gender':['Male',None,'Male',None]}\n",
    "df = pd.DataFrame(data)\n",
    "df1 = df.fillna(method='ffill') #Farward filling. \n",
    "print(df1)\n",
    "print()\n",
    "df2 = df.fillna(method='bfill') #Backward filling.\n",
    "print(df2)\n",
    "df3 = df.fillna('Unknown',inplace=False) # fill all empty values with 'Unknown' \n",
    "print()\n",
    "print(df)\n"
   ]
  },
  {
   "cell_type": "markdown",
   "metadata": {},
   "source": [
    "*** Replace ***\n",
    "It is used to replace specified value in a dataframe.\n",
    "Syntax :-\n",
    "    DataFrame.replace(<old value>,<new value>,inplace=<boolean>)\n",
    "Example :-"
   ]
  },
  {
   "cell_type": "code",
   "execution_count": 31,
   "metadata": {},
   "outputs": [
    {
     "name": "stdout",
     "output_type": "stream",
     "text": [
      "      Name  Age Gender\n",
      "0   Naveen   23   Male\n",
      "1      Ram   27   Male\n",
      "2  Krishna   18   Male\n",
      "3   Tharun   40   Male\n"
     ]
    }
   ],
   "source": [
    "import pandas as pd\n",
    "data = {'Name':['Naveen','Ram','Krishna','Tharun'],'Age':[23,27,18,40],'Gender':['M','M','M','M']}\n",
    "df = pd.DataFrame(data)\n",
    "df1 = df.replace('M','Male')\n",
    "print(df1)"
   ]
  },
  {
   "cell_type": "markdown",
   "metadata": {},
   "source": [
    "*** rename ***\n",
    "It is used to rename names of columns or index labels in a dataframe.\n",
    "Syntax :-\n",
    "    DataFrame.replace(columns={<old value>:<new value>},inplace=<boolean>)\n",
    "Note :- Not possible to change rows \n",
    "Example :-"
   ]
  },
  {
   "cell_type": "code",
   "execution_count": 32,
   "metadata": {},
   "outputs": [
    {
     "name": "stdout",
     "output_type": "stream",
     "text": [
      "  Username  Age     Sex\n",
      "0   Naveen   23    Male\n",
      "1      Ram   26  Female\n",
      "2   Krisha   18    Male\n",
      "3   Tharun   40  Female\n"
     ]
    }
   ],
   "source": [
    "import pandas as pd\n",
    "data = {'Name':['Naveen','Ram','Krisha','Tharun'],'Age':[23,26,18,40],'Gender':['Male','Female','Male','Female']}\n",
    "df = pd.DataFrame(data)\n",
    "df1 = df.rename(columns={'Name':'Username','Gender':'Sex'}) # changing columns\n",
    "print(df1)"
   ]
  },
  {
   "cell_type": "markdown",
   "metadata": {},
   "source": [
    "*** Sort_values ***\n",
    "We can sort a dataframe by one or more columns.\n",
    "Syntax :- \n",
    "    DataFrame.sort_values(by=<list of columns>,inplace=<boolean>)\n",
    "Example :-\n"
   ]
  },
  {
   "cell_type": "code",
   "execution_count": 37,
   "metadata": {},
   "outputs": [
    {
     "name": "stdout",
     "output_type": "stream",
     "text": [
      "     Name  Age  Gender\n",
      "2  Krisha   18  Female\n",
      "1     Ram   26  Female\n",
      "3  Tharun   40  Female\n",
      "0  Naveen   23    Male\n"
     ]
    }
   ],
   "source": [
    "import pandas as pd \n",
    "data = {'Name':['Naveen','Ram','Krisha','Tharun'],'Age':[23,26,18,40],'Gender':['Male','Female','Female','Female']}\n",
    "df = pd.DataFrame(data)\n",
    "df1 = df.sort_values(by=['Gender','Age'])\n",
    "print(df1)"
   ]
  },
  {
   "cell_type": "markdown",
   "metadata": {},
   "source": [
    "*** sort_index ***\n",
    "It is used to sort a dataframe by using index.\n",
    "Syntax :-\n",
    "    DataFrame.sort_index(inplace=<Boolean>)\n",
    "Example :-"
   ]
  },
  {
   "cell_type": "code",
   "execution_count": 38,
   "metadata": {},
   "outputs": [
    {
     "name": "stdout",
     "output_type": "stream",
     "text": [
      "     Name  Age  Gender\n",
      "0  Krisha   18    Male\n",
      "1  Tharun   40  Female\n",
      "2  Naveen   23    Male\n",
      "3     Ram   26  Female\n"
     ]
    }
   ],
   "source": [
    "import pandas as pd \n",
    "data = {'Name':['Naveen','Ram','Krisha','Tharun'],'Age':[23,26,18,40],'Gender':['Male','Female','Male','Female']}\n",
    "df = pd.DataFrame(data,index=[2,3,0,1])\n",
    "df1 = df.sort_index()\n",
    "print(df1)"
   ]
  },
  {
   "attachments": {},
   "cell_type": "markdown",
   "metadata": {},
   "source": [
    "*** Head ***\n",
    "Selecting first n rows of a dataframe.\n",
    "Syntax :-\n",
    "    df.head(n) #where n is any number of rows.\n",
    "\n",
    "*** Tail ***\n",
    "Select last n rows of a dataframe.\n",
    "Syntax :-\n",
    "    df.tail(n) \n",
    "\n",
    "*** Drop ***\n",
    "Removing rows and columns of a dataframe. This method returns new dataframe without the rows that are droped from previous dataframe.\n",
    "Note :- The original dataframe doesnot modify by the drop method.\n",
    "The axis parameter specifies to drop column(axis = 1) or row(axis = 1).  \n",
    "Syntax :-\n",
    "    df.drop(<column name>,axis = <1/0>)\n",
    "\n",
    "*** Fillna ***\n",
    "Fillna is method in pandas that allows you to fill missing or NaN (Not a Number) values in a dataframe with a specified value or method.\n",
    "Note :- It returns the new dataframe that contains the dataframe with the missing values filled with specified value or method.\n",
    "Here, we have farword filling(filling empty value by its previous value) and backward filling(filling empty value by its next value).  \n",
    "Syntax :-\n",
    "    df.fillna(<value to be placed in missing value>) or\n",
    "    df.fillna(method=<ffill/bfill>)\n",
    "\n",
    "*** Groupby ***\n",
    "Groupby allows you to group data based on a variable and perform aggregate functions on the groups.\n",
    "Syntax :- \n",
    "    df.groupby(<rows to be fetched>).<set of attributes to perform operation>.<method (operation) >()\n",
    "Some of the methods are - max(),mean(),min(),size(),sum(),count(),filter() etc\n",
    "\n",
    "*** Pivot_table ***\n",
    "It is a way of summerizing data in a tabular format. Pandas provides a 'pivot_table' function that allows you to create pivot tables from the dataframe.\n",
    "Syntax :-\n",
    "    pd.pivot_table(<dataframe>, values = <set of attributes to perform operation>, index = <set of attributes to fetch>, aggfunc = <any operation like mean>)\n",
    "Example :-\n",
    "    df = pd.pivot_table(df, values = 'salary', index = ['Gender','Age'], aggfunc = 'mean')"
   ]
  }
 ],
 "metadata": {
  "kernelspec": {
   "display_name": "Python 3",
   "language": "python",
   "name": "python3"
  },
  "language_info": {
   "codemirror_mode": {
    "name": "ipython",
    "version": 3
   },
   "file_extension": ".py",
   "mimetype": "text/x-python",
   "name": "python",
   "nbconvert_exporter": "python",
   "pygments_lexer": "ipython3",
   "version": "3.11.4"
  },
  "orig_nbformat": 4
 },
 "nbformat": 4,
 "nbformat_minor": 2
}
