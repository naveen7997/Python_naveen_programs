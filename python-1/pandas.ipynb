{
 "cells": [
  {
   "cell_type": "code",
   "execution_count": 8,
   "metadata": {},
   "outputs": [
    {
     "name": "stdout",
     "output_type": "stream",
     "text": [
      "Name                                Naveen\n",
      "Age                                     23\n",
      "Skills      [Python, Java, SQL, Html, CSS]\n",
      "Language                 [Telugu, English]\n",
      "dtype: object\n",
      "1\n",
      "2    3\n",
      "3    4\n",
      "dtype: int64\n"
     ]
    }
   ],
   "source": [
    "#Series\n",
    "\n",
    "#Basic\n",
    "import pandas as ps\n",
    "dic={'Name':'Naveen','Age':23,'Skills':['Python','Java','SQL','Html','CSS'],'Language':['Telugu','English']}\n",
    "s=ps.Series(dic)\n",
    "print(s)\n",
    "\n"
   ]
  },
  {
   "cell_type": "code",
   "execution_count": 20,
   "metadata": {},
   "outputs": [
    {
     "name": "stdout",
     "output_type": "stream",
     "text": [
      "1\n",
      "2    2\n",
      "3    4\n",
      "dtype: int64\n"
     ]
    }
   ],
   "source": [
    "#Accesing values in series \n",
    "l=[1,2,2,4,5,6]\n",
    "t=ps.Series(l)\n",
    "print(t[0]) #get 0th index element\n",
    "print(t[2:4])   #get elements form 2nd index to 3rd index \n"
   ]
  },
  {
   "cell_type": "code",
   "execution_count": 9,
   "metadata": {},
   "outputs": [
    {
     "name": "stdout",
     "output_type": "stream",
     "text": [
      "1    2\n",
      "2    4\n",
      "3    4\n",
      "5    6\n",
      "dtype: int64\n"
     ]
    }
   ],
   "source": [
    "#Filtering values in a Series \n",
    "import pandas as ps\n",
    "l=[1,2,4,4,5,6]\n",
    "t=ps.Series(l)\n",
    "print(t[t%2==0])"
   ]
  },
  {
   "cell_type": "code",
   "execution_count": 13,
   "metadata": {},
   "outputs": [
    {
     "name": "stdout",
     "output_type": "stream",
     "text": [
      "1     9\n",
      "0    10\n",
      "2    20\n",
      "4    20\n",
      "5    27\n",
      "3    63\n",
      "6    90\n",
      "dtype: int64\n",
      "0    10\n",
      "1     9\n",
      "2    20\n",
      "3    63\n",
      "4    20\n",
      "5    27\n",
      "6    90\n",
      "dtype: int64\n"
     ]
    }
   ],
   "source": [
    "# Sorting values in the series\n",
    "import pandas as ps\n",
    "l=[10,9,20,63,20,27,90]\n",
    "t=ps.Series(l)\n",
    "print(t.sort_values())\n",
    "print(t)"
   ]
  },
  {
   "cell_type": "code",
   "execution_count": 16,
   "metadata": {},
   "outputs": [
    {
     "name": "stdout",
     "output_type": "stream",
     "text": [
      "a    10\n",
      "b    20\n",
      "c    30\n",
      "d    40\n",
      "e    50\n",
      "dtype: int64\n"
     ]
    }
   ],
   "source": [
    "# Change the index of series \n",
    "import pandas as ps \n",
    "data = [10,20,30,40,50]\n",
    "index = ['a','b','c','d','e']\n",
    "x=ps.Series(data,index=index)\n",
    "print(x)"
   ]
  },
  {
   "cell_type": "code",
   "execution_count": null,
   "metadata": {},
   "outputs": [],
   "source": [
    "# "
   ]
  }
 ],
 "metadata": {
  "kernelspec": {
   "display_name": "Python 3",
   "language": "python",
   "name": "python3"
  },
  "language_info": {
   "codemirror_mode": {
    "name": "ipython",
    "version": 3
   },
   "file_extension": ".py",
   "mimetype": "text/x-python",
   "name": "python",
   "nbconvert_exporter": "python",
   "pygments_lexer": "ipython3",
   "version": "3.11.3"
  },
  "orig_nbformat": 4
 },
 "nbformat": 4,
 "nbformat_minor": 2
}
