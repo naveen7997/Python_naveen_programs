{
 "cells": [
  {
   "attachments": {},
   "cell_type": "markdown",
   "metadata": {},
   "source": [
    "Contents :\n",
    "\t1. Data structures: Series, DataFrame, Index\n",
    "\t2. Reading and Writing data: read_csv, read_excel, read_sql,to_csv, to_excel, tosql\n",
    "\t3. Data selection and Filtering: loc, iloc, at, iat, boolean indexing, query\n",
    "\t4. Data manupulation: drop, dropna, fillna, replace, rename, sort_values, sort_index\n",
    "\t5. Grouping and aggregation: groupby, mean, sum, count, min, max, agg\n",
    "\t6. Merging and joining data: merge, join, concat\n",
    "\t7. Reshaping and pivoting data: stack, unstack, melt, pivot_table\n",
    "\t8. Handling missing data: isna, notna, interpolate, ffill, bfill\n",
    "\t9. Appling functions to data: apply, applymap, map\n",
    "\t10. Visualizing data: plot, hist, scatter, boxplot, heatmap\n",
    "\t11. Time series data: data_range, resample, rolling, shift, diff\n",
    "\t12. Categorical data: Categorical, cut, qcut\n",
    "\t13. Text data: str, contains, extract, replace, split\n",
    "\t14. MultiIndexing: creating, selecting, slicing, indexing, setting levels\t\n",
    "\t15. Input and output functions: reading and writing data from/to files, databases, and web services\n",
    "\t16. Performance optimization: vectorization, broadcasting, Cython, Numba, Dask\n",
    "\t\n",
    "***Data structures***\n",
    "Series: \t\n",
    "\t-> A series is a one-dimentional labeled array that can hold any data, such as integers, strings, floats, or even Python objects.\n",
    "\t-> A series consists of two main parts: The data and the index.\n",
    "\t-> A data is one-dimentional array of values, and the index is the set of labels.\n",
    "\t-> The index can be a list of integers, strings, or any other datatype.\n",
    "\t-> You can create a Series by passing a list, tuple, or dictionary of values to the Series constructor.\n",
    "\t-> Example:\n",
    "\t\timport pandas as pd\n",
    "\t\tdata = [1,2,3,4,6]\n",
    "\t\ts = pd.Series(data)\n",
    "\t-> By default, the index values are [0,1,2,3,4]. We can access the values and index using index of a Series using the 'values' and 'index' attributes.\n",
    "\t-> It is also possible to perform operations such as indexing, slicing, filtering, sorting, and aggregating. "
   ]
  },
  {
   "cell_type": "code",
   "execution_count": 8,
   "metadata": {},
   "outputs": [
    {
     "name": "stdout",
     "output_type": "stream",
     "text": [
      "Name                                Naveen\n",
      "Age                                     23\n",
      "Skills      [Python, Java, SQL, Html, CSS]\n",
      "Language                 [Telugu, English]\n",
      "dtype: object\n",
      "1\n",
      "2    3\n",
      "3    4\n",
      "dtype: int64\n"
     ]
    }
   ],
   "source": [
    "#Series\n",
    "\n",
    "#Basic\n",
    "import pandas as ps\n",
    "dic={'Name':'Naveen','Age':23,'Skills':['Python','Java','SQL','Html','CSS'],'Language':['Telugu','English']}\n",
    "s=ps.Series(dic)\n",
    "print(s)\n",
    "\n"
   ]
  },
  {
   "cell_type": "code",
   "execution_count": 20,
   "metadata": {},
   "outputs": [
    {
     "name": "stdout",
     "output_type": "stream",
     "text": [
      "1\n",
      "2    2\n",
      "3    4\n",
      "dtype: int64\n"
     ]
    }
   ],
   "source": [
    "#Accesing values in series \n",
    "l=[1,2,2,4,5,6]\n",
    "t=ps.Series(l)\n",
    "print(t[0]) #get 0th index element\n",
    "print(t[2:4])   #get elements form 2nd index to 3rd index \n"
   ]
  },
  {
   "cell_type": "code",
   "execution_count": 9,
   "metadata": {},
   "outputs": [
    {
     "name": "stdout",
     "output_type": "stream",
     "text": [
      "1    2\n",
      "2    4\n",
      "3    4\n",
      "5    6\n",
      "dtype: int64\n"
     ]
    }
   ],
   "source": [
    "#Filtering values in a Series \n",
    "import pandas as ps\n",
    "l=[1,2,4,4,5,6]\n",
    "t=ps.Series(l)\n",
    "print(t[t%2==0])"
   ]
  },
  {
   "cell_type": "code",
   "execution_count": 13,
   "metadata": {},
   "outputs": [
    {
     "name": "stdout",
     "output_type": "stream",
     "text": [
      "1     9\n",
      "0    10\n",
      "2    20\n",
      "4    20\n",
      "5    27\n",
      "3    63\n",
      "6    90\n",
      "dtype: int64\n",
      "0    10\n",
      "1     9\n",
      "2    20\n",
      "3    63\n",
      "4    20\n",
      "5    27\n",
      "6    90\n",
      "dtype: int64\n"
     ]
    }
   ],
   "source": [
    "# Sorting values in the series\n",
    "import pandas as ps\n",
    "l=[10,9,20,63,20,27,90]\n",
    "t=ps.Series(l)\n",
    "print(t.sort_values())\n",
    "print(t)"
   ]
  },
  {
   "cell_type": "code",
   "execution_count": 16,
   "metadata": {},
   "outputs": [
    {
     "name": "stdout",
     "output_type": "stream",
     "text": [
      "a    10\n",
      "b    20\n",
      "c    30\n",
      "d    40\n",
      "e    50\n",
      "dtype: int64\n"
     ]
    }
   ],
   "source": [
    "# Change the index of series \n",
    "import pandas as ps \n",
    "data = [10,20,30,40,50]\n",
    "index = ['a','b','c','d','e']\n",
    "x=ps.Series(data,index=index)\n",
    "print(x)"
   ]
  },
  {
   "cell_type": "code",
   "execution_count": 4,
   "metadata": {},
   "outputs": [
    {
     "name": "stdout",
     "output_type": "stream",
     "text": [
      "0    11.0\n",
      "1    22.0\n",
      "2    33.0\n",
      "3    44.0\n",
      "4     NaN\n",
      "dtype: float64\n"
     ]
    }
   ],
   "source": [
    "# Arithmetic operations\n",
    "import pandas as ps\n",
    "s1=ps.Series([1,2,3,4,5])\n",
    "s2=ps.Series([10,20,30,40])\n",
    "s3=s1+s2\n",
    "print(s3)"
   ]
  },
  {
   "cell_type": "code",
   "execution_count": 6,
   "metadata": {},
   "outputs": [
    {
     "name": "stdout",
     "output_type": "stream",
     "text": [
      "0   2023-08-09\n",
      "1   2022-09-03\n",
      "2   2001-08-21\n",
      "dtype: datetime64[ns]\n"
     ]
    }
   ],
   "source": [
    "# Series of dates\n",
    "import pandas as ps\n",
    "s=ps.Series(['2023-08-9','2022-09-3','2001-08-21'],dtype='datetime64[ns]')\n",
    "print(s)"
   ]
  },
  {
   "cell_type": "code",
   "execution_count": 7,
   "metadata": {},
   "outputs": [
    {
     "name": "stdout",
     "output_type": "stream",
     "text": [
      "0    1\n",
      "1    2\n",
      "2    3\n",
      "3    4\n",
      "4    6\n",
      "Name: Naveen, dtype: int64\n"
     ]
    }
   ],
   "source": [
    "# Series with custom name\n",
    "import pandas as ps\n",
    "s=ps.Series([1,2,3,4,6],name='Naveen')\n",
    "print(s)\n"
   ]
  },
  {
   "attachments": {},
   "cell_type": "markdown",
   "metadata": {},
   "source": [
    "DataFrame:\n",
    "\t-> A dataframe in pandas is a two-dimentional, size-mutable, tabular data structure with labeled axis(rows and columns).\n",
    "\t-> It is similar to a spreadsheet in Excel or a SQL table, but with more powerful indexing and data manupulation capabilities.\n",
    "\t-> DataFrames can be created from a variety of sources, including CSV files, Excel files, SQL databases and python dictionaries.\n",
    "\t-> Once you have a dataframe, you can use variety of methods to manupulate and analyze the data, such as filtering, sorting, grouping, and aggregating.\n",
    "\t-> Overall, dataframes are a key data structure in pandas and are widely used in data analysis and data science workflows.\n",
    "\t-> Example:\n",
    "\t\timport pandas as pd\n",
    "\t\tdata = {'Name':['Naveen','Ram','Krisha','Tharun'],'Age':[23,21,22,19],'Score':[8,10,7,10]}\n",
    "\t\tdf = pd.DataFrame(data)\n",
    "\t\tprint(df)"
   ]
  },
  {
   "cell_type": "code",
   "execution_count": 15,
   "metadata": {},
   "outputs": [
    {
     "name": "stdout",
     "output_type": "stream",
     "text": [
      "Name\n",
      "Krisha    22.0\n",
      "Naveen    23.0\n",
      "Ram       21.0\n",
      "Tharun    19.0\n",
      "Name: Age, dtype: float64\n"
     ]
    }
   ],
   "source": [
    "# DataFrame basic example\n",
    "import pandas as pd\n",
    "data = {'Name':['Naveen','Ram','Krisha','Tharun'],'Age':[23,21,22,19],'Score':[8,10,7,10]}\n",
    "df = pd.DataFrame(data)\n",
    "df=df.groupby('Name')['Age'].mean()\n",
    "print(df)"
   ]
  }
 ],
 "metadata": {
  "kernelspec": {
   "display_name": "Python 3",
   "language": "python",
   "name": "python3"
  },
  "language_info": {
   "codemirror_mode": {
    "name": "ipython",
    "version": 3
   },
   "file_extension": ".py",
   "mimetype": "text/x-python",
   "name": "python",
   "nbconvert_exporter": "python",
   "pygments_lexer": "ipython3",
   "version": "3.11.3"
  },
  "orig_nbformat": 4
 },
 "nbformat": 4,
 "nbformat_minor": 2
}
