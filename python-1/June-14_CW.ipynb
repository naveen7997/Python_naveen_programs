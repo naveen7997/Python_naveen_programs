{
 "cells": [
  {
   "cell_type": "code",
   "execution_count": 1,
   "metadata": {},
   "outputs": [
    {
     "name": "stdout",
     "output_type": "stream",
     "text": [
      "Positive\n"
     ]
    }
   ],
   "source": [
    "#1\n",
    "n=int(input())\n",
    "if n>0:\n",
    "    print(\"Positive\")\n",
    "else:\n",
    "    print(\"Negative\")"
   ]
  },
  {
   "cell_type": "code",
   "execution_count": 2,
   "metadata": {},
   "outputs": [
    {
     "name": "stdout",
     "output_type": "stream",
     "text": [
      "Even\n"
     ]
    }
   ],
   "source": [
    "#2\n",
    "n=int(input())\n",
    "if n%2==0:\n",
    "    print(\"Even\")\n",
    "else:\n",
    "    print(\"Odd\")"
   ]
  },
  {
   "cell_type": "code",
   "execution_count": 3,
   "metadata": {},
   "outputs": [
    {
     "name": "stdout",
     "output_type": "stream",
     "text": [
      "Greater\n"
     ]
    }
   ],
   "source": [
    "#3\n",
    "n=int(input())\n",
    "if n>10:\n",
    "    print(\"Greater\")\n",
    "else:\n",
    "    print(\"Not Greater\")"
   ]
  },
  {
   "cell_type": "code",
   "execution_count": 4,
   "metadata": {},
   "outputs": [
    {
     "name": "stdout",
     "output_type": "stream",
     "text": [
      "8\n"
     ]
    }
   ],
   "source": [
    "#4\n",
    "n=int(input())\n",
    "if 45<n<125:\n",
    "    print(chr(n))"
   ]
  },
  {
   "cell_type": "code",
   "execution_count": 7,
   "metadata": {},
   "outputs": [
    {
     "name": "stdout",
     "output_type": "stream",
     "text": [
      "Good Evening\n"
     ]
    }
   ],
   "source": [
    "#5\n",
    "a,b=int(input()),int(input())\n",
    "if a%3==0 and a%5==0 and b%3==0 and b%5==0:\n",
    "    print(\"Good Morning\")\n",
    "else:\n",
    "    print(\"Good Evening\")"
   ]
  },
  {
   "cell_type": "code",
   "execution_count": null,
   "metadata": {},
   "outputs": [],
   "source": [
    "#6\n",
    "a,b=int(input()),int(input())\n",
    "if a==b:\n",
    "    print(a*b)"
   ]
  },
  {
   "cell_type": "code",
   "execution_count": 8,
   "metadata": {},
   "outputs": [
    {
     "name": "stdout",
     "output_type": "stream",
     "text": [
      "34 Greater than 23\n"
     ]
    }
   ],
   "source": [
    "#7\n",
    "a,b=int(input()),int(input())\n",
    "if a>b:\n",
    "    print(a,\"Greater than\",b)\n",
    "else:\n",
    "    print(b,\"Greater than\",a)"
   ]
  },
  {
   "cell_type": "code",
   "execution_count": null,
   "metadata": {},
   "outputs": [],
   "source": [
    "#8\n",
    "a=int(input())\n",
    "if a>10:\n",
    "    print(\"Greater\",a)\n",
    "else:\n",
    "    print(\"Lesser\",a)\n",
    "    "
   ]
  },
  {
   "cell_type": "code",
   "execution_count": null,
   "metadata": {},
   "outputs": [],
   "source": [
    "#9\n",
    "a=int(input())\n",
    "if a>21:\n",
    "    print(\"Absolute difference : \",a-21)\n",
    "else:\n",
    "    print(\"Twice the absolute difference : \",21-a)"
   ]
  }
 ],
 "metadata": {
  "kernelspec": {
   "display_name": "Python 3",
   "language": "python",
   "name": "python3"
  },
  "language_info": {
   "codemirror_mode": {
    "name": "ipython",
    "version": 3
   },
   "file_extension": ".py",
   "mimetype": "text/x-python",
   "name": "python",
   "nbconvert_exporter": "python",
   "pygments_lexer": "ipython3",
   "version": "3.11.3"
  },
  "orig_nbformat": 4
 },
 "nbformat": 4,
 "nbformat_minor": 2
}
