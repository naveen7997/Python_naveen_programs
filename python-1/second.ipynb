{
 "cells": [
  {
   "cell_type": "code",
   "execution_count": 4,
   "metadata": {},
   "outputs": [
    {
     "name": "stdout",
     "output_type": "stream",
     "text": [
      "Qspiders\n"
     ]
    }
   ],
   "source": [
    "s='pyspiders'\n",
    "print('Q'+s[2:])"
   ]
  },
  {
   "cell_type": "code",
   "execution_count": 5,
   "metadata": {},
   "outputs": [
    {
     "name": "stdout",
     "output_type": "stream",
     "text": [
      "Qspiers\n"
     ]
    }
   ],
   "source": [
    "s='Qspiders'\n",
    "print(s[:4]+s[4+1:])"
   ]
  },
  {
   "cell_type": "code",
   "execution_count": 6,
   "metadata": {},
   "outputs": [
    {
     "name": "stdout",
     "output_type": "stream",
     "text": [
      "Qsrs\n"
     ]
    }
   ],
   "source": [
    "s='Qspiders'\n",
    "r=s[:2]+s[-2:]\n",
    "print(r)\n"
   ]
  },
  {
   "cell_type": "code",
   "execution_count": 7,
   "metadata": {},
   "outputs": [
    {
     "name": "stdout",
     "output_type": "stream",
     "text": [
      "[10, 12, 34, 65]\n",
      "[100, 10, 12, 34, 65]\n",
      "[200, 10, 12, 34, 65]\n"
     ]
    }
   ],
   "source": [
    "l=[12,34,65]\n",
    "l=[10]+l\n",
    "print(l)\n",
    "\n",
    "t=[100]\n",
    "t+=l\n",
    "print(t)\n",
    "\n",
    "l[0:0]=[200]\n",
    "print(l)"
   ]
  },
  {
   "cell_type": "code",
   "execution_count": 8,
   "metadata": {},
   "outputs": [
    {
     "name": "stdout",
     "output_type": "stream",
     "text": [
      "[12, 34, 65, 10]\n",
      "[12, 34, 65, 10, 200]\n"
     ]
    }
   ],
   "source": [
    "l=[12,34,65]\n",
    "l+=[10]\n",
    "print(l)\n",
    "\n",
    "l[9:9]=[200]\n",
    "print(l)"
   ]
  },
  {
   "cell_type": "code",
   "execution_count": 9,
   "metadata": {},
   "outputs": [
    {
     "name": "stdout",
     "output_type": "stream",
     "text": [
      "2383449327936\n",
      "2383449327936\n",
      "[10, 20, 'Naveen', 304, 40, 50]\n"
     ]
    }
   ],
   "source": [
    "l=[10,20,304,40,50]\n",
    "print(id(l))\n",
    "l[len(l)//2:len(l)//2]=['Naveen']\n",
    "print(id(l))\n",
    "print(l)"
   ]
  },
  {
   "cell_type": "code",
   "execution_count": 10,
   "metadata": {},
   "outputs": [
    {
     "name": "stdout",
     "output_type": "stream",
     "text": [
      "[10, 20, 'abcd', 40, 50]\n"
     ]
    }
   ],
   "source": [
    "l=[10,20,304,40,50]\n",
    "l[len(l)//2]='abcd'\n",
    "print(l)"
   ]
  },
  {
   "cell_type": "code",
   "execution_count": 11,
   "metadata": {},
   "outputs": [
    {
     "name": "stdout",
     "output_type": "stream",
     "text": [
      "[10, 'naveen', 20, 304, 40, 50]\n"
     ]
    }
   ],
   "source": [
    "l=[10,20,304,40,50]\n",
    "l[1:1]=['naveen']\n",
    "print(l)"
   ]
  },
  {
   "cell_type": "code",
   "execution_count": 12,
   "metadata": {},
   "outputs": [
    {
     "name": "stdout",
     "output_type": "stream",
     "text": [
      "[10, 40, 50]\n"
     ]
    }
   ],
   "source": [
    "l=[10,20,30,40,50]\n",
    "del l[1:3]\n",
    "print(l)"
   ]
  },
  {
   "cell_type": "code",
   "execution_count": 13,
   "metadata": {},
   "outputs": [
    {
     "name": "stdout",
     "output_type": "stream",
     "text": [
      "[10, 20, 40, 50]\n"
     ]
    }
   ],
   "source": [
    "l=[10,20,30,40,50]\n",
    "del l[len(l)//2]\n",
    "print(l)"
   ]
  },
  {
   "cell_type": "code",
   "execution_count": 15,
   "metadata": {},
   "outputs": [
    {
     "name": "stdout",
     "output_type": "stream",
     "text": [
      "[20, 30, 40, 50]\n",
      "[20, 30, 40, 50]\n"
     ]
    }
   ],
   "source": [
    "l=[10,20,30,40,50]\n",
    "del l[0]\n",
    "print(l)\n",
    "\n",
    "l=[10,20,30,40,50]\n",
    "del l[-len(l)]\n",
    "print(l)"
   ]
  },
  {
   "cell_type": "code",
   "execution_count": 17,
   "metadata": {},
   "outputs": [
    {
     "name": "stdout",
     "output_type": "stream",
     "text": [
      "[10, 40, 50]\n",
      "[10, 40, 50]\n"
     ]
    }
   ],
   "source": [
    "l=[10,20,30,40,50]\n",
    "del l[1:3]\n",
    "print(l)\n",
    "\n",
    "l=[10,20,30,40,50]\n",
    "del l[2:0:-1]\n",
    "print(l)"
   ]
  },
  {
   "cell_type": "code",
   "execution_count": 23,
   "metadata": {},
   "outputs": [
    {
     "name": "stdout",
     "output_type": "stream",
     "text": [
      "2383421606304\n",
      "('a', 1, 2, 4, 6, 8, 9) 2383449071744\n",
      "('a', 1, 2, 4, 6, 8, 9) 2383449071744\n"
     ]
    }
   ],
   "source": [
    "tu=(1,2,4,6,8,9)\n",
    "print(id(tu))\n",
    "tu=('a',)+tu\n",
    "print(tu,id(tu))\n",
    "\n",
    "tu=(1,2,4,6,8,9)\n",
    "print(id(tu))\n",
    "tu=tuple('a')+tu\n",
    "print(tu,id(tu))"
   ]
  },
  {
   "cell_type": "code",
   "execution_count": 24,
   "metadata": {},
   "outputs": [
    {
     "name": "stdout",
     "output_type": "stream",
     "text": [
      "(1, 2, 4, 'a', 'b', 6, 8, 9)\n"
     ]
    }
   ],
   "source": [
    "t=(1,2,4,6,8,9)\n",
    "t=t[:len(t)//2]+('a','b')+t[len(t)//2:]\n",
    "print(t)"
   ]
  },
  {
   "cell_type": "code",
   "execution_count": 27,
   "metadata": {},
   "outputs": [
    {
     "name": "stdout",
     "output_type": "stream",
     "text": [
      "(1, 2, 'a', 'b', 4, 6, 8, 9)\n"
     ]
    }
   ],
   "source": [
    "t=(1,2,4,6,8,9)\n",
    "t=t[:2]+('a','b')+t[2:]\n",
    "print(t)"
   ]
  },
  {
   "cell_type": "code",
   "execution_count": 32,
   "metadata": {},
   "outputs": [
    {
     "name": "stdout",
     "output_type": "stream",
     "text": [
      "2383421606304\n",
      "2383403269728\n"
     ]
    }
   ],
   "source": [
    "t=(1,2,4,6,8,9)\n",
    "print(id(t))\n",
    "t+=('Hi','Hello')\n",
    "print(id(t))\n"
   ]
  },
  {
   "cell_type": "code",
   "execution_count": 42,
   "metadata": {},
   "outputs": [
    {
     "name": "stdout",
     "output_type": "stream",
     "text": [
      "('Naveen', 1, 2, 4, 6, 8, 9)\n",
      "(1, 2, 4, 6, 8, 9, 'naveen', 'ram')\n"
     ]
    }
   ],
   "source": [
    "t=(1,2,4,6,8,9)\n",
    "t=('Naveen',)+t[:-1]+(t[-1],)\n",
    "print(t)\n",
    "\n",
    "t=(1,2,4,6,8,9)\n",
    "t+='naveen','ram'\n",
    "print(t)"
   ]
  },
  {
   "cell_type": "code",
   "execution_count": 48,
   "metadata": {},
   "outputs": [
    {
     "name": "stdout",
     "output_type": "stream",
     "text": [
      "2383454984608\n",
      "{50, 20, 70, 40, 10, 60, 30} 2383454982368\n",
      "{'naveen', 50, 20, 40, 10, 30}\n",
      "{50, 40, 10}\n"
     ]
    }
   ],
   "source": [
    "# set operations\n",
    "#Union\n",
    "s={10,20,30,40,50}\n",
    "print(id(s))\n",
    "s=s|{60,70}\n",
    "print(s,id(s))\n",
    "\n",
    "s={10,20,30,40,50}\n",
    "s|={'naveen'}\n",
    "print(s)\n",
    "\n",
    "#Deletion\n",
    "s={10,20,30,40,50}\n",
    "s-={20,30}\n",
    "print(s)"
   ]
  },
  {
   "cell_type": "code",
   "execution_count": 57,
   "metadata": {},
   "outputs": [
    {
     "name": "stdout",
     "output_type": "stream",
     "text": [
      "{1: 10, 2: 40, 3: 30} 2383455265920\n",
      "{1: 10, 2: 40, 3: 30, 'name': 'Naveen', 'language': 'Telugu'} 2383455265920\n",
      "{1: 10, 2: 40, 3: 30}\n"
     ]
    }
   ],
   "source": [
    "#Dictionary operations\n",
    "#Modification\n",
    "d={1:10,2:20,3:30}\n",
    "d[2]=40\n",
    "print(d,id(d))\n",
    "d|={'name':'Naveen','language':'Telugu'}\n",
    "print(d,id(d))\n",
    "#Delete multiple values from dictionary\n",
    "del [d['language'],d['name']]\n",
    "print(d)\n"
   ]
  },
  {
   "cell_type": "code",
   "execution_count": 3,
   "metadata": {},
   "outputs": [
    {
     "name": "stdout",
     "output_type": "stream",
     "text": [
      "3\n"
     ]
    }
   ],
   "source": [
    "#extract the last second digit from a given number \n",
    "n=212738\n",
    "n=(n//10)%10\n",
    "print(n)"
   ]
  },
  {
   "cell_type": "code",
   "execution_count": 4,
   "metadata": {},
   "outputs": [
    {
     "name": "stdout",
     "output_type": "stream",
     "text": [
      "False\n"
     ]
    }
   ],
   "source": [
    "# Last digit is divisible by 3 or not\n",
    "n=123235\n",
    "print((n%10)%3==0)"
   ]
  },
  {
   "cell_type": "code",
   "execution_count": 7,
   "metadata": {},
   "outputs": [
    {
     "name": "stdout",
     "output_type": "stream",
     "text": [
      "False\n"
     ]
    }
   ],
   "source": [
    "# Last digit is divisible by 3 or not without type casting\n",
    "n=2736472645\n",
    "print(int(str(n)[-1])%3==0)"
   ]
  },
  {
   "cell_type": "code",
   "execution_count": 41,
   "metadata": {},
   "outputs": [
    {
     "name": "stdout",
     "output_type": "stream",
     "text": [
      "     * 1\n",
      "    * * * 3\n",
      "   * * * * * 5\n",
      "  * * * * * * * 7\n",
      " * * * * * * * * * 9\n"
     ]
    }
   ],
   "source": [
    "m=10\n",
    "n=m\n",
    "i=0\n",
    "while(n>0):\n",
    "    for j in range(n//2):\n",
    "        print(\" \",end='')\n",
    "    for j in range(i+1):\n",
    "        print('* ',end='')\n",
    "    print()\n",
    "    n=n-2\n",
    "    i+=1\n",
    "    \n",
    "    \n"
   ]
  }
 ],
 "metadata": {
  "kernelspec": {
   "display_name": "Python 3",
   "language": "python",
   "name": "python3"
  },
  "language_info": {
   "codemirror_mode": {
    "name": "ipython",
    "version": 3
   },
   "file_extension": ".py",
   "mimetype": "text/x-python",
   "name": "python",
   "nbconvert_exporter": "python",
   "pygments_lexer": "ipython3",
   "version": "3.11.3"
  },
  "orig_nbformat": 4
 },
 "nbformat": 4,
 "nbformat_minor": 2
}
