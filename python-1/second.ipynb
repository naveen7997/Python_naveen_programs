{
 "cells": [
  {
   "cell_type": "code",
   "execution_count": 1,
   "metadata": {},
   "outputs": [
    {
     "name": "stdout",
     "output_type": "stream",
     "text": [
      "Qspiders\n"
     ]
    }
   ],
   "source": [
    "s='pyspiders'\n",
    "print('Q'+s[2:])"
   ]
  },
  {
   "cell_type": "code",
   "execution_count": 3,
   "metadata": {},
   "outputs": [
    {
     "name": "stdout",
     "output_type": "stream",
     "text": [
      "Qspiers\n"
     ]
    }
   ],
   "source": [
    "s='Qspiders'\n",
    "print(s[:4]+s[4+1:])"
   ]
  },
  {
   "cell_type": "code",
   "execution_count": 5,
   "metadata": {},
   "outputs": [
    {
     "name": "stdout",
     "output_type": "stream",
     "text": [
      "Qsrs\n"
     ]
    }
   ],
   "source": [
    "s='Qspiders'\n",
    "r=s[:2]+s[-2:]\n",
    "print(r)\n"
   ]
  },
  {
   "cell_type": "code",
   "execution_count": 12,
   "metadata": {},
   "outputs": [
    {
     "name": "stdout",
     "output_type": "stream",
     "text": [
      "[10, 12, 34, 65]\n",
      "[100, 10, 12, 34, 65]\n",
      "[200, 10, 12, 34, 65]\n"
     ]
    }
   ],
   "source": [
    "l=[12,34,65]\n",
    "l=[10]+l\n",
    "print(l)\n",
    "\n",
    "t=[100]\n",
    "t+=l\n",
    "print(t)\n",
    "\n",
    "l[0:0]=[200]\n",
    "print(l)"
   ]
  },
  {
   "cell_type": "code",
   "execution_count": 14,
   "metadata": {},
   "outputs": [
    {
     "name": "stdout",
     "output_type": "stream",
     "text": [
      "[12, 34, 65, 10]\n",
      "[12, 34, 65, 10, 200]\n"
     ]
    }
   ],
   "source": [
    "l=[12,34,65]\n",
    "l+=[10]\n",
    "print(l)\n",
    "\n",
    "l[9:9]=[200]\n",
    "print(l)"
   ]
  },
  {
   "cell_type": "code",
   "execution_count": 27,
   "metadata": {},
   "outputs": [
    {
     "name": "stdout",
     "output_type": "stream",
     "text": [
      "1985132392064\n",
      "1985132392064\n",
      "[10, 20, 'Naveen', 304, 40, 50]\n"
     ]
    }
   ],
   "source": [
    "l=[10,20,304,40,50]\n",
    "print(id(l))\n",
    "l[len(l)//2:len(l)//2]=['Naveen']\n",
    "print(id(l))\n",
    "print(l)"
   ]
  },
  {
   "cell_type": "code",
   "execution_count": 28,
   "metadata": {},
   "outputs": [
    {
     "name": "stdout",
     "output_type": "stream",
     "text": [
      "[10, 20, 'abcd', 40, 50]\n"
     ]
    }
   ],
   "source": [
    "l=[10,20,304,40,50]\n",
    "l[len(l)//2]='abcd'\n",
    "print(l)"
   ]
  },
  {
   "cell_type": "code",
   "execution_count": 32,
   "metadata": {},
   "outputs": [
    {
     "name": "stdout",
     "output_type": "stream",
     "text": [
      "[10, 'naveen', 20, 304, 40, 50]\n"
     ]
    }
   ],
   "source": [
    "l=[10,20,304,40,50]\n",
    "l[1:1]=['naveen']\n",
    "print(l)"
   ]
  },
  {
   "cell_type": "code",
   "execution_count": null,
   "metadata": {},
   "outputs": [],
   "source": []
  }
 ],
 "metadata": {
  "kernelspec": {
   "display_name": "Python 3",
   "language": "python",
   "name": "python3"
  },
  "language_info": {
   "codemirror_mode": {
    "name": "ipython",
    "version": 3
   },
   "file_extension": ".py",
   "mimetype": "text/x-python",
   "name": "python",
   "nbconvert_exporter": "python",
   "pygments_lexer": "ipython3",
   "version": "3.11.3"
  },
  "orig_nbformat": 4
 },
 "nbformat": 4,
 "nbformat_minor": 2
}
